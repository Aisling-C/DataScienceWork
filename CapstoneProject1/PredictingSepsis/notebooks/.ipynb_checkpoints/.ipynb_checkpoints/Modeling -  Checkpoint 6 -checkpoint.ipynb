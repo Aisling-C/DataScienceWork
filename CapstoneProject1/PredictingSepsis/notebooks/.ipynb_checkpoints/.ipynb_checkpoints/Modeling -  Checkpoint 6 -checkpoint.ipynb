{
 "cells": [
  {
   "cell_type": "markdown",
   "metadata": {},
   "source": [
    "# Overview"
   ]
  },
  {
   "cell_type": "markdown",
   "metadata": {},
   "source": [
    "    -Test/Train Split\n",
    "    -Min Max Scaling "
   ]
  },
  {
   "cell_type": "markdown",
   "metadata": {},
   "source": [
    "# Load Libraries & Data"
   ]
  },
  {
   "cell_type": "code",
   "execution_count": 1,
   "metadata": {},
   "outputs": [],
   "source": [
    "import glob, os\n",
    "import pandas as pd\n",
    "import numpy as np\n",
    "import json\n",
    "import seaborn as sns\n",
    "import matplotlib.pyplot as plt\n",
    "from IPython.display import Image\n",
    "from scipy.stats import uniform\n",
    "from datetime import datetime\n",
    "pd.set_option('display.max_rows', 500)\n",
    "pd.set_option('display.max_columns', 500)"
   ]
  },
  {
   "cell_type": "code",
   "execution_count": 2,
   "metadata": {},
   "outputs": [
    {
     "ename": "FileNotFoundError",
     "evalue": "[WinError 3] The system cannot find the path specified: '../src/data'",
     "output_type": "error",
     "traceback": [
      "\u001b[1;31m---------------------------------------------------------------------------\u001b[0m",
      "\u001b[1;31mFileNotFoundError\u001b[0m                         Traceback (most recent call last)",
      "\u001b[1;32m<ipython-input-2-a3cfa4e9db99>\u001b[0m in \u001b[0;36m<module>\u001b[1;34m\u001b[0m\n\u001b[1;32m----> 1\u001b[1;33m \u001b[0mos\u001b[0m\u001b[1;33m.\u001b[0m\u001b[0mchdir\u001b[0m\u001b[1;33m(\u001b[0m\u001b[1;34m\"../src/data\"\u001b[0m\u001b[1;33m)\u001b[0m\u001b[1;33m\u001b[0m\u001b[1;33m\u001b[0m\u001b[0m\n\u001b[0m\u001b[0;32m      2\u001b[0m \u001b[1;32mfrom\u001b[0m \u001b[0mtime_elapsed\u001b[0m \u001b[1;32mimport\u001b[0m \u001b[0mtime_elapsed\u001b[0m\u001b[1;33m\u001b[0m\u001b[1;33m\u001b[0m\u001b[0m\n",
      "\u001b[1;31mFileNotFoundError\u001b[0m: [WinError 3] The system cannot find the path specified: '../src/data'"
     ]
    }
   ],
   "source": [
    "os.chdir(\"../src/data\")\n",
    "from time_elapsed import time_elapsed"
   ]
  },
  {
   "cell_type": "code",
   "execution_count": null,
   "metadata": {},
   "outputs": [],
   "source": [
    "os.chdir(\"../../data/interim\")\n",
    "\n",
    "#Load in Data\n",
    "#First, the notes\n",
    "with open(\"Data_Notes.json\", \"r\") as infile:  \n",
    "    notes=json.load(infile)\n",
    "    \n",
    "os.chdir(\"../processed\")\n",
    "#Next, the actual data\n",
    "df=pd.read_csv('sepsis_data_preprocessed.csv',index_col=0)"
   ]
  },
  {
   "cell_type": "code",
   "execution_count": null,
   "metadata": {},
   "outputs": [],
   "source": [
    "df.info()"
   ]
  },
  {
   "cell_type": "code",
   "execution_count": null,
   "metadata": {},
   "outputs": [],
   "source": [
    "#Sklearn imports\n",
    "from sklearn.model_selection import train_test_split, RandomizedSearchCV, KFold, GridSearchCV\n",
    "from sklearn.preprocessing import MinMaxScaler\n",
    "from sklearn.pipeline import Pipeline\n",
    "from sklearn.ensemble import RandomForestClassifier, GradientBoostingClassifier\n",
    "from sklearn.linear_model import LogisticRegression\n",
    "from sklearn.dummy import DummyClassifier\n",
    "from sklearn.svm import SVC\n",
    "from sklearn.datasets import make_classification\n",
    "from sklearn.metrics import plot_confusion_matrix, classification_report, \\\n",
    "roc_curve, plot_precision_recall_curve, precision_recall_curve, confusion_matrix, auc\n",
    "from sklearn.feature_selection import SelectFromModel"
   ]
  },
  {
   "cell_type": "markdown",
   "metadata": {},
   "source": [
    "## Preventing Data Leakage in Train & Test Sets"
   ]
  },
  {
   "cell_type": "code",
   "execution_count": null,
   "metadata": {},
   "outputs": [],
   "source": [
    "#Generate matrix with all patient id's randomly shuffled (id_shuff)\n",
    "np.random.seed(seed=105)\n",
    "id_shuff=df.id.unique()\n",
    "np.random.shuffle(id_shuff)\n",
    "#Split into test & train arrays of 1/4 and 3/4 the original size\n",
    "n=int(round(id_shuff.size*0.25,0))\n",
    "test_id=id_shuff[0:n]\n",
    "train_id=id_shuff[n:]"
   ]
  },
  {
   "cell_type": "code",
   "execution_count": null,
   "metadata": {},
   "outputs": [],
   "source": [
    "#Calculate percent of time points in test df\n",
    "len(df[df.id.isin(test_id)])/(len(df))"
   ]
  },
  {
   "cell_type": "code",
   "execution_count": null,
   "metadata": {},
   "outputs": [],
   "source": [
    "#Calculate percent of patients with sepsis in test df \n",
    "df[df.id.isin(test_id)].SepsisOnset.sum()/459"
   ]
  },
  {
   "cell_type": "code",
   "execution_count": null,
   "metadata": {},
   "outputs": [],
   "source": [
    "#Create Test/Train X\n",
    "X_train=df[df.id.isin(train_id)].copy()\n",
    "X_test=df[df.id.isin(test_id)].copy()\n",
    "#Randomize order (perhaps not needed?)\n",
    "#X_train=X_train.sample(frac=1)\n",
    "#X_test=X_test.sample(frac=1)\n",
    "\n",
    "#Create Test/Train Y\n",
    "y_train=pd.concat([X_train.loc[:,'Pre_Sep_Sep':'Pre_Sepsis_Six'],X_train.SepsisLabel],axis=1)\n",
    "y_test=pd.concat([X_test.loc[:,'Pre_Sep_Sep':'Pre_Sepsis_Six'],X_test.SepsisLabel],axis=1)\n",
    "\n",
    "#Drop all classifiers from X\n",
    "X_train.drop(columns=['SepsisLabel','SepsisOnset', 'Pre_Sep_Sep', 'Pre_Sep_No_Sep', 'Pre_Sep_Small','Pre_Sepsis_Six','id'],inplace=True)\n",
    "X_test.drop(columns=['SepsisLabel','SepsisOnset', 'Pre_Sep_Sep', 'Pre_Sep_No_Sep', 'Pre_Sep_Small','Pre_Sepsis_Six','id'],inplace=True)"
   ]
  },
  {
   "cell_type": "code",
   "execution_count": null,
   "metadata": {},
   "outputs": [],
   "source": [
    "#Fit Min-Max Scaler to X_train data, transform X_train and X_test data\n",
    "#MM_scale=MinMaxScaler()\n",
    "#MM_scale.fit(X_train)\n",
    "#X_train=MM_scale.transform(X_train)\n",
    "#X_test=MM_scale.transform(X_test)\n",
    "\n",
    "#Split y_train into various classification columns \n",
    "y_train_six=y_train['Pre_Sepsis_Six']\n",
    "y_train_pre_sep_small=y_train['Pre_Sep_Small']\n",
    "y_train_pre_sep_2=y_train['Pre_Sep_No_Sep']\n",
    "y_train_pre_sep_3=y_train['Pre_Sep_Sep']\n",
    "y_train_sepsis=y_train['SepsisLabel']\n",
    "\n",
    "#Split y_test into various classification columns \n",
    "y_test_six=y_test['Pre_Sepsis_Six']\n",
    "y_test_pre_sep_small=y_test['Pre_Sep_Small']\n",
    "y_test_pre_sep_2=y_test['Pre_Sep_No_Sep']\n",
    "y_test_pre_sep_3=y_test['Pre_Sep_Sep']\n",
    "y_test_sepsis=y_test['SepsisLabel']\n",
    "\n",
    "#Create kfolds CV objest (to allow for sequential folding, not random - prevents data leakage in cross folds)\n",
    "folds=KFold(n_splits=4)"
   ]
  },
  {
   "cell_type": "markdown",
   "metadata": {},
   "source": [
    "# Modeling Sepsis Label"
   ]
  },
  {
   "cell_type": "markdown",
   "metadata": {},
   "source": [
    "## Random Forest\n"
   ]
  },
  {
   "cell_type": "code",
   "execution_count": null,
   "metadata": {},
   "outputs": [],
   "source": [
    "#Find optimal random forest parameters for modelling Sepsis Label\n",
    "start = datetime.now()\n",
    "RFC = RandomForestClassifier(random_state=42,max_features='sqrt',n_estimators=500)\n",
    "max_depth = [x**2 for x in range(2,10)]\n",
    "min_samples_split = [4,7,12]\n",
    "min_samples_leaf = [4,7,12]\n",
    "distributions = {'max_depth': max_depth,\n",
    "               'min_samples_split': min_samples_split,\n",
    "               'min_samples_leaf': min_samples_leaf}\n",
    "RFC_RS=RandomizedSearchCV(RFC,distributions,random_state=42,n_iter=20,cv=folds.split(X_train),n_jobs=-1)\n",
    "search_RFC_Sepsis=RFC_RS.fit(X_train, y_train_pre_sep_small)\n",
    "end = datetime.now()\n",
    "time_elapsed(start,end)\n",
    "search_RFC_Sepsis.best_params_"
   ]
  },
  {
   "cell_type": "code",
   "execution_count": null,
   "metadata": {},
   "outputs": [],
   "source": [
    "best_dict=search_RFC_Sepsis.best_params_\n",
    "#best_dict={'min_samples_split': 7, 'min_samples_leaf': 7, 'max_depth': 3}"
   ]
  },
  {
   "cell_type": "code",
   "execution_count": null,
   "metadata": {},
   "outputs": [],
   "source": [
    "#Create Model\n",
    "start = datetime.now()\n",
    "RFC_=RandomForestClassifier(n_estimators=5000, min_samples_split=best_dict['min_samples_split'],\n",
    "min_samples_leaf=best_dict['min_samples_leaf'], max_features='sqrt', max_depth=best_dict['max_depth'],\n",
    "random_state=42,n_jobs=-1)\n",
    "RFC_.fit(X_train,y_train_sepsis)\n",
    "end = datetime.now()\n",
    "time_elapsed(start,end)"
   ]
  },
  {
   "cell_type": "code",
   "execution_count": null,
   "metadata": {},
   "outputs": [],
   "source": [
    "#Results for Training Set\n",
    "yhat = RFC_.predict_proba(X_train)\n",
    "yhat = yhat[:, 1]\n",
    "precision, recall, thresholds = precision_recall_curve(y_train_sepsis, yhat)\n",
    "fscore = (2 * precision * recall) / (precision + recall)\n",
    "ix = np.argmax(fscore)\n",
    "print('Best Threshold=%f, F-Score=%.3f' % (thresholds[ix], fscore[ix]))\n",
    "no_skill = len(y_train_sepsis[y_train_sepsis==1]) / len(y_train_sepsis)\n",
    "auc_=round(auc(recall,precision),3)\n",
    "plt.plot([0,1], [no_skill,no_skill], linestyle='--', label='No Skill',c='orange')\n",
    "plt.scatter(recall, precision, marker='.', label='Random Forest',s=10)\n",
    "plt.scatter(recall[ix], precision[ix], marker='o', color='black', label='Best',s=100)\n",
    "plt.text(0, .25, 'AUC: {}'.format(auc_), style='italic',\n",
    "        bbox={'facecolor': 'red', 'alpha': 0.5, 'pad': 10})\n",
    "# axis labels\n",
    "plt.xlabel('Recall')\n",
    "plt.ylabel('Precision')\n",
    "plt.title('Sepsis Label Training Data')\n",
    "plt.legend()\n",
    "# show the plot\n",
    "plt.show()"
   ]
  },
  {
   "cell_type": "code",
   "execution_count": null,
   "metadata": {},
   "outputs": [],
   "source": [
    "#Results for Test Set\n",
    "yhat = RFC3.predict_proba(X_test)\n",
    "yhat = yhat[:, 1]\n",
    "precision, recall, thresholds = precision_recall_curve(y_test_sepsis, yhat)\n",
    "fscore = (2 * precision * recall) / (precision + recall)\n",
    "ix = np.argmax(fscore)\n",
    "print('Best Threshold=%f, F-Score=%.3f' % (thresholds[ix], fscore[ix]))\n",
    "no_skill = len(y_test_sepsis[y_test_sepsis==1]) / len(y_test_sepsis)\n",
    "auc_=round(auc(recall,precision),3)\n",
    "plt.plot([0,1], [no_skill,no_skill], linestyle='--', label='No Skill',c='orange')\n",
    "plt.scatter(recall, precision, marker='.', label='Random Forest',s=10)\n",
    "plt.scatter(recall[ix], precision[ix], marker='o', color='black', label='Best',s=100)\n",
    "plt.text(0, .25, 'AUC: {}'.format(auc_), style='italic',\n",
    "        bbox={'facecolor': 'red', 'alpha': 0.5, 'pad': 10})\n",
    "# axis labels\n",
    "plt.xlabel('Recall')\n",
    "plt.ylabel('Precision')\n",
    "plt.title('Sepsis Label Test Data')\n",
    "plt.legend()\n",
    "# show the plot\n",
    "plt.show()"
   ]
  },
  {
   "cell_type": "markdown",
   "metadata": {},
   "source": [
    "## XGBoost"
   ]
  },
  {
   "cell_type": "code",
   "execution_count": null,
   "metadata": {},
   "outputs": [],
   "source": [
    "#Find optimal random forest parameters for modelling Sepsis Label\n",
    "start = datetime.now()\n",
    "RFC = RandomForestClassifier(random_state=42,max_features='sqrt',n_estimators=500)\n",
    "max_depth = [x**2 for x in range(2,10)]\n",
    "min_samples_split = [4,7,12]\n",
    "min_samples_leaf = [4,7,12]\n",
    "distributions = {'max_depth': max_depth,\n",
    "               'min_samples_split': min_samples_split,\n",
    "               'min_samples_leaf': min_samples_leaf}\n",
    "RFC_RS=RandomizedSearchCV(RFC,distributions,random_state=42,n_iter=20,cv=folds.split(X_train),n_jobs=-1)\n",
    "search_RFC_Sepsis=RFC_RS.fit(X_train, y_train_pre_sep_small)\n",
    "end = datetime.now()\n",
    "time_elapsed(start,end)\n",
    "search_RFC_Sepsis.best_params_"
   ]
  },
  {
   "cell_type": "code",
   "execution_count": null,
   "metadata": {},
   "outputs": [],
   "source": [
    "best_dict=search_RFC_Sepsis.best_params_\n",
    "#best_dict={'min_samples_split': 7, 'min_samples_leaf': 7, 'max_depth': 3}"
   ]
  },
  {
   "cell_type": "code",
   "execution_count": null,
   "metadata": {},
   "outputs": [],
   "source": [
    "#Create Model\n",
    "start = datetime.now()\n",
    "RFC_=RandomForestClassifier(n_estimators=5000, min_samples_split=best_dict['min_samples_split'],\n",
    "min_samples_leaf=best_dict['min_samples_leaf'], max_features='sqrt', max_depth=best_dict['max_depth'],\n",
    "random_state=42,n_jobs=-1)\n",
    "RFC_.fit(X_train,y_train_sepsis)\n",
    "end = datetime.now()\n",
    "time_elapsed(start,end)"
   ]
  },
  {
   "cell_type": "code",
   "execution_count": null,
   "metadata": {},
   "outputs": [],
   "source": [
    "#Results for Training Set\n",
    "yhat = RFC_.predict_proba(X_train)\n",
    "yhat = yhat[:, 1]\n",
    "precision, recall, thresholds = precision_recall_curve(y_train_sepsis, yhat)\n",
    "fscore = (2 * precision * recall) / (precision + recall)\n",
    "ix = np.argmax(fscore)\n",
    "print('Best Threshold=%f, F-Score=%.3f' % (thresholds[ix], fscore[ix]))\n",
    "no_skill = len(y_train_sepsis[y_train_sepsis==1]) / len(y_train_sepsis)\n",
    "auc_=round(auc(recall,precision),3)\n",
    "plt.plot([0,1], [no_skill,no_skill], linestyle='--', label='No Skill',c='orange')\n",
    "plt.scatter(recall, precision, marker='.', label='Random Forest',s=10)\n",
    "plt.scatter(recall[ix], precision[ix], marker='o', color='black', label='Best',s=100)\n",
    "plt.text(0, .25, 'AUC: {}'.format(auc_), style='italic',\n",
    "        bbox={'facecolor': 'red', 'alpha': 0.5, 'pad': 10})\n",
    "# axis labels\n",
    "plt.xlabel('Recall')\n",
    "plt.ylabel('Precision')\n",
    "plt.title('Sepsis Label Training Data')\n",
    "plt.legend()\n",
    "# show the plot\n",
    "plt.show()"
   ]
  },
  {
   "cell_type": "code",
   "execution_count": null,
   "metadata": {},
   "outputs": [],
   "source": [
    "#Results for Test Set\n",
    "yhat = RFC3.predict_proba(X_test)\n",
    "yhat = yhat[:, 1]\n",
    "precision, recall, thresholds = precision_recall_curve(y_test_sepsis, yhat)\n",
    "fscore = (2 * precision * recall) / (precision + recall)\n",
    "ix = np.argmax(fscore)\n",
    "print('Best Threshold=%f, F-Score=%.3f' % (thresholds[ix], fscore[ix]))\n",
    "no_skill = len(y_test_sepsis[y_test_sepsis==1]) / len(y_test_sepsis)\n",
    "auc_=round(auc(recall,precision),3)\n",
    "plt.plot([0,1], [no_skill,no_skill], linestyle='--', label='No Skill',c='orange')\n",
    "plt.scatter(recall, precision, marker='.', label='Random Forest',s=10)\n",
    "plt.scatter(recall[ix], precision[ix], marker='o', color='black', label='Best',s=100)\n",
    "plt.text(0, .25, 'AUC: {}'.format(auc_), style='italic',\n",
    "        bbox={'facecolor': 'red', 'alpha': 0.5, 'pad': 10})\n",
    "# axis labels\n",
    "plt.xlabel('Recall')\n",
    "plt.ylabel('Precision')\n",
    "plt.title('Sepsis Label Test Data')\n",
    "plt.legend()\n",
    "# show the plot\n",
    "plt.show()"
   ]
  }
 ],
 "metadata": {
  "kernelspec": {
   "display_name": "Python 3",
   "language": "python",
   "name": "python3"
  },
  "language_info": {
   "codemirror_mode": {
    "name": "ipython",
    "version": 3
   },
   "file_extension": ".py",
   "mimetype": "text/x-python",
   "name": "python",
   "nbconvert_exporter": "python",
   "pygments_lexer": "ipython3",
   "version": "3.8.5"
  }
 },
 "nbformat": 4,
 "nbformat_minor": 4
}
