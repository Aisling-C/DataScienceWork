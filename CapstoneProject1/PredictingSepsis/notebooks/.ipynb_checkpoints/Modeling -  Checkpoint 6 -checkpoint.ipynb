{
 "cells": [
  {
   "cell_type": "markdown",
   "metadata": {},
   "source": [
    "# Overview"
   ]
  },
  {
   "cell_type": "markdown",
   "metadata": {},
   "source": [
    "    -Test/Train Split\n",
    "    -Min Max Scaling "
   ]
  },
  {
   "cell_type": "markdown",
   "metadata": {},
   "source": [
    "# Load Libraries & Data"
   ]
  },
  {
   "cell_type": "code",
   "execution_count": 1,
   "metadata": {},
   "outputs": [],
   "source": [
    "import glob, os\n",
    "import pandas as pd\n",
    "import numpy as np\n",
    "import json\n",
    "import seaborn as sns\n",
    "import matplotlib.pyplot as plt\n",
    "from IPython.display import Image\n",
    "from scipy.stats import uniform\n",
    "from datetime import datetime\n",
    "pd.set_option('display.max_rows', 500)\n",
    "pd.set_option('display.max_columns', 500)"
   ]
  },
  {
   "cell_type": "code",
   "execution_count": 2,
   "metadata": {},
   "outputs": [],
   "source": [
    "os.chdir(\"../src/data\")\n",
    "from time_elapsed import time_elapsed"
   ]
  },
  {
   "cell_type": "code",
   "execution_count": 3,
   "metadata": {},
   "outputs": [],
   "source": [
    "os.chdir(\"../../data/interim\")\n",
    "\n",
    "#Load in Data\n",
    "#First, the notes\n",
    "with open(\"Data_Notes.json\", \"r\") as infile:  \n",
    "    notes=json.load(infile)\n",
    "    \n",
    "os.chdir(\"../processed\")\n",
    "#Next, the actual data\n",
    "df=pd.read_csv('sepsis_data_preprocessed.csv',index_col=0)"
   ]
  },
  {
   "cell_type": "code",
   "execution_count": 4,
   "metadata": {},
   "outputs": [
    {
     "name": "stdout",
     "output_type": "stream",
     "text": [
      "<class 'pandas.core.frame.DataFrame'>\n",
      "Int64Index: 231307 entries, 0 to 231306\n",
      "Data columns (total 98 columns):\n",
      " #   Column                Non-Null Count   Dtype  \n",
      "---  ------                --------------   -----  \n",
      " 0   d3_HR                 231307 non-null  float64\n",
      " 1   d3_O2Sat              231307 non-null  float64\n",
      " 2   d3_Temp               231307 non-null  float64\n",
      " 3   d3_SBP                231307 non-null  float64\n",
      " 4   d3_MAP                231307 non-null  float64\n",
      " 5   d3_DBP                231307 non-null  float64\n",
      " 6   d3_Resp               231307 non-null  float64\n",
      " 7   d3_EtCO2              231307 non-null  float64\n",
      " 8   d2_HR                 231307 non-null  float64\n",
      " 9   d2_O2Sat              231307 non-null  float64\n",
      " 10  d2_Temp               231307 non-null  float64\n",
      " 11  d2_SBP                231307 non-null  float64\n",
      " 12  d2_MAP                231307 non-null  float64\n",
      " 13  d2_DBP                231307 non-null  float64\n",
      " 14  d2_Resp               231307 non-null  float64\n",
      " 15  d2_EtCO2              231307 non-null  float64\n",
      " 16  d1_HR                 231307 non-null  float64\n",
      " 17  d1_O2Sat              231307 non-null  float64\n",
      " 18  d1_Temp               231307 non-null  float64\n",
      " 19  d1_SBP                231307 non-null  float64\n",
      " 20  d1_MAP                231307 non-null  float64\n",
      " 21  d1_DBP                231307 non-null  float64\n",
      " 22  d1_Resp               231307 non-null  float64\n",
      " 23  d1_EtCO2              231307 non-null  float64\n",
      " 24  HR                    231307 non-null  float64\n",
      " 25  O2Sat                 231307 non-null  float64\n",
      " 26  Temp                  231307 non-null  float64\n",
      " 27  SBP                   231307 non-null  float64\n",
      " 28  MAP                   231307 non-null  float64\n",
      " 29  DBP                   231307 non-null  float64\n",
      " 30  Resp                  231307 non-null  float64\n",
      " 31  EtCO2                 231307 non-null  float64\n",
      " 32  BaseExcess            231307 non-null  float64\n",
      " 33  HCO3                  231307 non-null  float64\n",
      " 34  FiO2                  231307 non-null  float64\n",
      " 35  pH                    231307 non-null  float64\n",
      " 36  PaCO2                 231307 non-null  float64\n",
      " 37  SaO2                  231307 non-null  float64\n",
      " 38  AST                   231307 non-null  float64\n",
      " 39  BUN                   231307 non-null  float64\n",
      " 40  Alkalinephos          231307 non-null  float64\n",
      " 41  Calcium               231307 non-null  float64\n",
      " 42  Chloride              231307 non-null  float64\n",
      " 43  Creatinine            231307 non-null  float64\n",
      " 44  Bilirubin_direct      231307 non-null  float64\n",
      " 45  Glucose               231307 non-null  float64\n",
      " 46  Lactate               231307 non-null  float64\n",
      " 47  Magnesium             231307 non-null  float64\n",
      " 48  Phosphate             231307 non-null  float64\n",
      " 49  Potassium             231307 non-null  float64\n",
      " 50  Bilirubin_total       231307 non-null  float64\n",
      " 51  TroponinI             231307 non-null  float64\n",
      " 52  Hct                   231307 non-null  float64\n",
      " 53  Hgb                   231307 non-null  float64\n",
      " 54  PTT                   231307 non-null  float64\n",
      " 55  WBC                   231307 non-null  float64\n",
      " 56  Fibrinogen            231307 non-null  float64\n",
      " 57  Platelets             231307 non-null  float64\n",
      " 58  Age                   231307 non-null  float64\n",
      " 59  Gender                231307 non-null  int64  \n",
      " 60  Unit1                 231307 non-null  float64\n",
      " 61  Unit2                 231307 non-null  float64\n",
      " 62  HospAdmTime           231307 non-null  float64\n",
      " 63  ICULOS                231307 non-null  int64  \n",
      " 64  SepsisLabel           231307 non-null  int64  \n",
      " 65  id                    231307 non-null  int64  \n",
      " 66  HospitalA             231307 non-null  int64  \n",
      " 67  SepsisOnset           231307 non-null  int64  \n",
      " 68  Pre_Sep_Sep           231307 non-null  int64  \n",
      " 69  Pre_Sep_No_Sep        231307 non-null  int64  \n",
      " 70  Pre_Sep_Small         231307 non-null  int64  \n",
      " 71  Pre_Sepsis_Six        231307 non-null  int64  \n",
      " 72  Dum_BaseExcess        231307 non-null  int64  \n",
      " 73  Dum_HCO3              231307 non-null  int64  \n",
      " 74  Dum_FiO2              231307 non-null  int64  \n",
      " 75  Dum_pH                231307 non-null  int64  \n",
      " 76  Dum_PaCO2             231307 non-null  int64  \n",
      " 77  Dum_SaO2              231307 non-null  int64  \n",
      " 78  Dum_AST               231307 non-null  int64  \n",
      " 79  Dum_BUN               231307 non-null  int64  \n",
      " 80  Dum_Alkalinephos      231307 non-null  int64  \n",
      " 81  Dum_Calcium           231307 non-null  int64  \n",
      " 82  Dum_Chloride          231307 non-null  int64  \n",
      " 83  Dum_Creatinine        231307 non-null  int64  \n",
      " 84  Dum_Bilirubin_direct  231307 non-null  int64  \n",
      " 85  Dum_Glucose           231307 non-null  int64  \n",
      " 86  Dum_Lactate           231307 non-null  int64  \n",
      " 87  Dum_Magnesium         231307 non-null  int64  \n",
      " 88  Dum_Phosphate         231307 non-null  int64  \n",
      " 89  Dum_Potassium         231307 non-null  int64  \n",
      " 90  Dum_Bilirubin_total   231307 non-null  int64  \n",
      " 91  Dum_TroponinI         231307 non-null  int64  \n",
      " 92  Dum_Hct               231307 non-null  int64  \n",
      " 93  Dum_Hgb               231307 non-null  int64  \n",
      " 94  Dum_PTT               231307 non-null  int64  \n",
      " 95  Dum_WBC               231307 non-null  int64  \n",
      " 96  Dum_Fibrinogen        231307 non-null  int64  \n",
      " 97  Dum_Platelets         231307 non-null  int64  \n",
      "dtypes: float64(62), int64(36)\n",
      "memory usage: 174.7 MB\n"
     ]
    }
   ],
   "source": [
    "df.info()"
   ]
  },
  {
   "cell_type": "code",
   "execution_count": 5,
   "metadata": {},
   "outputs": [],
   "source": [
    "#Sklearn imports\n",
    "from sklearn.model_selection import train_test_split, RandomizedSearchCV, KFold, GridSearchCV\n",
    "from sklearn.preprocessing import MinMaxScaler\n",
    "from sklearn.pipeline import Pipeline\n",
    "from sklearn.ensemble import RandomForestClassifier, GradientBoostingClassifier\n",
    "from sklearn.linear_model import LogisticRegression\n",
    "from sklearn.dummy import DummyClassifier\n",
    "from sklearn.svm import SVC\n",
    "from sklearn.datasets import make_classification\n",
    "from sklearn.metrics import plot_confusion_matrix, classification_report, \\\n",
    "roc_curve, plot_precision_recall_curve, precision_recall_curve, confusion_matrix, auc\n",
    "from sklearn.feature_selection import SelectFromModel"
   ]
  },
  {
   "cell_type": "markdown",
   "metadata": {},
   "source": [
    "## Preventing Data Leakage in Train & Test Sets"
   ]
  },
  {
   "cell_type": "code",
   "execution_count": 6,
   "metadata": {},
   "outputs": [],
   "source": [
    "#Generate matrix with all patient id's randomly shuffled (id_shuff)\n",
    "np.random.seed(seed=105)\n",
    "id_shuff=df.id.unique()\n",
    "np.random.shuffle(id_shuff)\n",
    "#Split into test & train arrays of 1/4 and 3/4 the original size\n",
    "n=int(round(id_shuff.size*0.25,0))\n",
    "test_id=id_shuff[0:n]\n",
    "train_id=id_shuff[n:]"
   ]
  },
  {
   "cell_type": "code",
   "execution_count": 7,
   "metadata": {},
   "outputs": [
    {
     "data": {
      "text/plain": [
       "0.25011348554086127"
      ]
     },
     "execution_count": 7,
     "metadata": {},
     "output_type": "execute_result"
    }
   ],
   "source": [
    "#Calculate percent of time points in test df\n",
    "len(df[df.id.isin(test_id)])/(len(df))"
   ]
  },
  {
   "cell_type": "code",
   "execution_count": 8,
   "metadata": {},
   "outputs": [
    {
     "data": {
      "text/plain": [
       "0.2549019607843137"
      ]
     },
     "execution_count": 8,
     "metadata": {},
     "output_type": "execute_result"
    }
   ],
   "source": [
    "#Calculate percent of patients with sepsis in test df \n",
    "df[df.id.isin(test_id)].SepsisOnset.sum()/459"
   ]
  },
  {
   "cell_type": "code",
   "execution_count": 9,
   "metadata": {},
   "outputs": [],
   "source": [
    "#Create Test/Train X\n",
    "X_train=df[df.id.isin(train_id)].copy()\n",
    "X_test=df[df.id.isin(test_id)].copy()\n",
    "#Randomize order (perhaps not needed?)\n",
    "#X_train=X_train.sample(frac=1)\n",
    "#X_test=X_test.sample(frac=1)\n",
    "\n",
    "#Create Test/Train Y\n",
    "y_train=pd.concat([X_train.loc[:,'Pre_Sep_Sep':'Pre_Sepsis_Six'],X_train.SepsisLabel],axis=1)\n",
    "y_test=pd.concat([X_test.loc[:,'Pre_Sep_Sep':'Pre_Sepsis_Six'],X_test.SepsisLabel],axis=1)\n",
    "\n",
    "#Drop all classifiers from X\n",
    "X_train.drop(columns=['SepsisLabel','SepsisOnset', 'Pre_Sep_Sep', 'Pre_Sep_No_Sep', 'Pre_Sep_Small','Pre_Sepsis_Six','id'],inplace=True)\n",
    "X_test.drop(columns=['SepsisLabel','SepsisOnset', 'Pre_Sep_Sep', 'Pre_Sep_No_Sep', 'Pre_Sep_Small','Pre_Sepsis_Six','id'],inplace=True)"
   ]
  },
  {
   "cell_type": "code",
   "execution_count": 10,
   "metadata": {},
   "outputs": [],
   "source": [
    "#Fit Min-Max Scaler to X_train data, transform X_train and X_test data\n",
    "MM_scale=MinMaxScaler()\n",
    "MM_scale.fit(X_train)\n",
    "X_train=MM_scale.transform(X_train)\n",
    "X_test=MM_scale.transform(X_test)\n",
    "\n",
    "#Split y_train into various classification columns \n",
    "y_train_six=y_train['Pre_Sepsis_Six']\n",
    "y_train_pre_sep_small=y_train['Pre_Sep_Small']\n",
    "y_train_pre_sep_2=y_train['Pre_Sep_No_Sep']\n",
    "y_train_pre_sep_3=y_train['Pre_Sep_Sep']\n",
    "y_train_sepsis=y_train['SepsisLabel']\n",
    "\n",
    "#Split y_test into various classification columns \n",
    "y_test_six=y_test['Pre_Sepsis_Six']\n",
    "y_test_pre_sep_small=y_test['Pre_Sep_Small']\n",
    "y_test_pre_sep_2=y_test['Pre_Sep_No_Sep']\n",
    "y_test_pre_sep_3=y_test['Pre_Sep_Sep']\n",
    "y_test_sepsis=y_test['SepsisLabel']\n",
    "\n",
    "#Create kfolds CV objest (to allow for sequential folding, not random - prevents data leakage in cross folds)\n",
    "folds=KFold(n_splits=4)"
   ]
  },
  {
   "cell_type": "markdown",
   "metadata": {},
   "source": [
    "# Modeling Sepsis Label"
   ]
  },
  {
   "cell_type": "markdown",
   "metadata": {},
   "source": [
    "## Random Forest\n"
   ]
  },
  {
   "cell_type": "code",
   "execution_count": 11,
   "metadata": {},
   "outputs": [
    {
     "name": "stdout",
     "output_type": "stream",
     "text": [
      "This process took 01 Hours 17 Minutes 30 Seconds \n"
     ]
    },
    {
     "data": {
      "text/plain": [
       "{'min_samples_split': 7, 'min_samples_leaf': 7, 'max_depth': 4}"
      ]
     },
     "execution_count": 11,
     "metadata": {},
     "output_type": "execute_result"
    }
   ],
   "source": [
    "#Find optimal random forest parameters for modelling Sepsis Label\n",
    "start = datetime.now()\n",
    "RFC = RandomForestClassifier(random_state=42,max_features='sqrt',n_estimators=500)\n",
    "max_depth = [x**2 for x in range(2,10)]\n",
    "min_samples_split = [4,7,16]\n",
    "min_samples_leaf = [4,7,16]\n",
    "distributions = {'max_depth': max_depth,\n",
    "               'min_samples_split': min_samples_split,\n",
    "               'min_samples_leaf': min_samples_leaf}\n",
    "RFC_RS=RandomizedSearchCV(RFC,distributions,random_state=42,n_iter=20,cv=folds.split(X_train),n_jobs=-1)\n",
    "search_RFC_Sepsis=RFC_RS.fit(X_train, y_train_sepsis)\n",
    "end = datetime.now()\n",
    "time_elapsed(start,end)\n",
    "search_RFC_Sepsis.best_params_"
   ]
  },
  {
   "cell_type": "code",
   "execution_count": 12,
   "metadata": {},
   "outputs": [],
   "source": [
    "best_dict=search_RFC_Sepsis.best_params_\n",
    "#best_dict={'min_samples_split': 7, 'min_samples_leaf': 7, 'max_depth': 4}"
   ]
  },
  {
   "cell_type": "code",
   "execution_count": 13,
   "metadata": {},
   "outputs": [
    {
     "name": "stdout",
     "output_type": "stream",
     "text": [
      "This process took 00 Hours 00 Minutes 16 Seconds \n"
     ]
    }
   ],
   "source": [
    "#Create Model\n",
    "start = datetime.now()\n",
    "RFC_=RandomForestClassifier(n_estimators=500, min_samples_split=best_dict['min_samples_split'],\n",
    "min_samples_leaf=best_dict['min_samples_leaf'], max_features='sqrt', max_depth=best_dict['max_depth'],\n",
    "random_state=42,n_jobs=-1)\n",
    "RFC_.fit(X_train,y_train_sepsis)\n",
    "end = datetime.now()\n",
    "time_elapsed(start,end)"
   ]
  },
  {
   "cell_type": "code",
   "execution_count": 14,
   "metadata": {},
   "outputs": [
    {
     "name": "stdout",
     "output_type": "stream",
     "text": [
      "Best Threshold=0.070511, F-Score=0.299\n"
     ]
    },
    {
     "data": {
      "image/png": "[encoded data removed]",
      "text/plain": [
       "<Figure size 432x288 with 1 Axes>"
      ]
     },
     "metadata": {
      "needs_background": "light"
     },
     "output_type": "display_data"
    }
   ],
   "source": [
    "#Results for Training Set\n",
    "yhat = RFC_.predict_proba(X_train)\n",
    "yhat = yhat[:, 1]\n",
    "precision, recall, thresholds = precision_recall_curve(y_train_sepsis, yhat)\n",
    "fscore = (2 * precision * recall) / (precision + recall)\n",
    "ix = np.argmax(fscore)\n",
    "print('Best Threshold=%f, F-Score=%.3f' % (thresholds[ix], fscore[ix]))\n",
    "no_skill = len(y_train_sepsis[y_train_sepsis==1]) / len(y_train_sepsis)\n",
    "auc_=round(auc(recall,precision),3)\n",
    "plt.plot([0,1], [no_skill,no_skill], linestyle='--', label='No Skill',c='orange')\n",
    "plt.scatter(recall, precision, marker='.', label='Random Forest',s=10)\n",
    "plt.scatter(recall[ix], precision[ix], marker='o', color='black', label='Best',s=100)\n",
    "plt.text(0, .25, 'AUC: {}'.format(auc_), style='italic',\n",
    "        bbox={'facecolor': 'red', 'alpha': 0.5, 'pad': 10})\n",
    "# axis labels\n",
    "plt.xlabel('Recall')\n",
    "plt.ylabel('Precision')\n",
    "plt.title('Sepsis Label Training Data')\n",
    "plt.legend()\n",
    "# show the plot\n",
    "plt.show()"
   ]
  },
  {
   "cell_type": "code",
   "execution_count": 15,
   "metadata": {},
   "outputs": [
    {
     "name": "stdout",
     "output_type": "stream",
     "text": [
      "Best Threshold=0.057505, F-Score=0.197\n"
     ]
    },
    {
     "data": {
      "image/png": "[encoded data removed]",
      "text/plain": [
       "<Figure size 432x288 with 1 Axes>"
      ]
     },
     "metadata": {
      "needs_background": "light"
     },
     "output_type": "display_data"
    }
   ],
   "source": [
    "#Results for Test Set\n",
    "yhat = RFC_.predict_proba(X_test)\n",
    "yhat = yhat[:, 1]\n",
    "precision, recall, thresholds = precision_recall_curve(y_test_sepsis, yhat)\n",
    "fscore = (2 * precision * recall) / (precision + recall)\n",
    "ix = np.argmax(fscore)\n",
    "print('Best Threshold=%f, F-Score=%.3f' % (thresholds[ix], fscore[ix]))\n",
    "no_skill = len(y_test_sepsis[y_test_sepsis==1]) / len(y_test_sepsis)\n",
    "auc_=round(auc(recall,precision),3)\n",
    "plt.plot([0,1], [no_skill,no_skill], linestyle='--', label='No Skill',c='orange')\n",
    "plt.scatter(recall, precision, marker='.', label='Random Forest',s=10)\n",
    "plt.scatter(recall[ix], precision[ix], marker='o', color='black', label='Best',s=100)\n",
    "plt.text(0, .25, 'AUC: {}'.format(auc_), style='italic',\n",
    "        bbox={'facecolor': 'red', 'alpha': 0.5, 'pad': 10})\n",
    "# axis labels\n",
    "plt.xlabel('Recall')\n",
    "plt.ylabel('Precision')\n",
    "plt.title('Sepsis Label Test Data')\n",
    "plt.legend()\n",
    "# show the plot\n",
    "plt.show()"
   ]
  },
  {
   "cell_type": "markdown",
   "metadata": {},
   "source": [
    "## Gradient Boost"
   ]
  },
  {
   "cell_type": "code",
   "execution_count": 16,
   "metadata": {},
   "outputs": [
    {
     "name": "stdout",
     "output_type": "stream",
     "text": [
      "This process took 00 Hours 34 Minutes 16 Seconds \n"
     ]
    },
    {
     "data": {
      "text/plain": [
       "{'max_depth': 3, 'loss': 'exponential', 'learning_rate': 0.01}"
      ]
     },
     "execution_count": 16,
     "metadata": {},
     "output_type": "execute_result"
    }
   ],
   "source": [
    "#Find optimal random forest parameters for modelling Sepsis Label\n",
    "start = datetime.now()\n",
    "GB = GradientBoostingClassifier(random_state=42,max_features='sqrt',n_estimators=250)\n",
    "max_depth = [3,7,12]\n",
    "learning_rate=[0.001,0.01,0.1,0.25,1]\n",
    "loss=['deviance', 'exponential']\n",
    "distributions = {'max_depth': max_depth,'learning_rate': learning_rate,'loss': loss}\n",
    "GB_RS=RandomizedSearchCV(GB,distributions,random_state=42,n_iter=20,cv=folds.split(X_train),n_jobs=-1)\n",
    "search_GB_Sepsis=GB_RS.fit(X_train, y_train_sepsis)\n",
    "end = datetime.now()\n",
    "time_elapsed(start,end)\n",
    "search_GB_Sepsis.best_params_"
   ]
  },
  {
   "cell_type": "code",
   "execution_count": 17,
   "metadata": {},
   "outputs": [],
   "source": [
    "best_dict=search_GB_Sepsis.best_params_"
   ]
  },
  {
   "cell_type": "code",
   "execution_count": 22,
   "metadata": {},
   "outputs": [
    {
     "name": "stdout",
     "output_type": "stream",
     "text": [
      "This process took 00 Hours 00 Minutes 54 Seconds \n"
     ]
    }
   ],
   "source": [
    "#Create Model\n",
    "start = datetime.now()\n",
    "GB_=GradientBoostingClassifier(n_estimators=500, learning_rate=best_dict['learning_rate'],\n",
    "loss=best_dict['loss'], max_features='sqrt', max_depth=best_dict['max_depth'], random_state=42)\n",
    "GB_.fit(X_train,y_train_sepsis)\n",
    "end = datetime.now()\n",
    "time_elapsed(start,end)"
   ]
  },
  {
   "cell_type": "code",
   "execution_count": 23,
   "metadata": {},
   "outputs": [
    {
     "name": "stdout",
     "output_type": "stream",
     "text": [
      "Best Threshold=0.088771, F-Score=0.239\n"
     ]
    },
    {
     "data": {
      "image/png": "[encoded data removed]",
      "text/plain": [
       "<Figure size 432x288 with 1 Axes>"
      ]
     },
     "metadata": {
      "needs_background": "light"
     },
     "output_type": "display_data"
    }
   ],
   "source": [
    "#Results for Training Set\n",
    "yhat = GB_.predict_proba(X_train)\n",
    "yhat = yhat[:, 1]\n",
    "precision, recall, thresholds = precision_recall_curve(y_train_sepsis, yhat)\n",
    "fscore = (2 * precision * recall) / (precision + recall)\n",
    "ix = np.argmax(fscore)\n",
    "print('Best Threshold=%f, F-Score=%.3f' % (thresholds[ix], fscore[ix]))\n",
    "no_skill = len(y_train_sepsis[y_train_sepsis==1]) / len(y_train_sepsis)\n",
    "auc_=round(auc(recall,precision),3)\n",
    "plt.plot([0,1], [no_skill,no_skill], linestyle='--', label='No Skill',c='orange')\n",
    "plt.scatter(recall, precision, marker='.', label='Random Forest',s=10)\n",
    "plt.scatter(recall[ix], precision[ix], marker='o', color='black', label='Best',s=100)\n",
    "plt.text(0, .25, 'AUC: {}'.format(auc_), style='italic',\n",
    "        bbox={'facecolor': 'red', 'alpha': 0.5, 'pad': 10})\n",
    "# axis labels\n",
    "plt.xlabel('Recall')\n",
    "plt.ylabel('Precision')\n",
    "plt.title('Sepsis Label Training Data')\n",
    "plt.legend()\n",
    "# show the plot\n",
    "plt.show()"
   ]
  },
  {
   "cell_type": "code",
   "execution_count": 24,
   "metadata": {},
   "outputs": [
    {
     "name": "stdout",
     "output_type": "stream",
     "text": [
      "Best Threshold=0.063073, F-Score=0.191\n"
     ]
    },
    {
     "data": {
      "image/png": "[encoded data removed]",
      "text/plain": [
       "<Figure size 432x288 with 1 Axes>"
      ]
     },
     "metadata": {
      "needs_background": "light"
     },
     "output_type": "display_data"
    }
   ],
   "source": [
    "#Results for Test Set\n",
    "yhat = GB_.predict_proba(X_test)\n",
    "yhat = yhat[:, 1]\n",
    "precision, recall, thresholds = precision_recall_curve(y_test_sepsis, yhat)\n",
    "fscore = (2 * precision * recall) / (precision + recall)\n",
    "ix = np.argmax(fscore)\n",
    "print('Best Threshold=%f, F-Score=%.3f' % (thresholds[ix], fscore[ix]))\n",
    "no_skill = len(y_test_sepsis[y_test_sepsis==1]) / len(y_test_sepsis)\n",
    "auc_=round(auc(recall,precision),3)\n",
    "plt.plot([0,1], [no_skill,no_skill], linestyle='--', label='No Skill',c='orange')\n",
    "plt.scatter(recall, precision, marker='.', label='Random Forest',s=10)\n",
    "plt.scatter(recall[ix], precision[ix], marker='o', color='black', label='Best',s=100)\n",
    "plt.text(0, .25, 'AUC: {}'.format(auc_), style='italic',\n",
    "        bbox={'facecolor': 'red', 'alpha': 0.5, 'pad': 10})\n",
    "# axis labels\n",
    "plt.xlabel('Recall')\n",
    "plt.ylabel('Precision')\n",
    "plt.title('Sepsis Label Test Data')\n",
    "plt.legend()\n",
    "# show the plot\n",
    "plt.show()"
   ]
  }
 ],
 "metadata": {
  "kernelspec": {
   "display_name": "Python 3",
   "language": "python",
   "name": "python3"
  },
  "language_info": {
   "codemirror_mode": {
    "name": "ipython",
    "version": 3
   },
   "file_extension": ".py",
   "mimetype": "text/x-python",
   "name": "python",
   "nbconvert_exporter": "python",
   "pygments_lexer": "ipython3",
   "version": "3.8.5"
  }
 },
 "nbformat": 4,
 "nbformat_minor": 4
}
