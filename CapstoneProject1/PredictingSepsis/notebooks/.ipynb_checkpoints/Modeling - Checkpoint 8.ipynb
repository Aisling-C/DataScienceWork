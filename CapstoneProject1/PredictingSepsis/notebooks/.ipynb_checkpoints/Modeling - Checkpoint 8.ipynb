{
 "cells": [
  {
   "cell_type": "markdown",
   "metadata": {},
   "source": [
    "# Overview"
   ]
  },
  {
   "cell_type": "markdown",
   "metadata": {},
   "source": [
    "    -Test/Train Split\n",
    "    -Min Max Scaling \n",
    "    -Hyperparameter Estimation\n",
    "    -Model Evaluation (Precision/Recall Curves)"
   ]
  },
  {
   "cell_type": "markdown",
   "metadata": {},
   "source": [
    "# Load Libraries & Data"
   ]
  },
  {
   "cell_type": "code",
   "execution_count": 1,
   "metadata": {},
   "outputs": [],
   "source": [
    "import glob, os\n",
    "import pandas as pd\n",
    "import numpy as np\n",
    "import json\n",
    "import seaborn as sns\n",
    "import matplotlib.pyplot as plt\n",
    "from IPython.display import Image\n",
    "from scipy.stats import uniform\n",
    "from datetime import datetime\n",
    "pd.set_option('display.max_rows', 500)\n",
    "pd.set_option('display.max_columns', 500)"
   ]
  },
  {
   "cell_type": "code",
   "execution_count": 2,
   "metadata": {},
   "outputs": [],
   "source": [
    "os.chdir(\"../src/data\")\n",
    "from time_elapsed import time_elapsed"
   ]
  },
  {
   "cell_type": "code",
   "execution_count": 3,
   "metadata": {},
   "outputs": [],
   "source": [
    "os.chdir(\"../../data/interim\")\n",
    "\n",
    "#Load in Data\n",
    "#First, the notes\n",
    "with open(\"Data_Notes.json\", \"r\") as infile:  \n",
    "    notes=json.load(infile)\n",
    "    \n",
    "os.chdir(\"../processed\")\n",
    "#Next, the actual data\n",
    "df=pd.read_csv('sepsis_data_preprocessed.csv',index_col=0)"
   ]
  },
  {
   "cell_type": "code",
   "execution_count": null,
   "metadata": {},
   "outputs": [],
   "source": [
    "df.info()"
   ]
  },
  {
   "cell_type": "code",
   "execution_count": 4,
   "metadata": {},
   "outputs": [],
   "source": [
    "#Sklearn imports\n",
    "from sklearn.model_selection import train_test_split, RandomizedSearchCV, KFold, GridSearchCV\n",
    "from sklearn.preprocessing import MinMaxScaler\n",
    "from sklearn.pipeline import Pipeline\n",
    "from sklearn.ensemble import RandomForestClassifier, GradientBoostingClassifier, AdaBoostClassifier\n",
    "from sklearn.linear_model import LogisticRegression\n",
    "from sklearn.dummy import DummyClassifier\n",
    "from sklearn.svm import SVC\n",
    "from sklearn.datasets import make_classification\n",
    "from sklearn.metrics import plot_confusion_matrix, classification_report, \\\n",
    "roc_curve, plot_precision_recall_curve, precision_recall_curve, confusion_matrix, auc\n",
    "from sklearn.feature_selection import SelectFromModel"
   ]
  },
  {
   "cell_type": "markdown",
   "metadata": {},
   "source": [
    "## Preventing Data Leakage in Train & Test Sets"
   ]
  },
  {
   "cell_type": "code",
   "execution_count": 5,
   "metadata": {},
   "outputs": [],
   "source": [
    "#Generate matrix with all patient id's randomly shuffled (id_shuff)\n",
    "np.random.seed(seed=90)\n",
    "id_shuff=df.id.unique()\n",
    "np.random.shuffle(id_shuff)\n",
    "#Split into test & train arrays of 1/4 and 3/4 the original size\n",
    "n=int(round(id_shuff.size*0.25,0))\n",
    "test_id=id_shuff[0:n]\n",
    "train_id=id_shuff[n:]"
   ]
  },
  {
   "cell_type": "code",
   "execution_count": 6,
   "metadata": {},
   "outputs": [
    {
     "data": {
      "text/plain": [
       "0.25163959586177675"
      ]
     },
     "execution_count": 6,
     "metadata": {},
     "output_type": "execute_result"
    }
   ],
   "source": [
    "#Calculate percent of time points in test df\n",
    "len(df[df.id.isin(test_id)])/(len(df))"
   ]
  },
  {
   "cell_type": "code",
   "execution_count": 7,
   "metadata": {},
   "outputs": [
    {
     "data": {
      "text/plain": [
       "0.25272331154684097"
      ]
     },
     "execution_count": 7,
     "metadata": {},
     "output_type": "execute_result"
    }
   ],
   "source": [
    "#Calculate percent of patients with sepsis in test df \n",
    "df[df.id.isin(test_id)].SepsisOnset.sum()/459"
   ]
  },
  {
   "cell_type": "code",
   "execution_count": 8,
   "metadata": {},
   "outputs": [],
   "source": [
    "#Drop Dummy Variables\n",
    "dum=list(df.loc[:,'Dum_BaseExcess':'Dum_Platelets'].columns.values)\n",
    "df.drop(columns=dum,inplace=True)"
   ]
  },
  {
   "cell_type": "code",
   "execution_count": 9,
   "metadata": {},
   "outputs": [],
   "source": [
    "#Create Test/Train X\n",
    "X_train=df[df.id.isin(train_id)].copy()\n",
    "X_test=df[df.id.isin(test_id)].copy()\n",
    "#Randomize order (perhaps not needed?)\n",
    "#X_train=X_train.sample(frac=1)\n",
    "#X_test=X_test.sample(frac=1)\n",
    "\n",
    "#Create Test/Train Y\n",
    "y_train=pd.concat([X_train.loc[:,'Pre_Sep_Sep':'Pre_Sepsis_Six'],X_train.SepsisLabel],axis=1)\n",
    "y_test=pd.concat([X_test.loc[:,'Pre_Sep_Sep':'Pre_Sepsis_Six'],X_test.SepsisLabel],axis=1)\n",
    "\n",
    "#Drop Dummy Variables\n",
    "df.drop(columns=[])\n",
    "\n",
    "#Drop all classifiers from X\n",
    "X_train.drop(columns=['SepsisLabel','SepsisOnset', 'Pre_Sep_Sep', 'Pre_Sep_No_Sep', 'Pre_Sep_Small','Pre_Sepsis_Six','id'],inplace=True)\n",
    "X_test.drop(columns=['SepsisLabel','SepsisOnset', 'Pre_Sep_Sep', 'Pre_Sep_No_Sep', 'Pre_Sep_Small','Pre_Sepsis_Six','id'],inplace=True)"
   ]
  },
  {
   "cell_type": "code",
   "execution_count": 10,
   "metadata": {},
   "outputs": [],
   "source": [
    "#Fit Min-Max Scaler to X_train data, transform X_train and X_test data\n",
    "MM_scale=MinMaxScaler()\n",
    "MM_scale.fit(X_train)\n",
    "X_train=MM_scale.transform(X_train)\n",
    "X_test=MM_scale.transform(X_test)\n",
    "\n",
    "#Split y_train into various classification columns \n",
    "y_train_six=y_train['Pre_Sepsis_Six']\n",
    "y_train_pre_sep_small=y_train['Pre_Sep_Small']\n",
    "y_train_pre_sep_2=y_train['Pre_Sep_No_Sep']\n",
    "y_train_pre_sep_3=y_train['Pre_Sep_Sep']\n",
    "y_train_sepsis=y_train['SepsisLabel']\n",
    "\n",
    "#Split y_test into various classification columns \n",
    "y_test_six=y_test['Pre_Sepsis_Six']\n",
    "y_test_pre_sep_small=y_test['Pre_Sep_Small']\n",
    "y_test_pre_sep_2=y_test['Pre_Sep_No_Sep']\n",
    "y_test_pre_sep_3=y_test['Pre_Sep_Sep']\n",
    "y_test_sepsis=y_test['SepsisLabel']\n",
    "\n",
    "#Create kfolds CV objest (to allow for sequential folding, not random - prevents data leakage in cross folds)\n",
    "folds=KFold(n_splits=4)"
   ]
  },
  {
   "cell_type": "markdown",
   "metadata": {},
   "source": [
    "# Modeling Sepsis Label"
   ]
  },
  {
   "cell_type": "markdown",
   "metadata": {},
   "source": [
    "# Adaboost"
   ]
  },
  {
   "cell_type": "code",
   "execution_count": null,
   "metadata": {},
   "outputs": [],
   "source": [
    "#Find optimal random forest parameters for modelling Pre Sep 2\n",
    "start = datetime.now()\n",
    "AB = AdaBoostClassifier(random_state=42)\n",
    "n_estimators = [50,100,250,500]\n",
    "learning_rate=[0.001,0.01,0.1,0.25,1]\n",
    "distributions = {'n_estimators': n_estimators,'learning_rate': learning_rate}\n",
    "AB_RS=RandomizedSearchCV(AB ,distributions,random_state=42,n_iter=10,cv=folds.split(X_train),n_jobs=-1)\n",
    "search_AB_Sepsis=AB_RS.fit(X_train, y_train_pre_sep_2)\n",
    "end = datetime.now()\n",
    "time_elapsed(start,end)\n",
    "best_dict=search_AB_Sepsis.best_params_\n",
    "search_AB_Sepsis.best_params_"
   ]
  },
  {
   "cell_type": "code",
   "execution_count": null,
   "metadata": {},
   "outputs": [],
   "source": [
    "#Create Model\n",
    "start = datetime.now()\n",
    "AB_=AdaBoostClassifier(n_estimators=best_dict['n_estimators'], learning_rate=best_dict['learning_rate'], random_state=42)\n",
    "AB_.fit(X_train,y_train_pre_sep_2)\n",
    "end = datetime.now()\n",
    "time_elapsed(start,end)"
   ]
  },
  {
   "cell_type": "code",
   "execution_count": null,
   "metadata": {},
   "outputs": [],
   "source": [
    "#Results for Training Set\n",
    "yhat = AB_.predict_proba(X_train)\n",
    "yhat = yhat[:, 1]\n",
    "precision, recall, thresholds = precision_recall_curve(y_train_pre_sep_2, yhat)\n",
    "fscore = (2 * precision * recall) / (precision + recall)\n",
    "ix = np.argmax(fscore)\n",
    "print('Best Threshold=%f, F-Score=%.3f' % (thresholds[ix], fscore[ix]))\n",
    "no_skill = len(y_train_sepsis[y_train_sepsis==1]) / len(y_train_sepsis)\n",
    "auc_=round(auc(recall,precision),3)\n",
    "plt.plot([0,1], [no_skill,no_skill], linestyle='--', label='No Skill',c='orange')\n",
    "plt.scatter(recall, precision, marker='.', label='Random Forest',s=10)\n",
    "plt.scatter(recall[ix], precision[ix], marker='o', color='black', label='Best',s=100)\n",
    "plt.text(0, .25, 'AUC: {}'.format(auc_), style='italic',\n",
    "        bbox={'facecolor': 'red', 'alpha': 0.5, 'pad': 10})\n",
    "# axis labels\n",
    "plt.xlabel('Recall')\n",
    "plt.ylabel('Precision')\n",
    "plt.title('Sepsis Label Training Data')\n",
    "plt.legend()\n",
    "# show the plot\n",
    "plt.show()"
   ]
  },
  {
   "cell_type": "code",
   "execution_count": null,
   "metadata": {},
   "outputs": [],
   "source": [
    "print(classification_report(y_train_pre_sep_2,AB_.predict(X_train)))"
   ]
  },
  {
   "cell_type": "code",
   "execution_count": null,
   "metadata": {},
   "outputs": [],
   "source": [
    "#Results for Test Set\n",
    "yhat = AB_.predict_proba(X_test)\n",
    "yhat = yhat[:, 1]\n",
    "precision, recall, thresholds = precision_recall_curve(y_test_pre_sep_2, yhat)\n",
    "fscore = (2 * precision * recall) / (precision + recall)\n",
    "ix = np.argmax(fscore)\n",
    "print('Best Threshold=%f, F-Score=%.3f' % (thresholds[ix], fscore[ix]))\n",
    "no_skill = len(y_test_sepsis[y_test_sepsis==1]) / len(y_test_sepsis)\n",
    "auc_=round(auc(recall,precision),3)\n",
    "plt.plot([0,1], [no_skill,no_skill], linestyle='--', label='No Skill',c='orange')\n",
    "plt.scatter(recall, precision, marker='.', label='Random Forest',s=10)\n",
    "plt.scatter(recall[ix], precision[ix], marker='o', color='black', label='Best',s=100)\n",
    "plt.text(0, .25, 'AUC: {}'.format(auc_), style='italic',\n",
    "        bbox={'facecolor': 'red', 'alpha': 0.5, 'pad': 10})\n",
    "# axis labels\n",
    "plt.xlabel('Recall')\n",
    "plt.ylabel('Precision')\n",
    "plt.title('Sepsis Label Test Data')\n",
    "plt.legend()\n",
    "# show the plot\n",
    "plt.show()"
   ]
  },
  {
   "cell_type": "code",
   "execution_count": null,
   "metadata": {},
   "outputs": [],
   "source": [
    "print(classification_report(y_test_pre_sep_2,AB_.predict(X_test)))"
   ]
  },
  {
   "cell_type": "markdown",
   "metadata": {},
   "source": [
    "## Random Forest\n"
   ]
  },
  {
   "cell_type": "code",
   "execution_count": null,
   "metadata": {},
   "outputs": [],
   "source": [
    "#Find optimal random forest parameters for modelling Sepsis Label\n",
    "\"\"\"start = datetime.now()\n",
    "RFC = RandomForestClassifier(random_state=42,max_features='sqrt',n_estimators=500)\n",
    "max_depth = [x**2 for x in range(2,10)]\n",
    "min_samples_split = [4,7,16]\n",
    "min_samples_leaf = [4,7,16]\n",
    "distributions = {'max_depth': max_depth,\n",
    "               'min_samples_split': min_samples_split,\n",
    "               'min_samples_leaf': min_samples_leaf}\n",
    "RFC_RS=RandomizedSearchCV(RFC,distributions,random_state=42,n_iter=20,cv=folds.split(X_train),n_jobs=-1)\n",
    "search_RFC_Sepsis=RFC_RS.fit(X_train, y_train_sepsis)\n",
    "end = datetime.now()\n",
    "time_elapsed(start,end)\n",
    "search_RFC_Sepsis.best_params_\"\"\""
   ]
  },
  {
   "cell_type": "code",
   "execution_count": null,
   "metadata": {},
   "outputs": [],
   "source": [
    "#best_dict=search_RFC_Sepsis.best_params_\n",
    "best_dict={'min_samples_split': 7, 'min_samples_leaf': 7, 'max_depth': 4}"
   ]
  },
  {
   "cell_type": "code",
   "execution_count": null,
   "metadata": {},
   "outputs": [],
   "source": [
    "#Create Model\n",
    "start = datetime.now()\n",
    "RFC_=RandomForestClassifier(n_estimators=2000, min_samples_split=best_dict['min_samples_split'],\n",
    "min_samples_leaf=best_dict['min_samples_leaf'], max_features='sqrt', max_depth=best_dict['max_depth'],\n",
    "random_state=42,n_jobs=-1)\n",
    "RFC_.fit(X_train,y_train_sepsis)\n",
    "end = datetime.now()\n",
    "time_elapsed(start,end)"
   ]
  },
  {
   "cell_type": "code",
   "execution_count": null,
   "metadata": {},
   "outputs": [],
   "source": [
    "#Results for Training Set\n",
    "yhat = RFC_.predict_proba(X_train)\n",
    "yhat = yhat[:, 1]\n",
    "precision, recall, thresholds = precision_recall_curve(y_train_sepsis, yhat)\n",
    "fscore = (2 * precision * recall) / (precision + recall)\n",
    "ix = np.argmax(fscore)\n",
    "print('Best Threshold=%f, F-Score=%.3f' % (thresholds[ix], fscore[ix]))\n",
    "no_skill = len(y_train_sepsis[y_train_sepsis==1]) / len(y_train_sepsis)\n",
    "auc_=round(auc(recall,precision),3)\n",
    "plt.plot([0,1], [no_skill,no_skill], linestyle='--', label='No Skill',c='orange')\n",
    "plt.scatter(recall, precision, marker='.', label='Random Forest',s=10)\n",
    "plt.scatter(recall[ix], precision[ix], marker='o', color='black', label='Best',s=100)\n",
    "plt.text(0, .25, 'AUC: {}'.format(auc_), style='italic',\n",
    "        bbox={'facecolor': 'red', 'alpha': 0.5, 'pad': 10})\n",
    "# axis labels\n",
    "plt.xlabel('Recall')\n",
    "plt.ylabel('Precision')\n",
    "plt.title('Sepsis Label Training Data')\n",
    "plt.legend()\n",
    "# show the plot\n",
    "plt.show()"
   ]
  },
  {
   "cell_type": "code",
   "execution_count": null,
   "metadata": {},
   "outputs": [],
   "source": [
    "classification_"
   ]
  },
  {
   "cell_type": "code",
   "execution_count": null,
   "metadata": {},
   "outputs": [],
   "source": [
    "#Results for Test Set\n",
    "yhat = RFC_.predict_proba(X_test)\n",
    "yhat = yhat[:, 1]\n",
    "precision, recall, thresholds = precision_recall_curve(y_test_sepsis, yhat)\n",
    "fscore = (2 * precision * recall) / (precision + recall)\n",
    "ix = np.argmax(fscore)\n",
    "print('Best Threshold=%f, F-Score=%.3f' % (thresholds[ix], fscore[ix]))\n",
    "no_skill = len(y_test_sepsis[y_test_sepsis==1]) / len(y_test_sepsis)\n",
    "auc_=round(auc(recall,precision),3)\n",
    "plt.plot([0,1], [no_skill,no_skill], linestyle='--', label='No Skill',c='orange')\n",
    "plt.scatter(recall, precision, marker='.', label='Random Forest',s=10)\n",
    "plt.scatter(recall[ix], precision[ix], marker='o', color='black', label='Best',s=100)\n",
    "plt.text(0, .25, 'AUC: {}'.format(auc_), style='italic',\n",
    "        bbox={'facecolor': 'red', 'alpha': 0.5, 'pad': 10})\n",
    "# axis labels\n",
    "plt.xlabel('Recall')\n",
    "plt.ylabel('Precision')\n",
    "plt.title('Sepsis Label Test Data')\n",
    "plt.legend()\n",
    "# show the plot\n",
    "plt.show()"
   ]
  },
  {
   "cell_type": "code",
   "execution_count": null,
   "metadata": {},
   "outputs": [],
   "source": [
    "print(classification_report(y_train_sepsis,RFC_.predict(X_train)))"
   ]
  },
  {
   "cell_type": "code",
   "execution_count": null,
   "metadata": {},
   "outputs": [],
   "source": [
    "RFC_.feature_importances_"
   ]
  },
  {
   "cell_type": "code",
   "execution_count": null,
   "metadata": {},
   "outputs": [],
   "source": [
    "r=list(X_train.columns.values)\n",
    "v=list(RFC_.feature_importances_)"
   ]
  },
  {
   "cell_type": "code",
   "execution_count": null,
   "metadata": {},
   "outputs": [],
   "source": [
    "pd.DataFrame({'features':r,'values':v})"
   ]
  },
  {
   "cell_type": "code",
   "execution_count": null,
   "metadata": {},
   "outputs": [],
   "source": [
    "len(importance.index)"
   ]
  },
  {
   "cell_type": "code",
   "execution_count": null,
   "metadata": {},
   "outputs": [],
   "source": [
    "importance = RFC_.feature_importances_\n",
    "importance = pd.DataFrame(importance, index=X_train.columns, \n",
    "                          columns=[\"Importance\"])\n",
    "\n",
    "importance[\"Std\"] = np.std([tree.feature_importances_\n",
    "                            for tree in RFC_.estimators_], axis=0)\n",
    "\n",
    "x = range(importance.shape[0])\n",
    "y = importance.iloc[:, 0]\n",
    "yerr = importance.iloc[:, 1]\n",
    "plt.subplots(figsize=(16,10))\n",
    "plt.bar(x, y, yerr=yerr, align=\"center\")\n",
    "plt.xticks(ticks=range(0,91),labels=importance.index,rotation=90)\n",
    "plt.show()"
   ]
  },
  {
   "cell_type": "code",
   "execution_count": null,
   "metadata": {},
   "outputs": [],
   "source": [
    "importance.sort"
   ]
  },
  {
   "cell_type": "markdown",
   "metadata": {},
   "source": [
    "## Gradient Boost"
   ]
  },
  {
   "cell_type": "code",
   "execution_count": null,
   "metadata": {},
   "outputs": [],
   "source": [
    "#Find optimal random forest parameters for modelling Pre Sep 2\n",
    "start = datetime.now()\n",
    "GB = GradientBoostingClassifier(random_state=42,max_features='sqrt',n_estimators=550)\n",
    "max_depth = [3,7,12]\n",
    "learning_rate=[0.001,0.01,0.1,0.25,1]\n",
    "loss=['deviance', 'exponential']\n",
    "distributions = {'max_depth': max_depth,'learning_rate': learning_rate,'loss': loss}\n",
    "GB_RS=RandomizedSearchCV(GB,distributions,random_state=42,n_iter=20,cv=folds.split(X_train),n_jobs=-1)\n",
    "search_GB_Sepsis=GB_RS.fit(X_train, y_train_pre_sep_2)\n",
    "end = datetime.now()\n",
    "time_elapsed(start,end)\n",
    "search_GB_Sepsis.best_params_"
   ]
  },
  {
   "cell_type": "code",
   "execution_count": null,
   "metadata": {},
   "outputs": [],
   "source": [
    "best_dict=search_GB_Sepsis.best_params_"
   ]
  },
  {
   "cell_type": "code",
   "execution_count": null,
   "metadata": {},
   "outputs": [],
   "source": [
    "new_df=df.drop(columns=['SepsisLabel','SepsisOnset', 'Pre_Sep_Sep', 'Pre_Sep_No_Sep', 'Pre_Sep_Small','Pre_Sepsis_Six','id'],inplace=True)"
   ]
  },
  {
   "cell_type": "code",
   "execution_count": null,
   "metadata": {},
   "outputs": [],
   "source": [
    "GB.estimators_"
   ]
  },
  {
   "cell_type": "code",
   "execution_count": null,
   "metadata": {},
   "outputs": [],
   "source": [
    "df_=df.drop(columns=['SepsisLabel','SepsisOnset', 'Pre_Sep_Sep', 'Pre_Sep_No_Sep', 'Pre_Sep_Small','Pre_Sepsis_Six','id'])"
   ]
  },
  {
   "cell_type": "code",
   "execution_count": null,
   "metadata": {},
   "outputs": [],
   "source": [
    "importance = GB_.feature_importances_\n",
    "importance = pd.DataFrame(importance, index=df_.columns, \n",
    "                          columns=[\"Importance\"])\n",
    "\n",
    "x = range(importance.shape[0])\n",
    "y = importance.iloc[:, 0]\n",
    "plt.subplots(figsize=(16,10))\n",
    "plt.bar(x, y, align=\"center\")\n",
    "plt.xticks(ticks=range(0,91),labels=importance.index,rotation=90)\n",
    "plt.show()"
   ]
  },
  {
   "cell_type": "code",
   "execution_count": null,
   "metadata": {},
   "outputs": [],
   "source": [
    "search_GB_Sepsis.cv_results_"
   ]
  },
  {
   "cell_type": "code",
   "execution_count": 39,
   "metadata": {},
   "outputs": [],
   "source": [
    "best_dict={'max_depth': 4, 'loss': 'exponential', 'learning_rate': 0.1}"
   ]
  },
  {
   "cell_type": "code",
   "execution_count": 41,
   "metadata": {},
   "outputs": [
    {
     "name": "stdout",
     "output_type": "stream",
     "text": [
      "This process took 00 Hours 00 Minutes 36 Seconds \n"
     ]
    }
   ],
   "source": [
    "#Create Model\n",
    "start = datetime.now()\n",
    "GB_=GradientBoostingClassifier(n_estimators=200, learning_rate=best_dict['learning_rate'],\n",
    "loss=best_dict['loss'], max_features='sqrt', max_depth=best_dict['max_depth'], random_state=42)\n",
    "GB_.fit(X_train,y_train_pre_sep_2)\n",
    "end = datetime.now()\n",
    "time_elapsed(start,end)"
   ]
  },
  {
   "cell_type": "code",
   "execution_count": 42,
   "metadata": {},
   "outputs": [
    {
     "name": "stdout",
     "output_type": "stream",
     "text": [
      "Best Threshold=0.113070, F-Score=0.388\n"
     ]
    },
    {
     "data": {
      "image/png": "[encoded data removed]",
      "text/plain": [
       "<Figure size 432x288 with 1 Axes>"
      ]
     },
     "metadata": {
      "needs_background": "light"
     },
     "output_type": "display_data"
    }
   ],
   "source": [
    "#Results for Training Set\n",
    "yhat = GB_.predict_proba(X_train)\n",
    "yhat = yhat[:, 1]\n",
    "precision, recall, thresholds = precision_recall_curve(y_train_pre_sep_2, yhat)\n",
    "fscore = (2 * precision * recall) / (precision + recall)\n",
    "ix = np.argmax(fscore)\n",
    "print('Best Threshold=%f, F-Score=%.3f' % (thresholds[ix], fscore[ix]))\n",
    "no_skill = len(y_train_sepsis[y_train_sepsis==1]) / len(y_train_sepsis)\n",
    "auc_=round(auc(recall,precision),3)\n",
    "plt.plot([0,1], [no_skill,no_skill], linestyle='--', label='No Skill',c='orange')\n",
    "plt.scatter(recall, precision, marker='.', label='Random Forest',s=10)\n",
    "plt.scatter(recall[ix], precision[ix], marker='o', color='black', label='Best',s=100)\n",
    "plt.text(0, .25, 'AUC: {}'.format(auc_), style='italic',\n",
    "        bbox={'facecolor': 'red', 'alpha': 0.5, 'pad': 10})\n",
    "# axis labels\n",
    "plt.xlabel('Recall')\n",
    "plt.ylabel('Precision')\n",
    "plt.title('Sepsis Label Training Data')\n",
    "plt.legend()\n",
    "# show the plot\n",
    "plt.show()"
   ]
  },
  {
   "cell_type": "code",
   "execution_count": 43,
   "metadata": {},
   "outputs": [
    {
     "name": "stdout",
     "output_type": "stream",
     "text": [
      "              precision    recall  f1-score   support\n",
      "\n",
      "           0       0.99      1.00      0.99    170695\n",
      "           1       1.00      0.01      0.01      2406\n",
      "\n",
      "    accuracy                           0.99    173101\n",
      "   macro avg       0.99      0.50      0.50    173101\n",
      "weighted avg       0.99      0.99      0.98    173101\n",
      "\n"
     ]
    }
   ],
   "source": [
    "print(classification_report(y_train_pre_sep_2,GB_.predict(X_train)))"
   ]
  },
  {
   "cell_type": "code",
   "execution_count": null,
   "metadata": {},
   "outputs": [],
   "source": [
    "y_train_pre_sep_2.value_counts()"
   ]
  },
  {
   "cell_type": "code",
   "execution_count": null,
   "metadata": {},
   "outputs": [],
   "source": [
    "y_test_pre_sep_2.value_counts()"
   ]
  },
  {
   "cell_type": "code",
   "execution_count": null,
   "metadata": {},
   "outputs": [],
   "source": [
    "1/60"
   ]
  },
  {
   "cell_type": "code",
   "execution_count": null,
   "metadata": {},
   "outputs": [],
   "source": [
    "confusion_matrix(y_train_pre_sep_2,GB_.predict(X_train))"
   ]
  },
  {
   "cell_type": "code",
   "execution_count": 34,
   "metadata": {},
   "outputs": [
    {
     "name": "stderr",
     "output_type": "stream",
     "text": [
      "<ipython-input-34-db9bef7f5ae0>:5: RuntimeWarning: invalid value encountered in true_divide\n",
      "  fscore = (2 * precision * recall) / (precision + recall)\n"
     ]
    },
    {
     "name": "stdout",
     "output_type": "stream",
     "text": [
      "Best Threshold=0.609590, F-Score=nan\n"
     ]
    },
    {
     "data": {
      "image/png": "[encoded data removed]",
      "text/plain": [
       "<Figure size 432x288 with 1 Axes>"
      ]
     },
     "metadata": {
      "needs_background": "light"
     },
     "output_type": "display_data"
    }
   ],
   "source": [
    "#Results for Test Set\n",
    "yhat = GB_.predict_proba(X_test)\n",
    "yhat = yhat[:, 1]\n",
    "precision, recall, thresholds = precision_recall_curve(y_test_pre_sep_2, yhat)\n",
    "fscore = (2 * precision * recall) / (precision + recall)\n",
    "ix = np.argmax(fscore)\n",
    "print('Best Threshold=%f, F-Score=%.3f' % (thresholds[ix], fscore[ix]))\n",
    "no_skill = len(y_test_sepsis[y_test_sepsis==1]) / len(y_test_sepsis)\n",
    "auc_=round(auc(recall,precision),3)\n",
    "plt.plot([0,1], [no_skill,no_skill], linestyle='--', label='No Skill',c='orange')\n",
    "plt.scatter(recall, precision, marker='.', label='Random Forest',s=10)\n",
    "plt.scatter(recall[ix], precision[ix], marker='o', color='black', label='Best',s=100)\n",
    "plt.text(0, .25, 'AUC: {}'.format(auc_), style='italic',\n",
    "        bbox={'facecolor': 'red', 'alpha': 0.5, 'pad': 10})\n",
    "# axis labels\n",
    "plt.xlabel('Recall')\n",
    "plt.ylabel('Precision')\n",
    "plt.title('Sepsis Label Test Data')\n",
    "plt.legend()\n",
    "# show the plot\n",
    "plt.show()"
   ]
  },
  {
   "cell_type": "code",
   "execution_count": null,
   "metadata": {},
   "outputs": [],
   "source": [
    "print(classification_report(y_test_pre_sep_2,GB_.predict(X_test)))"
   ]
  },
  {
   "cell_type": "code",
   "execution_count": null,
   "metadata": {},
   "outputs": [],
   "source": [
    "#Find optimal random forest parameters for modelling Sepsis Label\n",
    "\"\"\"start = datetime.now()\n",
    "RFC = RandomForestClassifier(random_state=42,max_features='sqrt',n_estimators=500)\n",
    "max_depth = [x**2 for x in range(2,10)]\n",
    "min_samples_split = [4,7,16]\n",
    "min_samples_leaf = [4,7,16]\n",
    "distributions = {'max_depth': max_depth,\n",
    "               'min_samples_split': min_samples_split,\n",
    "               'min_samples_leaf': min_samples_leaf}\n",
    "RFC_RS=RandomizedSearchCV(RFC,distributions,random_state=42,n_iter=20,cv=folds.split(X_train),n_jobs=-1)\n",
    "search_RFC_Sepsis=RFC_RS.fit(X_train, y_train_sepsis)\n",
    "end = datetime.now()\n",
    "time_elapsed(start,end)\n",
    "search_RFC_Sepsis.best_params_\"\"\""
   ]
  },
  {
   "cell_type": "code",
   "execution_count": null,
   "metadata": {},
   "outputs": [],
   "source": [
    "#best_dict=search_RFC_Sepsis.best_params_\n",
    "best_dict={'min_samples_split': 7, 'min_samples_leaf': 7, 'max_depth': 4}"
   ]
  },
  {
   "cell_type": "code",
   "execution_count": null,
   "metadata": {},
   "outputs": [],
   "source": [
    "#Create Model\n",
    "start = datetime.now()\n",
    "RFC_=RandomForestClassifier(n_estimators=2000, min_samples_split=best_dict['min_samples_split'],\n",
    "min_samples_leaf=best_dict['min_samples_leaf'], max_features='sqrt', max_depth=best_dict['max_depth'],\n",
    "random_state=42,n_jobs=-1)\n",
    "RFC_.fit(X_train,y_train_pre_sep_3)\n",
    "end = datetime.now()\n",
    "time_elapsed(start,end)"
   ]
  },
  {
   "cell_type": "code",
   "execution_count": null,
   "metadata": {},
   "outputs": [],
   "source": [
    "#Results for Training Set\n",
    "yhat = RFC_.predict_proba(X_train)\n",
    "yhat = yhat[:, 1]\n",
    "precision, recall, thresholds = precision_recall_curve(y_train_pre_sep_2, yhat)\n",
    "fscore = (2 * precision * recall) / (precision + recall)\n",
    "ix = np.argmax(fscore)\n",
    "print('Best Threshold=%f, F-Score=%.3f' % (thresholds[ix], fscore[ix]))\n",
    "no_skill = len(y_train_sepsis[y_train_sepsis==1]) / len(y_train_sepsis)\n",
    "auc_=round(auc(recall,precision),3)\n",
    "plt.plot([0,1], [no_skill,no_skill], linestyle='--', label='No Skill',c='orange')\n",
    "plt.scatter(recall, precision, marker='.', label='Random Forest',s=10)\n",
    "plt.scatter(recall[ix], precision[ix], marker='o', color='black', label='Best',s=100)\n",
    "plt.text(0, .25, 'AUC: {}'.format(auc_), style='italic',\n",
    "        bbox={'facecolor': 'red', 'alpha': 0.5, 'pad': 10})\n",
    "# axis labels\n",
    "plt.xlabel('Recall')\n",
    "plt.ylabel('Precision')\n",
    "plt.title('Sepsis Label Training Data')\n",
    "plt.legend()\n",
    "# show the plot\n",
    "plt.show()"
   ]
  },
  {
   "cell_type": "code",
   "execution_count": null,
   "metadata": {},
   "outputs": [],
   "source": [
    "print(classification_report(y_train_pre_sep_3,RFC_.predict(X_train)))"
   ]
  },
  {
   "cell_type": "code",
   "execution_count": null,
   "metadata": {},
   "outputs": [],
   "source": [
    "#Results for Test Set\n",
    "yhat = RFC_.predict_proba(X_test)\n",
    "yhat = yhat[:, 1]\n",
    "precision, recall, thresholds = precision_recall_curve(y_test_pre_sep_3, yhat)\n",
    "fscore = (2 * precision * recall) / (precision + recall)\n",
    "ix = np.argmax(fscore)\n",
    "print('Best Threshold=%f, F-Score=%.3f' % (thresholds[ix], fscore[ix]))\n",
    "no_skill = len(y_test_sepsis[y_test_sepsis==1]) / len(y_test_sepsis)\n",
    "auc_=round(auc(recall,precision),3)\n",
    "plt.plot([0,1], [no_skill,no_skill], linestyle='--', label='No Skill',c='orange')\n",
    "plt.scatter(recall, precision, marker='.', label='Random Forest',s=10)\n",
    "plt.scatter(recall[ix], precision[ix], marker='o', color='black', label='Best',s=100)\n",
    "plt.text(0, .25, 'AUC: {}'.format(auc_), style='italic',\n",
    "        bbox={'facecolor': 'red', 'alpha': 0.5, 'pad': 10})\n",
    "# axis labels\n",
    "plt.xlabel('Recall')\n",
    "plt.ylabel('Precision')\n",
    "plt.title('Sepsis Label Test Data')\n",
    "plt.legend()\n",
    "# show the plot\n",
    "plt.show()"
   ]
  },
  {
   "cell_type": "code",
   "execution_count": null,
   "metadata": {},
   "outputs": [],
   "source": [
    "RFC_.feature_importances_"
   ]
  },
  {
   "cell_type": "code",
   "execution_count": null,
   "metadata": {},
   "outputs": [],
   "source": [
    "r=list(X_train.columns.values)\n",
    "v=list(RFC_.feature_importances_)"
   ]
  },
  {
   "cell_type": "code",
   "execution_count": null,
   "metadata": {},
   "outputs": [],
   "source": [
    "pd.DataFrame({'features':r,'values':v})"
   ]
  },
  {
   "cell_type": "code",
   "execution_count": null,
   "metadata": {},
   "outputs": [],
   "source": [
    "len(importance.index)"
   ]
  },
  {
   "cell_type": "code",
   "execution_count": null,
   "metadata": {},
   "outputs": [],
   "source": [
    "importance = RFC_.feature_importances_\n",
    "importance = pd.DataFrame(importance, index=X_train.columns, \n",
    "                          columns=[\"Importance\"])\n",
    "\n",
    "importance[\"Std\"] = np.std([tree.feature_importances_\n",
    "                            for tree in RFC_.estimators_], axis=0)\n",
    "\n",
    "x = range(importance.shape[0])\n",
    "y = importance.iloc[:, 0]\n",
    "yerr = importance.iloc[:, 1]\n",
    "plt.subplots(figsize=(16,10))\n",
    "plt.bar(x, y, yerr=yerr, align=\"center\")\n",
    "plt.xticks(ticks=range(0,91),labels=importance.index,rotation=90)\n",
    "plt.show()"
   ]
  },
  {
   "cell_type": "code",
   "execution_count": null,
   "metadata": {},
   "outputs": [],
   "source": [
    "importance.sort"
   ]
  }
 ],
 "metadata": {
  "kernelspec": {
   "display_name": "Python 3",
   "language": "python",
   "name": "python3"
  },
  "language_info": {
   "codemirror_mode": {
    "name": "ipython",
    "version": 3
   },
   "file_extension": ".py",
   "mimetype": "text/x-python",
   "name": "python",
   "nbconvert_exporter": "python",
   "pygments_lexer": "ipython3",
   "version": "3.8.5"
  }
 },
 "nbformat": 4,
 "nbformat_minor": 4
}
