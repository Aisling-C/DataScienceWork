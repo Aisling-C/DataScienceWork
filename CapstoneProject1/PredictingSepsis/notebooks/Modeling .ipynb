{
 "cells": [
  {
   "cell_type": "markdown",
   "metadata": {},
   "source": [
    "# Overview"
   ]
  },
  {
   "cell_type": "markdown",
   "metadata": {},
   "source": [
    "    -Test/Train Split\n",
    "    -Min Max Scaling "
   ]
  },
  {
   "cell_type": "markdown",
   "metadata": {},
   "source": [
    "# Load Libraries & Data"
   ]
  },
  {
   "cell_type": "code",
   "execution_count": null,
   "metadata": {},
   "outputs": [],
   "source": [
    "import glob, os\n",
    "import pandas as pd\n",
    "import numpy as np\n",
    "import json\n",
    "import seaborn as sns\n",
    "import matplotlib.pyplot as plt\n",
    "from IPython.display import Image\n",
    "from sklearn.model_selection import train_test_split\n",
    "pd.set_option('display.max_rows', 500)\n",
    "pd.set_option('display.max_columns', 500)"
   ]
  },
  {
   "cell_type": "code",
   "execution_count": null,
   "metadata": {},
   "outputs": [],
   "source": [
    "os.chdir(\"../data/interim\")\n",
    "\n",
    "#Load in Data\n",
    "#First, the notes\n",
    "with open(\"Data_Notes.json\", \"r\") as infile:  \n",
    "    notes=json.load(infile)\n",
    "    \n",
    "os.chdir(\"../processed\")\n",
    "#Next, the actual data\n",
    "df=pd.read_csv('sepsis_data_preprocessed.csv',index_col=0)\n",
    "\n",
    "os.chdir(\"../../docs\")\n",
    "Image(filename='SepsisClassifier.PNG') "
   ]
  },
  {
   "cell_type": "code",
   "execution_count": null,
   "metadata": {},
   "outputs": [],
   "source": [
    "X=df.drop(columns=['SepsisLabel','SepsisOnset', 'Hourly_Sepsis', 'Pre_Sepsis', 'Pre_Acute_Sepsis'])\n",
    "y_hr=df['Hourly_Sepsis']\n",
    "y_pre_acute=df['Pre_Acute_Sepsis']\n",
    "y_pre=df['Pre_Sepsis']\n",
    "y_sepsis=df['SepsisLabel']\n",
    "n=42\n",
    "\n",
    "#Stratify argument???\n",
    "X_train_hr, X_test_hr, y_train_hr, y_test_hr = train_test_split(X,y_hr,test_size=0.25,random_state=n)\n",
    "X_train_pre_acute, X_test_pre_acute, y_train_pre_acute, y_test_pre_acute = train_test_split(X,y_pre_acute,test_size=0.25,random_state=n)\n",
    "X_train_pre, X_test_pre, y_train_pre, y_test_pre = train_test_split(X,y_pre,test_size=0.25,random_state=n)\n",
    "X_train_sepsis, X_test_sepsis, y_train_sepsis, y_test_sepsis = train_test_split(X,y_sepsis,test_size=0.25,random_state=n)\n"
   ]
  },
  {
   "cell_type": "code",
   "execution_count": null,
   "metadata": {},
   "outputs": [],
   "source": []
  },
  {
   "cell_type": "code",
   "execution_count": null,
   "metadata": {},
   "outputs": [],
   "source": [
    "df.info()"
   ]
  },
  {
   "cell_type": "code",
   "execution_count": null,
   "metadata": {},
   "outputs": [],
   "source": [
    "X_train_hr.loc[:,'BaseExcess':'Dum_Platelets']"
   ]
  },
  {
   "cell_type": "code",
   "execution_count": null,
   "metadata": {},
   "outputs": [],
   "source": [
    "#Model Sepsis Label \n",
    "from sklearn.impute import SimpleImputer\n",
    "from sklearn.pipeline import Pipeline\n",
    "from sklearn.ensemble import RandomForestClassifier\n",
    "from sklearn.datasets import make_classification\n",
    "\n",
    "RFC = RandomForestClassifier(random_state=n,max_depth=3)\n",
    "imp = SimpleImputer(missing_values='NaN', strategy='median')\n",
    "\n",
    "steps = [('imputation', imp),\n",
    "        #('classifier', RFC)\n",
    "        ]\n",
    "\n",
    "pipeline = Pipeline(steps)\n",
    "pipeline.fit(X_train_hr.loc[:,'ICULOS':'Dum_Platelets'],y_train_hr)\n",
    "#y_pred = pipeline.predict(X_test_hr)"
   ]
  }
 ],
 "metadata": {
  "kernelspec": {
   "display_name": "Python 3",
   "language": "python",
   "name": "python3"
  },
  "language_info": {
   "codemirror_mode": {
    "name": "ipython",
    "version": 3
   },
   "file_extension": ".py",
   "mimetype": "text/x-python",
   "name": "python",
   "nbconvert_exporter": "python",
   "pygments_lexer": "ipython3",
   "version": "3.8.5"
  }
 },
 "nbformat": 4,
 "nbformat_minor": 4
}
