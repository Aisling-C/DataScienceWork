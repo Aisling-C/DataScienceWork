{
 "cells": [
  {
   "cell_type": "markdown",
   "metadata": {},
   "source": [
    "# Overview"
   ]
  },
  {
   "cell_type": "markdown",
   "metadata": {},
   "source": [
    "    -Test/Train Split\n",
    "    -Min Max Scaling \n",
    "    -Hyperparameter Estimation\n",
    "    -Model Evaluation (Precision/Recall Curves)"
   ]
  },
  {
   "cell_type": "markdown",
   "metadata": {},
   "source": [
    "# Load Libraries & Data"
   ]
  },
  {
   "cell_type": "code",
   "execution_count": 1,
   "metadata": {},
   "outputs": [],
   "source": [
    "#General Imports\n",
    "import glob, os\n",
    "import pandas as pd\n",
    "import numpy as np\n",
    "import json\n",
    "import seaborn as sns\n",
    "import matplotlib.pyplot as plt\n",
    "from IPython.display import Image\n",
    "from scipy.stats import uniform\n",
    "from datetime import datetime\n",
    "pd.set_option('display.max_rows', 500)\n",
    "pd.set_option('display.max_columns', 500)"
   ]
  },
  {
   "cell_type": "code",
   "execution_count": 2,
   "metadata": {},
   "outputs": [],
   "source": [
    "#Sklearn imports\n",
    "from sklearn.model_selection import train_test_split, RandomizedSearchCV, KFold, GridSearchCV\n",
    "from sklearn.preprocessing import MinMaxScaler\n",
    "from sklearn.pipeline import Pipeline\n",
    "from sklearn.ensemble import RandomForestClassifier, GradientBoostingClassifier, AdaBoostClassifier\n",
    "from sklearn.linear_model import LogisticRegression\n",
    "from sklearn.dummy import DummyClassifier\n",
    "from sklearn.svm import SVC\n",
    "from sklearn.datasets import make_classification\n",
    "from sklearn.metrics import plot_confusion_matrix, classification_report, \\\n",
    "roc_curve, plot_precision_recall_curve, precision_recall_curve, confusion_matrix, auc, plot_roc_curve\n",
    "from sklearn.feature_selection import SelectFromModel"
   ]
  },
  {
   "cell_type": "code",
   "execution_count": 3,
   "metadata": {},
   "outputs": [],
   "source": [
    "os.chdir(\"../src/data\")\n",
    "from time_elapsed import time_elapsed\n",
    "from PlotPrecisionRecall import Plot_PR\n",
    "from PlotFeatureImportance import Plot_Feat_Imp"
   ]
  },
  {
   "cell_type": "code",
   "execution_count": 4,
   "metadata": {},
   "outputs": [],
   "source": [
    "os.chdir(\"../../src/data\")\n",
    "from PlotFeatureImportance import Plot_Feat_Imp"
   ]
  },
  {
   "cell_type": "code",
   "execution_count": 5,
   "metadata": {},
   "outputs": [],
   "source": [
    "os.chdir(\"../../data/interim\")\n",
    "\n",
    "#Load in Data\n",
    "#First, the notes\n",
    "with open(\"Data_Notes.json\", \"r\") as infile:  \n",
    "    notes=json.load(infile)\n",
    "    \n",
    "os.chdir(\"../processed\")\n",
    "#Next, the actual data\n",
    "df=pd.read_csv('sepsis_data_preprocessed.csv',index_col=0)"
   ]
  },
  {
   "cell_type": "code",
   "execution_count": 6,
   "metadata": {},
   "outputs": [],
   "source": [
    "#Drop Unit/Hospital Identifying Variables\n",
    "list_=['Unit1','Unit2','HospitalA']\n",
    "df.drop(columns=list_,inplace=True)"
   ]
  },
  {
   "cell_type": "code",
   "execution_count": 63,
   "metadata": {},
   "outputs": [],
   "source": [
    "#df_copy=df.copy()\n",
    "df=df_copy"
   ]
  },
  {
   "cell_type": "code",
   "execution_count": 44,
   "metadata": {},
   "outputs": [],
   "source": [
    "id_G_55=np.unique(df[df.ICULOS>24]['id'])\n",
    "df_G_55=df[df.id.isin(id_G_55)].copy()\n",
    "df=df_G_55"
   ]
  },
  {
   "cell_type": "markdown",
   "metadata": {},
   "source": [
    "## Preventing Data Leakage in Train & Test Sets"
   ]
  },
  {
   "cell_type": "code",
   "execution_count": 64,
   "metadata": {},
   "outputs": [],
   "source": [
    "#Generate matrix with all patient id's randomly shuffled (id_shuff)\n",
    "np.random.seed(seed=5)\n",
    "id_shuff=df.id.unique()\n",
    "np.random.shuffle(id_shuff)\n",
    "#Split into test & train arrays of 1/4 and 3/4 the original size\n",
    "n=int(round(id_shuff.size*0.25,0))\n",
    "test_id=id_shuff[0:n]\n",
    "train_id=id_shuff[n:]"
   ]
  },
  {
   "cell_type": "code",
   "execution_count": 65,
   "metadata": {},
   "outputs": [
    {
     "name": "stdout",
     "output_type": "stream",
     "text": [
      "The test data set has 25.55% of the data points\n"
     ]
    }
   ],
   "source": [
    "#Calculate percent of time points in test df\n",
    "a=round(len(df[df.id.isin(test_id)])/(len(df))*100,2)\n",
    "print(\"The test data set has {}% of the data points\".format(a))"
   ]
  },
  {
   "cell_type": "code",
   "execution_count": 66,
   "metadata": {},
   "outputs": [
    {
     "name": "stdout",
     "output_type": "stream",
     "text": [
      "7.63% of patients in the train data set have sepsis\n"
     ]
    }
   ],
   "source": [
    "#Calculate percent of patients with sepsis in train df \n",
    "a=round(df[df.id.isin(train_id)].SepsisOnset.sum()/len(train_id)*100,2)\n",
    "print(\"{}% of patients in the train data set have sepsis\".format(a))"
   ]
  },
  {
   "cell_type": "code",
   "execution_count": 67,
   "metadata": {},
   "outputs": [
    {
     "name": "stdout",
     "output_type": "stream",
     "text": [
      "7.74% of patients in the test data set have sepsis\n"
     ]
    }
   ],
   "source": [
    "#Calculate percent of patients with sepsis in test df \n",
    "a=round(df[df.id.isin(test_id)].SepsisOnset.sum()/len(test_id)*100,2)\n",
    "print(\"{}% of patients in the test data set have sepsis\".format(a))"
   ]
  },
  {
   "cell_type": "code",
   "execution_count": 61,
   "metadata": {},
   "outputs": [
    {
     "data": {
      "text/plain": [
       "(3358,)"
      ]
     },
     "execution_count": 61,
     "metadata": {},
     "output_type": "execute_result"
    }
   ],
   "source": [
    "train_id.shape"
   ]
  },
  {
   "cell_type": "markdown",
   "metadata": {},
   "source": [
    "## Create Test & Train Sets"
   ]
  },
  {
   "cell_type": "code",
   "execution_count": 68,
   "metadata": {},
   "outputs": [],
   "source": [
    "#Create Test/Train X\n",
    "X_train=df[df.id.isin(train_id)].copy()\n",
    "X_test=df[df.id.isin(test_id)].copy()\n",
    "\n",
    "#Split y_train into various classification columns \n",
    "y_train_sepsis=X_train['SepsisLabel']\n",
    "y_train_pre=X_train['Pre_Sepsis_Three']\n",
    "\n",
    "#Split y_test into various classification columns \n",
    "y_test_sepsis=X_test['SepsisLabel']\n",
    "y_test_pre=X_test['Pre_Sepsis_Three']\n",
    "\n",
    "#Drop all classifiers from X\n",
    "X_train.drop(columns=['SepsisLabel','SepsisOnset','id','Pre_Sepsis_Three'],inplace=True)\n",
    "X_test.drop(columns=['SepsisLabel','SepsisOnset','id','Pre_Sepsis_Three'],inplace=True)\n",
    "\n",
    "#Get Labels for later\n",
    "Var_names=list(X_train.columns)"
   ]
  },
  {
   "cell_type": "markdown",
   "metadata": {},
   "source": [
    "## Apply Min/Max Scaler, Ensure CV has No Cross Leakage"
   ]
  },
  {
   "cell_type": "code",
   "execution_count": 69,
   "metadata": {},
   "outputs": [],
   "source": [
    "#Fit Min-Max Scaler to X_train data, transform X_train and X_test data\n",
    "MM_scale=MinMaxScaler()\n",
    "MM_scale.fit(X_train)\n",
    "X_train=MM_scale.transform(X_train)\n",
    "X_test=MM_scale.transform(X_test)\n",
    "\n",
    "#Create kfolds CV objest (to allow for sequential folding, not random - prevents data leakage in cross folds)\n",
    "folds=KFold(n_splits=4)"
   ]
  },
  {
   "cell_type": "markdown",
   "metadata": {},
   "source": [
    "# Modeling Sepsis Label"
   ]
  },
  {
   "cell_type": "markdown",
   "metadata": {},
   "source": [
    "## Dummy Classifier"
   ]
  },
  {
   "cell_type": "code",
   "execution_count": 14,
   "metadata": {},
   "outputs": [
    {
     "name": "stdout",
     "output_type": "stream",
     "text": [
      "              precision    recall  f1-score   support\n",
      "\n",
      "           0       0.98      1.00      0.99     57984\n",
      "           1       0.00      0.00      0.00      1116\n",
      "\n",
      "    accuracy                           0.98     59100\n",
      "   macro avg       0.49      0.50      0.50     59100\n",
      "weighted avg       0.96      0.98      0.97     59100\n",
      "\n"
     ]
    }
   ],
   "source": [
    "#Model Sepsis Label - Dummy Classifier, Most Frequent\n",
    "dummy_clf = DummyClassifier(strategy=\"most_frequent\")\n",
    "y_pred_dummy=dummy_clf.fit(X_train, y_train_sepsis).predict(X_test)\n",
    "print(classification_report(y_test_sepsis,y_pred_dummy,zero_division=0))"
   ]
  },
  {
   "cell_type": "markdown",
   "metadata": {},
   "source": [
    "## Logistic Regression"
   ]
  },
  {
   "cell_type": "markdown",
   "metadata": {},
   "source": [
    "### Sepsis Label - All"
   ]
  },
  {
   "cell_type": "code",
   "execution_count": 15,
   "metadata": {},
   "outputs": [
    {
     "name": "stdout",
     "output_type": "stream",
     "text": [
      "This process took 00 Hours 00 Minutes 51 Seconds \n"
     ]
    },
    {
     "data": {
      "text/plain": [
       "{'C': 1.0}"
      ]
     },
     "execution_count": 15,
     "metadata": {},
     "output_type": "execute_result"
    }
   ],
   "source": [
    "#Find logsitic regression parameters for modelling Sepsis Label\n",
    "start = datetime.now()\n",
    "clf = LogisticRegression(max_iter=10000)\n",
    "C=[1/(10**i) for i in range(0,10)]\n",
    "distributions = {'C': C}\n",
    "LR_GS=GridSearchCV(clf,distributions,cv=folds.split(X_train),n_jobs=-1,scoring='f1')\n",
    "search_LR_GS=LR_GS.fit(X_train, y_train_sepsis)\n",
    "end = datetime.now()\n",
    "time_elapsed(start,end)\n",
    "best_dict=search_LR_GS.best_params_\n",
    "search_LR_GS.best_params_"
   ]
  },
  {
   "cell_type": "code",
   "execution_count": 16,
   "metadata": {},
   "outputs": [
    {
     "data": {
      "text/plain": [
       "array([0, 0, 0, ..., 0, 0, 0], dtype=int64)"
      ]
     },
     "execution_count": 16,
     "metadata": {},
     "output_type": "execute_result"
    }
   ],
   "source": [
    "#Make Logistic Regression Model with optimized C\n",
    "clf=LogisticRegression(max_iter=1000,C=best_dict['C'])\n",
    "clf.fit(X_train,y_train_sepsis)\n",
    "clf.predict(X_test)"
   ]
  },
  {
   "cell_type": "code",
   "execution_count": 17,
   "metadata": {},
   "outputs": [
    {
     "name": "stdout",
     "output_type": "stream",
     "text": [
      "              precision    recall  f1-score   support\n",
      "\n",
      "           0       0.98      1.00      0.99     57984\n",
      "           1       0.18      0.02      0.03      1116\n",
      "\n",
      "    accuracy                           0.98     59100\n",
      "   macro avg       0.58      0.51      0.51     59100\n",
      "weighted avg       0.97      0.98      0.97     59100\n",
      "\n"
     ]
    }
   ],
   "source": [
    "print(classification_report(y_test_sepsis,clf.predict(X_test),zero_division=1))"
   ]
  },
  {
   "cell_type": "code",
   "execution_count": 18,
   "metadata": {},
   "outputs": [
    {
     "data": {
      "image/png": "[encoded data removed]",
      "text/plain": [
       "<Figure size 432x288 with 1 Axes>"
      ]
     },
     "metadata": {
      "needs_background": "light"
     },
     "output_type": "display_data"
    }
   ],
   "source": [
    "plot_roc_curve(clf,X_test,y_test_sepsis)\n",
    "plt.plot([0,1],[0,1],label='No Skill',linestyle='--')\n",
    "plt.legend()\n",
    "plt.title('ROC Curve')\n",
    "plt.show()"
   ]
  },
  {
   "cell_type": "code",
   "execution_count": 19,
   "metadata": {},
   "outputs": [
    {
     "name": "stdout",
     "output_type": "stream",
     "text": [
      "Best Train Threshold=0.101023, F-Score=0.172\n",
      "Best Test Threshold=0.154520, F-Score=0.173\n",
      "Train AUC: 0.097 Test AUC: 0.096\n"
     ]
    },
    {
     "data": {
      "image/png": "[encoded data removed]",
      "text/plain": [
       "<Figure size 720x432 with 1 Axes>"
      ]
     },
     "metadata": {
      "needs_background": "light"
     },
     "output_type": "display_data"
    }
   ],
   "source": [
    "Plot_PR(clf,X_train,y_train_sepsis,X_test,y_test_sepsis,auc,precision_recall_curve,np,plt,(10,6))"
   ]
  },
  {
   "cell_type": "markdown",
   "metadata": {},
   "source": [
    "### Sepsis Label - 50"
   ]
  },
  {
   "cell_type": "code",
   "execution_count": 32,
   "metadata": {},
   "outputs": [
    {
     "name": "stdout",
     "output_type": "stream",
     "text": [
      "This process took 00 Hours 01 Minutes 00 Seconds \n"
     ]
    },
    {
     "name": "stderr",
     "output_type": "stream",
     "text": [
      "C:\\Users\\amcas\\anaconda3\\lib\\site-packages\\sklearn\\linear_model\\_logistic.py:763: ConvergenceWarning: lbfgs failed to converge (status=1):\n",
      "STOP: TOTAL NO. of ITERATIONS REACHED LIMIT.\n",
      "\n",
      "Increase the number of iterations (max_iter) or scale the data as shown in:\n",
      "    https://scikit-learn.org/stable/modules/preprocessing.html\n",
      "Please also refer to the documentation for alternative solver options:\n",
      "    https://scikit-learn.org/stable/modules/linear_model.html#logistic-regression\n",
      "  n_iter_i = _check_optimize_result(\n"
     ]
    },
    {
     "data": {
      "text/plain": [
       "{'C': 1.0}"
      ]
     },
     "execution_count": 32,
     "metadata": {},
     "output_type": "execute_result"
    }
   ],
   "source": [
    "#Find logsitic regression parameters for modelling Sepsis Label\n",
    "start = datetime.now()\n",
    "clf = LogisticRegression(max_iter=10000)\n",
    "C=[1/(10**i) for i in range(0,10)]\n",
    "distributions = {'C': C}\n",
    "LR_GS=GridSearchCV(clf,distributions,cv=folds.split(X_train),n_jobs=-1,scoring='f1')\n",
    "search_LR_GS=LR_GS.fit(X_train, y_train_sepsis)\n",
    "end = datetime.now()\n",
    "time_elapsed(start,end)\n",
    "best_dict=search_LR_GS.best_params_\n",
    "search_LR_GS.best_params_"
   ]
  },
  {
   "cell_type": "code",
   "execution_count": 33,
   "metadata": {},
   "outputs": [
    {
     "name": "stderr",
     "output_type": "stream",
     "text": [
      "C:\\Users\\amcas\\anaconda3\\lib\\site-packages\\sklearn\\linear_model\\_logistic.py:763: ConvergenceWarning: lbfgs failed to converge (status=1):\n",
      "STOP: TOTAL NO. of ITERATIONS REACHED LIMIT.\n",
      "\n",
      "Increase the number of iterations (max_iter) or scale the data as shown in:\n",
      "    https://scikit-learn.org/stable/modules/preprocessing.html\n",
      "Please also refer to the documentation for alternative solver options:\n",
      "    https://scikit-learn.org/stable/modules/linear_model.html#logistic-regression\n",
      "  n_iter_i = _check_optimize_result(\n"
     ]
    },
    {
     "data": {
      "text/plain": [
       "array([0, 0, 0, ..., 0, 0, 0], dtype=int64)"
      ]
     },
     "execution_count": 33,
     "metadata": {},
     "output_type": "execute_result"
    }
   ],
   "source": [
    "#Make Logistic Regression Model with optimized C\n",
    "clf=LogisticRegression(max_iter=10000,C=best_dict['C'])\n",
    "clf.fit(X_train,y_train_sepsis)\n",
    "clf.predict(X_test)"
   ]
  },
  {
   "cell_type": "code",
   "execution_count": 34,
   "metadata": {},
   "outputs": [
    {
     "name": "stdout",
     "output_type": "stream",
     "text": [
      "              precision    recall  f1-score   support\n",
      "\n",
      "           0       0.98      1.00      0.99     17685\n",
      "           1       0.32      0.02      0.04       445\n",
      "\n",
      "    accuracy                           0.97     18130\n",
      "   macro avg       0.65      0.51      0.51     18130\n",
      "weighted avg       0.96      0.97      0.96     18130\n",
      "\n"
     ]
    }
   ],
   "source": [
    "print(classification_report(y_test_sepsis,clf.predict(X_test),zero_division=1))"
   ]
  },
  {
   "cell_type": "code",
   "execution_count": 35,
   "metadata": {},
   "outputs": [
    {
     "data": {
      "image/png": "[encoded data removed]",
      "text/plain": [
       "<Figure size 432x288 with 1 Axes>"
      ]
     },
     "metadata": {
      "needs_background": "light"
     },
     "output_type": "display_data"
    }
   ],
   "source": [
    "plot_roc_curve(clf,X_test,y_test_sepsis)\n",
    "plt.plot([0,1],[0,1],label='No Skill',linestyle='--')\n",
    "plt.legend()\n",
    "plt.title('ROC Curve')\n",
    "plt.show()"
   ]
  },
  {
   "cell_type": "code",
   "execution_count": 36,
   "metadata": {},
   "outputs": [
    {
     "name": "stdout",
     "output_type": "stream",
     "text": [
      "Best Train Threshold=0.676443, F-Score=nan\n",
      "Best Test Threshold=0.249382, F-Score=0.241\n",
      "Train AUC: 0.196 Test AUC: 0.178\n"
     ]
    },
    {
     "data": {
      "image/png": "[encoded data removed]",
      "text/plain": [
       "<Figure size 720x432 with 1 Axes>"
      ]
     },
     "metadata": {
      "needs_background": "light"
     },
     "output_type": "display_data"
    }
   ],
   "source": [
    "Plot_PR(clf,X_train,y_train_sepsis,X_test,y_test_sepsis,auc,precision_recall_curve,np,plt,(10,6))"
   ]
  },
  {
   "cell_type": "markdown",
   "metadata": {},
   "source": [
    "### Sepsis Label - 55"
   ]
  },
  {
   "cell_type": "code",
   "execution_count": null,
   "metadata": {},
   "outputs": [],
   "source": [
    "#Find logsitic regression parameters for modelling Sepsis Label\n",
    "start = datetime.now()\n",
    "clf = LogisticRegression(max_iter=1000)\n",
    "C=[1/(10**i) for i in range(0,10)]\n",
    "distributions = {'C': C}\n",
    "LR_GS=GridSearchCV(clf,distributions,cv=folds.split(X_train),n_jobs=-1,scoring='f1')\n",
    "search_LR_GS=LR_GS.fit(X_train, y_train_sepsis)\n",
    "end = datetime.now()\n",
    "time_elapsed(start,end)\n",
    "best_dict=search_LR_GS.best_params_\n",
    "search_LR_GS.best_params_"
   ]
  },
  {
   "cell_type": "code",
   "execution_count": null,
   "metadata": {},
   "outputs": [],
   "source": [
    "#Make Logistic Regression Model with optimized C\n",
    "clf=LogisticRegression(max_iter=1000,C=best_dict['C'])\n",
    "clf.fit(X_train,y_train_sepsis)\n",
    "clf.predict(X_test)"
   ]
  },
  {
   "cell_type": "code",
   "execution_count": null,
   "metadata": {},
   "outputs": [],
   "source": [
    "print(classification_report(y_test_sepsis,clf.predict(X_test),zero_division=1))"
   ]
  },
  {
   "cell_type": "code",
   "execution_count": null,
   "metadata": {},
   "outputs": [],
   "source": [
    "plot_roc_curve(clf,X_test,y_test_sepsis)\n",
    "plt.plot([0,1],[0,1],label='No Skill',linestyle='--')\n",
    "plt.legend()\n",
    "plt.title('ROC Curve')\n",
    "plt.show()"
   ]
  },
  {
   "cell_type": "code",
   "execution_count": null,
   "metadata": {},
   "outputs": [],
   "source": [
    "Plot_PR(clf,X_train,y_train_sepsis,X_test,y_test_sepsis,auc,precision_recall_curve,np,plt,(10,6))"
   ]
  },
  {
   "cell_type": "markdown",
   "metadata": {},
   "source": [
    "### Pre Sepsis - All"
   ]
  },
  {
   "cell_type": "code",
   "execution_count": 70,
   "metadata": {},
   "outputs": [
    {
     "name": "stdout",
     "output_type": "stream",
     "text": [
      "This process took 00 Hours 00 Minutes 39 Seconds \n"
     ]
    },
    {
     "data": {
      "text/plain": [
       "{'C': 1.0}"
      ]
     },
     "execution_count": 70,
     "metadata": {},
     "output_type": "execute_result"
    }
   ],
   "source": [
    "#Find logsitic regression parameters for modelling Sepsis Label\n",
    "start = datetime.now()\n",
    "clf = LogisticRegression(max_iter=10000)\n",
    "C=[1/(10**i) for i in range(0,10)]\n",
    "distributions = {'C': C}\n",
    "LR_GS=GridSearchCV(clf,distributions,cv=folds.split(X_train),n_jobs=-1,scoring='f1')\n",
    "search_LR_GS=LR_GS.fit(X_train, y_train_pre)\n",
    "end = datetime.now()\n",
    "time_elapsed(start,end)\n",
    "best_dict=search_LR_GS.best_params_\n",
    "search_LR_GS.best_params_"
   ]
  },
  {
   "cell_type": "code",
   "execution_count": 71,
   "metadata": {},
   "outputs": [
    {
     "data": {
      "text/plain": [
       "LogisticRegression(max_iter=1000)"
      ]
     },
     "execution_count": 71,
     "metadata": {},
     "output_type": "execute_result"
    }
   ],
   "source": [
    "#Make Logistic Regression Model with optimized C\n",
    "clf=LogisticRegression(max_iter=1000,C=best_dict['C'])\n",
    "clf.fit(X_train,y_train_pre)"
   ]
  },
  {
   "cell_type": "code",
   "execution_count": 72,
   "metadata": {},
   "outputs": [
    {
     "name": "stdout",
     "output_type": "stream",
     "text": [
      "              precision    recall  f1-score   support\n",
      "\n",
      "           0       0.99      1.00      1.00     58797\n",
      "           1       1.00      0.00      0.00       303\n",
      "\n",
      "    accuracy                           0.99     59100\n",
      "   macro avg       1.00      0.50      0.50     59100\n",
      "weighted avg       0.99      0.99      0.99     59100\n",
      "\n"
     ]
    }
   ],
   "source": [
    "print(classification_report(y_test_pre,clf.predict(X_test),zero_division=1))"
   ]
  },
  {
   "cell_type": "code",
   "execution_count": 73,
   "metadata": {},
   "outputs": [
    {
     "data": {
      "image/png": "[encoded data removed]",
      "text/plain": [
       "<Figure size 432x288 with 1 Axes>"
      ]
     },
     "metadata": {
      "needs_background": "light"
     },
     "output_type": "display_data"
    }
   ],
   "source": [
    "plot_roc_curve(clf,X_test,y_test_pre)\n",
    "plt.plot([0,1],[0,1],label='No Skill',linestyle='--')\n",
    "plt.legend()\n",
    "plt.title('ROC Curve')\n",
    "plt.show()"
   ]
  },
  {
   "cell_type": "code",
   "execution_count": 74,
   "metadata": {},
   "outputs": [
    {
     "name": "stdout",
     "output_type": "stream",
     "text": [
      "Best Train Threshold=0.146481, F-Score=nan\n",
      "Best Test Threshold=0.270916, F-Score=nan\n",
      "Train AUC: 0.025 Test AUC: 0.024\n"
     ]
    },
    {
     "data": {
      "image/png": "[encoded data removed]",
      "text/plain": [
       "<Figure size 720x432 with 1 Axes>"
      ]
     },
     "metadata": {
      "needs_background": "light"
     },
     "output_type": "display_data"
    }
   ],
   "source": [
    "Plot_PR(clf,X_train,y_train_pre,X_test,y_test_pre,auc,precision_recall_curve,np,plt,(10,6))"
   ]
  },
  {
   "cell_type": "markdown",
   "metadata": {},
   "source": [
    "### Sepsis Label - 50"
   ]
  },
  {
   "cell_type": "code",
   "execution_count": 32,
   "metadata": {},
   "outputs": [
    {
     "name": "stdout",
     "output_type": "stream",
     "text": [
      "This process took 00 Hours 01 Minutes 00 Seconds \n"
     ]
    },
    {
     "name": "stderr",
     "output_type": "stream",
     "text": [
      "C:\\Users\\amcas\\anaconda3\\lib\\site-packages\\sklearn\\linear_model\\_logistic.py:763: ConvergenceWarning: lbfgs failed to converge (status=1):\n",
      "STOP: TOTAL NO. of ITERATIONS REACHED LIMIT.\n",
      "\n",
      "Increase the number of iterations (max_iter) or scale the data as shown in:\n",
      "    https://scikit-learn.org/stable/modules/preprocessing.html\n",
      "Please also refer to the documentation for alternative solver options:\n",
      "    https://scikit-learn.org/stable/modules/linear_model.html#logistic-regression\n",
      "  n_iter_i = _check_optimize_result(\n"
     ]
    },
    {
     "data": {
      "text/plain": [
       "{'C': 1.0}"
      ]
     },
     "execution_count": 32,
     "metadata": {},
     "output_type": "execute_result"
    }
   ],
   "source": [
    "#Find logsitic regression parameters for modelling Sepsis Label\n",
    "start = datetime.now()\n",
    "clf = LogisticRegression(max_iter=10000)\n",
    "C=[1/(10**i) for i in range(0,10)]\n",
    "distributions = {'C': C}\n",
    "LR_GS=GridSearchCV(clf,distributions,cv=folds.split(X_train),n_jobs=-1,scoring='f1')\n",
    "search_LR_GS=LR_GS.fit(X_train, y_train_pre)\n",
    "end = datetime.now()\n",
    "time_elapsed(start,end)\n",
    "best_dict=search_LR_GS.best_params_\n",
    "search_LR_GS.best_params_"
   ]
  },
  {
   "cell_type": "code",
   "execution_count": 33,
   "metadata": {},
   "outputs": [
    {
     "name": "stderr",
     "output_type": "stream",
     "text": [
      "C:\\Users\\amcas\\anaconda3\\lib\\site-packages\\sklearn\\linear_model\\_logistic.py:763: ConvergenceWarning: lbfgs failed to converge (status=1):\n",
      "STOP: TOTAL NO. of ITERATIONS REACHED LIMIT.\n",
      "\n",
      "Increase the number of iterations (max_iter) or scale the data as shown in:\n",
      "    https://scikit-learn.org/stable/modules/preprocessing.html\n",
      "Please also refer to the documentation for alternative solver options:\n",
      "    https://scikit-learn.org/stable/modules/linear_model.html#logistic-regression\n",
      "  n_iter_i = _check_optimize_result(\n"
     ]
    },
    {
     "data": {
      "text/plain": [
       "array([0, 0, 0, ..., 0, 0, 0], dtype=int64)"
      ]
     },
     "execution_count": 33,
     "metadata": {},
     "output_type": "execute_result"
    }
   ],
   "source": [
    "#Make Logistic Regression Model with optimized C\n",
    "clf=LogisticRegression(max_iter=10000,C=best_dict['C'])\n",
    "clf.fit(X_train,y_train_pre)\n",
    "clf.predict(X_test)"
   ]
  },
  {
   "cell_type": "code",
   "execution_count": 34,
   "metadata": {},
   "outputs": [
    {
     "name": "stdout",
     "output_type": "stream",
     "text": [
      "              precision    recall  f1-score   support\n",
      "\n",
      "           0       0.98      1.00      0.99     17685\n",
      "           1       0.32      0.02      0.04       445\n",
      "\n",
      "    accuracy                           0.97     18130\n",
      "   macro avg       0.65      0.51      0.51     18130\n",
      "weighted avg       0.96      0.97      0.96     18130\n",
      "\n"
     ]
    }
   ],
   "source": [
    "print(classification_report(y_test_pre,clf.predict(X_test),zero_division=1))"
   ]
  },
  {
   "cell_type": "code",
   "execution_count": 35,
   "metadata": {},
   "outputs": [
    {
     "data": {
      "image/png": "[encoded data removed]",
      "text/plain": [
       "<Figure size 432x288 with 1 Axes>"
      ]
     },
     "metadata": {
      "needs_background": "light"
     },
     "output_type": "display_data"
    }
   ],
   "source": [
    "plot_roc_curve(clf,X_test,y_test_pre)\n",
    "plt.plot([0,1],[0,1],label='No Skill',linestyle='--')\n",
    "plt.legend()\n",
    "plt.title('ROC Curve')\n",
    "plt.show()"
   ]
  },
  {
   "cell_type": "code",
   "execution_count": 36,
   "metadata": {},
   "outputs": [
    {
     "name": "stdout",
     "output_type": "stream",
     "text": [
      "Best Train Threshold=0.676443, F-Score=nan\n",
      "Best Test Threshold=0.249382, F-Score=0.241\n",
      "Train AUC: 0.196 Test AUC: 0.178\n"
     ]
    },
    {
     "data": {
      "image/png": "[encoded data removed]",
      "text/plain": [
       "<Figure size 720x432 with 1 Axes>"
      ]
     },
     "metadata": {
      "needs_background": "light"
     },
     "output_type": "display_data"
    }
   ],
   "source": [
    "Plot_PR(clf,X_train,y_train_pre,X_test,y_test_pre,auc,precision_recall_curve,np,plt,(10,6))"
   ]
  },
  {
   "cell_type": "markdown",
   "metadata": {},
   "source": [
    "### Sepsis Label - 55"
   ]
  },
  {
   "cell_type": "code",
   "execution_count": null,
   "metadata": {},
   "outputs": [],
   "source": [
    "#Find logsitic regression parameters for modelling Sepsis Label\n",
    "start = datetime.now()\n",
    "clf = LogisticRegression(max_iter=1000)\n",
    "C=[1/(10**i) for i in range(0,10)]\n",
    "distributions = {'C': C}\n",
    "LR_GS=GridSearchCV(clf,distributions,cv=folds.split(X_train),n_jobs=-1,scoring='f1')\n",
    "search_LR_GS=LR_GS.fit(X_train, y_train_pre)\n",
    "end = datetime.now()\n",
    "time_elapsed(start,end)\n",
    "best_dict=search_LR_GS.best_params_\n",
    "search_LR_GS.best_params_"
   ]
  },
  {
   "cell_type": "code",
   "execution_count": null,
   "metadata": {},
   "outputs": [],
   "source": [
    "#Make Logistic Regression Model with optimized C\n",
    "clf=LogisticRegression(max_iter=1000,C=best_dict['C'])\n",
    "clf.fit(X_train,y_train_pre)\n",
    "clf.predict(X_test)"
   ]
  },
  {
   "cell_type": "code",
   "execution_count": null,
   "metadata": {},
   "outputs": [],
   "source": [
    "print(classification_report(y_test_pre,clf.predict(X_test),zero_division=1))"
   ]
  },
  {
   "cell_type": "code",
   "execution_count": null,
   "metadata": {},
   "outputs": [],
   "source": [
    "plot_roc_curve(clf,X_test,y_test_sepsis)\n",
    "plt.plot([0,1],[0,1],label='No Skill',linestyle='--')\n",
    "plt.legend()\n",
    "plt.title('ROC Curve')\n",
    "plt.show()"
   ]
  },
  {
   "cell_type": "code",
   "execution_count": null,
   "metadata": {},
   "outputs": [],
   "source": [
    "Plot_PR(clf,X_train,y_train_pre,X_test,y_test_pre,auc,precision_recall_curve,np,plt,(10,6))"
   ]
  },
  {
   "cell_type": "markdown",
   "metadata": {},
   "source": [
    "## Random Forest\n"
   ]
  },
  {
   "cell_type": "code",
   "execution_count": null,
   "metadata": {},
   "outputs": [],
   "source": [
    "#Find optimal random forest parameters for modelling Sepsis Label\n",
    "start = datetime.now()\n",
    "RFC = RandomForestClassifier(random_state=42,max_features='sqrt',n_estimators=500)\n",
    "max_depth = [x**2 for x in range(2,10)]\n",
    "min_samples_split = [4,7,16]\n",
    "min_samples_leaf = [4,7,16]\n",
    "distributions = {'max_depth': max_depth,\n",
    "               'min_samples_split': min_samples_split,\n",
    "               'min_samples_leaf': min_samples_leaf}\n",
    "RFC_RS=RandomizedSearchCV(RFC,distributions,random_state=42,n_iter=20,cv=folds.split(X_train),n_jobs=-1,scoring='f1')\n",
    "search_RFC_Sepsis=RFC_RS.fit(X_train, y_train_pre)\n",
    "end = datetime.now()\n",
    "time_elapsed(start,end)\n",
    "search_RFC_Sepsis.best_params_"
   ]
  },
  {
   "cell_type": "code",
   "execution_count": null,
   "metadata": {},
   "outputs": [],
   "source": [
    "#best_dict=search_RFC_Sepsis.best_params_\n",
    "best_dict={'min_samples_split': 7, 'min_samples_leaf': 7, 'max_depth': 4}"
   ]
  },
  {
   "cell_type": "code",
   "execution_count": null,
   "metadata": {},
   "outputs": [],
   "source": [
    "#Create Model\n",
    "RFC_=RandomForestClassifier(n_estimators=1000, min_samples_split=best_dict['min_samples_split'],\n",
    "min_samples_leaf=best_dict['min_samples_leaf'], max_features='sqrt', max_depth=best_dict['max_depth'],\n",
    "random_state=42,n_jobs=-1)\n",
    "RFC_.fit(X_train,y_train_pre)"
   ]
  },
  {
   "cell_type": "code",
   "execution_count": null,
   "metadata": {},
   "outputs": [],
   "source": [
    "print(classification_report(y_test_pre,RFC_.predict(X_test),zero_division=1))"
   ]
  },
  {
   "cell_type": "code",
   "execution_count": null,
   "metadata": {},
   "outputs": [],
   "source": [
    "Plot_PR(RFC_,X_train,y_train_pre,X_test,y_test_pre,auc,precision_recall_curve,np,plt,(10,6))"
   ]
  },
  {
   "cell_type": "code",
   "execution_count": null,
   "metadata": {},
   "outputs": [],
   "source": [
    "Plot_Feat_Imp(RFC_,Var_names,pd,np,plt,(12,8))"
   ]
  },
  {
   "cell_type": "markdown",
   "metadata": {},
   "source": [
    "## Gradient Boost"
   ]
  },
  {
   "cell_type": "code",
   "execution_count": null,
   "metadata": {},
   "outputs": [],
   "source": [
    "#Find optimal random forest parameters for modelling Pre Sep 2\n",
    "start = datetime.now()\n",
    "GB = GradientBoostingClassifier(random_state=42,max_features='sqrt',n_estimators=200)\n",
    "max_depth = [3,7,12]\n",
    "learning_rate=[0.001,0.01,0.1,0.25,1]\n",
    "loss=['deviance', 'exponential']\n",
    "distributions = {'max_depth': max_depth,'learning_rate': learning_rate,'loss': loss}\n",
    "GB_RS=RandomizedSearchCV(GB,distributions,random_state=42,n_iter=10,cv=folds.split(X_train),n_jobs=-1,scoring='f1')\n",
    "search_GB_Sepsis=GB_RS.fit(X_train,y_train_three)\n",
    "end = datetime.now()\n",
    "time_elapsed(start,end)\n",
    "search_GB_Sepsis.best_params_"
   ]
  },
  {
   "cell_type": "code",
   "execution_count": null,
   "metadata": {},
   "outputs": [],
   "source": [
    "best_dict=search_GB_Sepsis.best_params_"
   ]
  },
  {
   "cell_type": "code",
   "execution_count": null,
   "metadata": {},
   "outputs": [],
   "source": [
    "importance = GB_.feature_importances_\n",
    "importance = pd.DataFrame(importance, index=df_.columns, \n",
    "                          columns=[\"Importance\"])\n",
    "\n",
    "x = range(importance.shape[0])\n",
    "y = importance.iloc[:, 0]\n",
    "plt.subplots(figsize=(16,10))\n",
    "plt.bar(x, y, align=\"center\")\n",
    "plt.xticks(ticks=range(0,91),labels=importance.index,rotation=90)\n",
    "plt.show()"
   ]
  },
  {
   "cell_type": "code",
   "execution_count": null,
   "metadata": {},
   "outputs": [],
   "source": [
    "search_GB_Sepsis.cv_results_"
   ]
  },
  {
   "cell_type": "code",
   "execution_count": null,
   "metadata": {},
   "outputs": [],
   "source": [
    "best_dict={'max_depth': 4, 'loss': 'exponential', 'learning_rate': 0.1}"
   ]
  },
  {
   "cell_type": "code",
   "execution_count": null,
   "metadata": {},
   "outputs": [],
   "source": [
    "#Create Model\n",
    "start = datetime.now()\n",
    "GB_=GradientBoostingClassifier(n_estimators=200, learning_rate=best_dict['learning_rate'],\n",
    "loss=best_dict['loss'], max_features='sqrt', max_depth=best_dict['max_depth'], random_state=42)\n",
    "#GB_.fit(X_train,y_train_pre_sep_2)\n",
    "GB_.fit(X_train,y_train_three)\n",
    "end = datetime.now()\n",
    "time_elapsed(start,end)"
   ]
  },
  {
   "cell_type": "code",
   "execution_count": null,
   "metadata": {},
   "outputs": [],
   "source": [
    "#Results for Training Set\n",
    "yhat = GB_.predict_proba(X_train)\n",
    "yhat = yhat[:, 1]\n",
    "#precision, recall, thresholds = precision_recall_curve(y_train_pre_sep_2, yhat)\n",
    "precision, recall, thresholds = precision_recall_curve(y_train_three, yhat)\n",
    "fscore = (2 * precision * recall) / (precision + recall)\n",
    "ix = np.argmax(fscore)\n",
    "print('Best Threshold=%f, F-Score=%.3f' % (thresholds[ix], fscore[ix]))\n",
    "no_skill = len(y_train_sepsis[y_train_sepsis==1]) / len(y_train_sepsis)\n",
    "auc_=round(auc(recall,precision),3)\n",
    "plt.plot([0,1], [no_skill,no_skill], linestyle='--', label='No Skill',c='orange')\n",
    "plt.scatter(recall, precision, marker='.', label='Random Forest',s=10)\n",
    "plt.scatter(recall[ix], precision[ix], marker='o', color='black', label='Best',s=100)\n",
    "plt.text(0, .25, 'AUC: {}'.format(auc_), style='italic',\n",
    "        bbox={'facecolor': 'red', 'alpha': 0.5, 'pad': 10})\n",
    "# axis labels\n",
    "plt.xlabel('Recall')\n",
    "plt.ylabel('Precision')\n",
    "plt.title('Sepsis Label Training Data')\n",
    "plt.legend()\n",
    "# show the plot\n",
    "plt.show()"
   ]
  },
  {
   "cell_type": "code",
   "execution_count": null,
   "metadata": {},
   "outputs": [],
   "source": [
    "#Results for Test Set\n",
    "yhat = GB_.predict_proba(X_test)\n",
    "yhat = yhat[:, 1]\n",
    "#precision, recall, thresholds = precision_recall_curve(y_test_pre_sep_2, yhat)\n",
    "precision, recall, thresholds = precision_recall_curve(y_train_three, yhat)\n",
    "fscore = (2 * precision * recall) / (precision + recall)\n",
    "ix = np.argmax(fscore)\n",
    "print('Best Threshold=%f, F-Score=%.3f' % (thresholds[ix], fscore[ix]))\n",
    "no_skill = len(y_test_sepsis[y_test_sepsis==1]) / len(y_test_sepsis)\n",
    "auc_=round(auc(recall,precision),3)\n",
    "plt.plot([0,1], [no_skill,no_skill], linestyle='--', label='No Skill',c='orange')\n",
    "plt.scatter(recall, precision, marker='.', label='Random Forest',s=10)\n",
    "plt.scatter(recall[ix], precision[ix], marker='o', color='black', label='Best',s=100)\n",
    "plt.text(0, .25, 'AUC: {}'.format(auc_), style='italic',\n",
    "        bbox={'facecolor': 'red', 'alpha': 0.5, 'pad': 10})\n",
    "# axis labels\n",
    "plt.xlabel('Recall')\n",
    "plt.ylabel('Precision')\n",
    "plt.title('Sepsis Label Test Data')\n",
    "plt.legend()\n",
    "# show the plot\n",
    "plt.show()"
   ]
  },
  {
   "cell_type": "code",
   "execution_count": null,
   "metadata": {},
   "outputs": [],
   "source": [
    "print(classification_report(y_test_pre_sep_2,GB_.predict(X_test)))"
   ]
  },
  {
   "cell_type": "code",
   "execution_count": null,
   "metadata": {},
   "outputs": [],
   "source": [
    "#Find optimal random forest parameters for modelling Sepsis Label\n",
    "\"\"\"start = datetime.now()\n",
    "RFC = RandomForestClassifier(random_state=42,max_features='sqrt',n_estimators=500)\n",
    "max_depth = [x**2 for x in range(2,10)]\n",
    "min_samples_split = [4,7,16]\n",
    "min_samples_leaf = [4,7,16]\n",
    "distributions = {'max_depth': max_depth,\n",
    "               'min_samples_split': min_samples_split,\n",
    "               'min_samples_leaf': min_samples_leaf}\n",
    "RFC_RS=RandomizedSearchCV(RFC,distributions,random_state=42,n_iter=20,cv=folds.split(X_train),n_jobs=-1)\n",
    "search_RFC_Sepsis=RFC_RS.fit(X_train, y_train_sepsis)\n",
    "end = datetime.now()\n",
    "time_elapsed(start,end)\n",
    "search_RFC_Sepsis.best_params_\"\"\""
   ]
  },
  {
   "cell_type": "code",
   "execution_count": null,
   "metadata": {},
   "outputs": [],
   "source": [
    "#best_dict=search_RFC_Sepsis.best_params_\n",
    "best_dict={'min_samples_split': 7, 'min_samples_leaf': 7, 'max_depth': 4}"
   ]
  },
  {
   "cell_type": "code",
   "execution_count": null,
   "metadata": {},
   "outputs": [],
   "source": [
    "#Create Model\n",
    "start = datetime.now()\n",
    "RFC_=RandomForestClassifier(n_estimators=2000, min_samples_split=best_dict['min_samples_split'],\n",
    "min_samples_leaf=best_dict['min_samples_leaf'], max_features='sqrt', max_depth=best_dict['max_depth'],\n",
    "random_state=42,n_jobs=-1)\n",
    "RFC_.fit(X_train,y_train_pre_sep_3)\n",
    "end = datetime.now()\n",
    "time_elapsed(start,end)"
   ]
  },
  {
   "cell_type": "code",
   "execution_count": null,
   "metadata": {},
   "outputs": [],
   "source": [
    "#Results for Training Set\n",
    "yhat = RFC_.predict_proba(X_train)\n",
    "yhat = yhat[:, 1]\n",
    "precision, recall, thresholds = precision_recall_curve(y_train_pre_sep_2, yhat)\n",
    "fscore = (2 * precision * recall) / (precision + recall)\n",
    "ix = np.argmax(fscore)\n",
    "print('Best Threshold=%f, F-Score=%.3f' % (thresholds[ix], fscore[ix]))\n",
    "no_skill = len(y_train_sepsis[y_train_sepsis==1]) / len(y_train_sepsis)\n",
    "auc_=round(auc(recall,precision),3)\n",
    "plt.plot([0,1], [no_skill,no_skill], linestyle='--', label='No Skill',c='orange')\n",
    "plt.scatter(recall, precision, marker='.', label='Random Forest',s=10)\n",
    "plt.scatter(recall[ix], precision[ix], marker='o', color='black', label='Best',s=100)\n",
    "plt.text(0, .25, 'AUC: {}'.format(auc_), style='italic',\n",
    "        bbox={'facecolor': 'red', 'alpha': 0.5, 'pad': 10})\n",
    "# axis labels\n",
    "plt.xlabel('Recall')\n",
    "plt.ylabel('Precision')\n",
    "plt.title('Sepsis Label Training Data')\n",
    "plt.legend()\n",
    "# show the plot\n",
    "plt.show()"
   ]
  },
  {
   "cell_type": "code",
   "execution_count": null,
   "metadata": {},
   "outputs": [],
   "source": [
    "print(classification_report(y_train_pre_sep_3,RFC_.predict(X_train)))"
   ]
  },
  {
   "cell_type": "code",
   "execution_count": null,
   "metadata": {},
   "outputs": [],
   "source": [
    "#Results for Test Set\n",
    "yhat = RFC_.predict_proba(X_test)\n",
    "yhat = yhat[:, 1]\n",
    "precision, recall, thresholds = precision_recall_curve(y_test_pre_sep_3, yhat)\n",
    "fscore = (2 * precision * recall) / (precision + recall)\n",
    "ix = np.argmax(fscore)\n",
    "print('Best Threshold=%f, F-Score=%.3f' % (thresholds[ix], fscore[ix]))\n",
    "no_skill = len(y_test_sepsis[y_test_sepsis==1]) / len(y_test_sepsis)\n",
    "auc_=round(auc(recall,precision),3)\n",
    "plt.plot([0,1], [no_skill,no_skill], linestyle='--', label='No Skill',c='orange')\n",
    "plt.scatter(recall, precision, marker='.', label='Random Forest',s=10)\n",
    "plt.scatter(recall[ix], precision[ix], marker='o', color='black', label='Best',s=100)\n",
    "plt.text(0, .25, 'AUC: {}'.format(auc_), style='italic',\n",
    "        bbox={'facecolor': 'red', 'alpha': 0.5, 'pad': 10})\n",
    "# axis labels\n",
    "plt.xlabel('Recall')\n",
    "plt.ylabel('Precision')\n",
    "plt.title('Sepsis Label Test Data')\n",
    "plt.legend()\n",
    "# show the plot\n",
    "plt.show()"
   ]
  },
  {
   "cell_type": "code",
   "execution_count": null,
   "metadata": {},
   "outputs": [],
   "source": [
    "RFC_.feature_importances_"
   ]
  },
  {
   "cell_type": "code",
   "execution_count": null,
   "metadata": {},
   "outputs": [],
   "source": [
    "r=list(X_train.columns.values)\n",
    "v=list(RFC_.feature_importances_)"
   ]
  },
  {
   "cell_type": "code",
   "execution_count": null,
   "metadata": {},
   "outputs": [],
   "source": [
    "pd.DataFrame({'features':r,'values':v})"
   ]
  },
  {
   "cell_type": "code",
   "execution_count": null,
   "metadata": {},
   "outputs": [],
   "source": [
    "len(importance.index)"
   ]
  },
  {
   "cell_type": "code",
   "execution_count": null,
   "metadata": {},
   "outputs": [],
   "source": [
    "importance = RFC_.feature_importances_\n",
    "importance = pd.DataFrame(importance, index=X_train.columns, \n",
    "                          columns=[\"Importance\"])\n",
    "\n",
    "importance[\"Std\"] = np.std([tree.feature_importances_\n",
    "                            for tree in RFC_.estimators_], axis=0)\n",
    "\n",
    "x = range(importance.shape[0])\n",
    "y = importance.iloc[:, 0]\n",
    "yerr = importance.iloc[:, 1]\n",
    "plt.subplots(figsize=(16,10))\n",
    "plt.bar(x, y, yerr=yerr, align=\"center\")\n",
    "plt.xticks(ticks=range(0,91),labels=importance.index,rotation=90)\n",
    "plt.show()"
   ]
  },
  {
   "cell_type": "code",
   "execution_count": null,
   "metadata": {},
   "outputs": [],
   "source": [
    "importance.sort"
   ]
  },
  {
   "cell_type": "markdown",
   "metadata": {},
   "source": [
    "# Smote"
   ]
  },
  {
   "cell_type": "code",
   "execution_count": null,
   "metadata": {},
   "outputs": [],
   "source": [
    "#from imblearn.over_sampling import SMOTE\n",
    "#smote=SMOTE(sampling_strategy='minority')\n",
    "#X_train,y_train_three=smote.fit_resample(X_train,y_train_three)"
   ]
  },
  {
   "cell_type": "markdown",
   "metadata": {},
   "source": [
    "# Cutting Patients ICULOS<50"
   ]
  },
  {
   "cell_type": "code",
   "execution_count": null,
   "metadata": {},
   "outputs": [],
   "source": [
    "def sep_ICULOS(n):\n",
    "    tot_pat=len(df[df.ICULOS>n]['id'].value_counts())\n",
    "    sep=df[df.ICULOS>n]['SepsisOnset'].sum()\n",
    "    ratio=round((sep/(tot_pat))*100,2)\n",
    "    print(\"Total # of Patients: {}\".format(tot_pat))\n",
    "    print(\"Patients with Sepsis: {}\".format(sep))\n",
    "    print(\"Ratio: {}\".format(ratio))"
   ]
  },
  {
   "cell_type": "code",
   "execution_count": null,
   "metadata": {},
   "outputs": [],
   "source": [
    "sep_ICULOS(58)"
   ]
  },
  {
   "cell_type": "code",
   "execution_count": null,
   "metadata": {},
   "outputs": [],
   "source": [
    "sep_ICULOS(55)"
   ]
  },
  {
   "cell_type": "code",
   "execution_count": null,
   "metadata": {},
   "outputs": [],
   "source": [
    "sep_ICULOS(54)"
   ]
  },
  {
   "cell_type": "code",
   "execution_count": null,
   "metadata": {},
   "outputs": [],
   "source": [
    "sep_ICULOS(53)"
   ]
  },
  {
   "cell_type": "code",
   "execution_count": null,
   "metadata": {},
   "outputs": [],
   "source": [
    "sep_ICULOS(52)"
   ]
  },
  {
   "cell_type": "code",
   "execution_count": null,
   "metadata": {},
   "outputs": [],
   "source": [
    "sep_ICULOS(51)"
   ]
  },
  {
   "cell_type": "code",
   "execution_count": null,
   "metadata": {},
   "outputs": [],
   "source": [
    "sep_ICULOS(60)"
   ]
  }
 ],
 "metadata": {
  "kernelspec": {
   "display_name": "Python 3",
   "language": "python",
   "name": "python3"
  },
  "language_info": {
   "codemirror_mode": {
    "name": "ipython",
    "version": 3
   },
   "file_extension": ".py",
   "mimetype": "text/x-python",
   "name": "python",
   "nbconvert_exporter": "python",
   "pygments_lexer": "ipython3",
   "version": "3.8.5"
  }
 },
 "nbformat": 4,
 "nbformat_minor": 4
}
