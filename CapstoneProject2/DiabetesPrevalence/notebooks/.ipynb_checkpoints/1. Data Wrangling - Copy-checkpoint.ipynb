{
 "cells": [
  {
   "cell_type": "markdown",
   "id": "1d4388f1",
   "metadata": {},
   "source": [
    "# Load Libraries"
   ]
  },
  {
   "cell_type": "markdown",
   "id": "9791559c",
   "metadata": {},
   "source": [
    "Census 2000-2009: https://www.census.gov/data/tables/time-series/demo/popest/intercensal-2000-2010-counties.html\n",
    "\n",
    "Census 2010-2019: https://www.census.gov/data/tables/time-series/demo/popest/2010s-counties-total.html"
   ]
  },
  {
   "cell_type": "code",
   "execution_count": 1,
   "id": "5be25675",
   "metadata": {},
   "outputs": [],
   "source": [
    "import requests\n",
    "import pandas as pd\n",
    "import csv\n",
    "import os\n",
    "import sys\n",
    "from glob import glob\n",
    "import numpy as np\n",
    "import matplotlib.pyplot as plt\n",
    "import geopandas as gpd\n",
    "from tqdm import tqdm\n",
    "\n",
    "pd.set_option('display.max_rows', None)\n",
    "pd.set_option('display.max_columns', None)\n",
    "\n",
    "#Change directory to project root directory\n",
    "os.chdir(\"..\")\n",
    "\n",
    "from src.data.ACS_API import acs_api\n",
    "from api_credentials import API_KEY\n",
    "from src.data.PEP_API import pep_api"
   ]
  },
  {
   "cell_type": "markdown",
   "id": "1a6f0f01",
   "metadata": {},
   "source": [
    "# Load PEP Population Data "
   ]
  },
  {
   "cell_type": "code",
   "execution_count": 2,
   "id": "f66e94d4",
   "metadata": {},
   "outputs": [],
   "source": [
    "#https://www.census.gov/data/datasets/time-series/demo/popest/intercensal-2000-2010-counties.html\n",
    "#2000-2010 Population/Age Estimates\n",
    "df=pd.read_csv('data/raw/co-est00int-agesex-5yr.csv')"
   ]
  },
  {
   "cell_type": "code",
   "execution_count": 3,
   "id": "0fbdc34a",
   "metadata": {},
   "outputs": [],
   "source": [
    "var_list=['POPESTIMATE2000','POPESTIMATE2001',\n",
    "       'POPESTIMATE2002', 'POPESTIMATE2003', 'POPESTIMATE2004',\n",
    "       'POPESTIMATE2005', 'POPESTIMATE2006', 'POPESTIMATE2007',\n",
    "       'POPESTIMATE2008', 'POPESTIMATE2009','POPESTIMATE2010']"
   ]
  },
  {
   "cell_type": "code",
   "execution_count": 4,
   "id": "beb395e5",
   "metadata": {},
   "outputs": [],
   "source": [
    "#Sex 0 means both sexes, Age>4 means everyone 20+ years old\n",
    "df_sum=df[(df.AGEGRP>4) & (df.SEX==0)].groupby(['STATE','COUNTY','STNAME','CTYNAME'])[var_list].sum()\n",
    "df_sum.reset_index(inplace=True)"
   ]
  },
  {
   "cell_type": "code",
   "execution_count": 5,
   "id": "c44403a3",
   "metadata": {},
   "outputs": [],
   "source": [
    "#Melt dataframe on estimate year \n",
    "df_sum=df_sum.melt(id_vars=['STATE','COUNTY','STNAME','CTYNAME'],value_name='value')\n",
    "df_sum['year']=df_sum.variable.apply(lambda x:x.replace('POPESTIMATE',''))\n",
    "df_sum['variable']='adult_population'\n",
    "#Rename Variables\n",
    "col_name={'STATE':'state_fips','COUNTY':'county_fips','STNAME':'state','CTYNAME':'county'}\n",
    "df_sum.rename(columns=col_name,inplace=True)\n",
    "#Reorder Variables\n",
    "df_sum=df_sum[['county','state','county_fips','state_fips','year', 'variable', 'value',]]"
   ]
  },
  {
   "cell_type": "code",
   "execution_count": 18,
   "id": "3bc92030",
   "metadata": {},
   "outputs": [
    {
     "name": "stderr",
     "output_type": "stream",
     "text": [
      "IOPub data rate exceeded.\n",
      "The notebook server will temporarily stop sending output\n",
      "to the client in order to avoid crashing it.\n",
      "To change this limit, set the config variable\n",
      "`--NotebookApp.iopub_data_rate_limit`.\n",
      "\n",
      "Current values:\n",
      "NotebookApp.iopub_data_rate_limit=1000000.0 (bytes/sec)\n",
      "NotebookApp.rate_limit_window=3.0 (secs)\n",
      "\n"
     ]
    }
   ],
   "source": [
    "url='https://api.census.gov/data/2019/pep/charagegroups?get=NAME,POP,AGEGROUP&for=county:*&key='+ API_KEY\n",
    "r = requests.get(url)\n",
    "text = r.text\n",
    "print(text)"
   ]
  },
  {
   "cell_type": "markdown",
   "id": "18747cef",
   "metadata": {},
   "source": [
    "# Write ACS Demographic Data"
   ]
  },
  {
   "cell_type": "code",
   "execution_count": null,
   "id": "f9582839",
   "metadata": {},
   "outputs": [],
   "source": [
    "#df_pop.to_csv('data/raw/population_est_2000_2019.csv')"
   ]
  },
  {
   "cell_type": "markdown",
   "id": "7f4a02df",
   "metadata": {},
   "source": [
    "Variable Change\n",
    "Estimate!!Race alone or in combination with one or more other races!!Total population!!White\n",
    "\n",
    "DP05_0059E in 2016\n",
    "https://api.census.gov/data/2019/acs/acs1/profile/variables.html\n",
    "\n",
    "DP05_0064E in 2019 \n",
    "https://api.census.gov/data/2016/acs/acs1/profile/variables.html\n",
    "   "
   ]
  }
 ],
 "metadata": {
  "kernelspec": {
   "display_name": "Python 3",
   "language": "python",
   "name": "python3"
  },
  "language_info": {
   "codemirror_mode": {
    "name": "ipython",
    "version": 3
   },
   "file_extension": ".py",
   "mimetype": "text/x-python",
   "name": "python",
   "nbconvert_exporter": "python",
   "pygments_lexer": "ipython3",
   "version": "3.9.5"
  }
 },
 "nbformat": 4,
 "nbformat_minor": 5
}
