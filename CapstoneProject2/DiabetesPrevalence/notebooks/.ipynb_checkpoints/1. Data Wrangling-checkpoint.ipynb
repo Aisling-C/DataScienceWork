{
 "cells": [
  {
   "cell_type": "markdown",
   "id": "81078c5c",
   "metadata": {},
   "source": [
    "# Overview\n",
    "\n",
    "The purpose of this notebook is to injest all data needed for the project and write it into csv files for future processing. Some of the data is read in from csv files downloaded manually, while some of it is read in from the US Census Bureau API using a custom function. The data sets and their medium are:\n",
    "\n",
    "* **CDC Diabetes Data:** Yearly diabetes prevelance data for each county, with an upper and lower limit of the estimate, for adults 20+ years. Data downloaded from the CDC website as separate csv files for each year & compiled here into one. \n",
    "\n",
    "\n",
    "* **ACS Demographic Data:** Yearly demographic data for counties with a population >65,000 from the US Census Bureau's American Community Survey (ACS) - variables such as age, race, education & median income. Queried from the US census API for each variable and year and compiled here.\n",
    "\n",
    "\n",
    "* **All County Population Data:** Yearly estimates of the population of each US county, regardless of population size, from the Population Estimates Program (PEP). Queried from the US census API and compiled here.\n",
    "\n",
    "\n",
    "* **All County Age Estimate Data:** A csv file with estimates of the age of the population in each US county and year between 2000-2010 provided by the US Census Bureau. Here the data is used to deterime the fraction of the population in each county 20 years and older in the year 2010; this is later used to approximate the number of adults with diabetes in each county for all years between 2006 and 2017 in the exploratory data analysis notebook."
   ]
  },
  {
   "cell_type": "markdown",
   "id": "088d8b17",
   "metadata": {},
   "source": [
    "# Code Navigation \n",
    "* [1. Load Packages](#1.LoadPackages)\n",
    "* [2. CDC Diabetes Data](#2.CDCDiabetesData)\n",
    "* [3. ACS Demographic Data](#3.ACSDemographicData)\n",
    "* [4. All County Population Data](#4.AllCountyPopulationData)\n",
    "* [5. All County Age Estimate Data](#5.AllCountyAgeEstimateData)\n",
    "* [6. Write Data](#6.WriteData)"
   ]
  },
  {
   "cell_type": "markdown",
   "id": "1d4388f1",
   "metadata": {},
   "source": [
    "## 1. Load Packages <a class=\"anchor\" id=\"1.LoadPackages\"></a>"
   ]
  },
  {
   "cell_type": "code",
   "execution_count": 1,
   "id": "5be25675",
   "metadata": {},
   "outputs": [],
   "source": [
    "import requests\n",
    "import pandas as pd\n",
    "import csv\n",
    "import os\n",
    "import sys\n",
    "from glob import glob\n",
    "import numpy as np\n",
    "import matplotlib.pyplot as plt\n",
    "import geopandas as gpd\n",
    "from tqdm import tqdm\n",
    "\n",
    "pd.set_option('display.max_rows', None)\n",
    "pd.set_option('display.max_columns', None)\n",
    "\n",
    "#Change directory to project root directory\n",
    "os.chdir(\"..\")\n",
    "\n",
    "from src.data.ACS_API import acs_api\n",
    "from api_credentials import API_KEY\n",
    "from src.data.PEP_API import pep_api\n",
    "from src.data.ACS_variable_list import variable_list_2019, variable_list_2018, variable_list_2017, variable_list_2016, \\\n",
    "variable_list_2008, variable_list_2007, variable_list_2006"
   ]
  },
  {
   "cell_type": "markdown",
   "id": "1ac71a80",
   "metadata": {},
   "source": [
    "## 2. CDC Diabetes Data <a class=\"anchor\" id=\"2.CDCDiabetesData\"></a>"
   ]
  },
  {
   "cell_type": "code",
   "execution_count": 2,
   "id": "d907ed0c",
   "metadata": {},
   "outputs": [],
   "source": [
    "df_diabetes=pd.read_csv('data/raw/CDC_Data_yearly/First_csv/DiabetesAtlasCountyData.csv',skiprows=2,skipfooter=1,engine='python')\n",
    "df_diabetes['Year']=2004\n",
    "\n",
    "filenames = glob('data/raw/CDC_Data_yearly/*.csv')\n",
    "for file in filenames:\n",
    "    with open(file, newline='') as f:\n",
    "        reader = csv.reader(f)\n",
    "        row1 = next(reader)  # gets the first line\n",
    "    year=row1[0].split(';')[-1].replace(' ','')\n",
    "    df_diabetes_=pd.read_csv(file,skiprows=2,skipfooter=1,engine='python')\n",
    "    df_diabetes_['Year']=year\n",
    "    df_diabetes=pd.concat([df_diabetes_,df_diabetes])\n",
    "df_diabetes=df_diabetes.sort_values(['State','County','Year'])\n",
    "df_diabetes.reset_index(drop=True,inplace=True)"
   ]
  },
  {
   "cell_type": "code",
   "execution_count": 3,
   "id": "6594f1ca",
   "metadata": {},
   "outputs": [
    {
     "name": "stdout",
     "output_type": "stream",
     "text": [
      "<class 'pandas.core.frame.DataFrame'>\n",
      "RangeIndex: 45164 entries, 0 to 45163\n",
      "Data columns (total 7 columns):\n",
      " #   Column        Non-Null Count  Dtype \n",
      "---  ------        --------------  ----- \n",
      " 0   County        45164 non-null  object\n",
      " 1   State         45164 non-null  object\n",
      " 2   CountyFIPS    45164 non-null  int64 \n",
      " 3   Percentage    45164 non-null  object\n",
      " 4   Lower Limit   45164 non-null  object\n",
      " 5    Upper Limit  45164 non-null  object\n",
      " 6   Year          45164 non-null  object\n",
      "dtypes: int64(1), object(6)\n",
      "memory usage: 2.4+ MB\n"
     ]
    }
   ],
   "source": [
    "df_diabetes.info(verbose=True)"
   ]
  },
  {
   "cell_type": "markdown",
   "id": "05d3c5f3",
   "metadata": {},
   "source": [
    "## 3. ACS Demographic Data <a class=\"anchor\" id=\"3.ACSDemographicData\"></a>"
   ]
  },
  {
   "cell_type": "code",
   "execution_count": 5,
   "id": "0eecf85f",
   "metadata": {},
   "outputs": [
    {
     "name": "stderr",
     "output_type": "stream",
     "text": [
      "100%|██████████████████████████████████████████████████████████████████████████████████| 14/14 [06:07<00:00, 26.22s/it]\n"
     ]
    }
   ],
   "source": [
    "#Do initial call to create dataframe \n",
    "df_census=acs_api(API_KEY,requests,pd)\n",
    "#Create list of years to query\n",
    "years=[str(i+2006) for i in range(14)]\n",
    "#Get data for all years and variables in one dataframe \n",
    "for year in tqdm(years):\n",
    "    if int(year)==2019:\n",
    "        variable_list=variable_list_2019\n",
    "    if int(year)==2018:\n",
    "        variable_list=variable_list_2018\n",
    "    if int(year)==2017:\n",
    "        variable_list=variable_list_2017\n",
    "    if (int(year)<=2016) and (int(year)>=2010):\n",
    "        variable_list=variable_list_2016\n",
    "    if (int(year)==2009) or (int(year)==2008):\n",
    "        variable_list=variable_list_2008\n",
    "    if int(year)==2007:\n",
    "        variable_list=variable_list_2007\n",
    "    if int(year)==2006:\n",
    "        variable_list=variable_list_2006\n",
    "    for var_label,var_name in variable_list.items():\n",
    "        df_census_=acs_api(API_KEY,requests,pd,var_label,var_name,year)\n",
    "        df_census=pd.concat([df_census,df_census_])"
   ]
  },
  {
   "cell_type": "code",
   "execution_count": 6,
   "id": "6bd88357",
   "metadata": {},
   "outputs": [
    {
     "name": "stdout",
     "output_type": "stream",
     "text": [
      "<class 'pandas.core.frame.DataFrame'>\n",
      "Int64Index: 253773 entries, 0 to 839\n",
      "Data columns (total 7 columns):\n",
      " #   Column       Non-Null Count   Dtype \n",
      "---  ------       --------------   ----- \n",
      " 0   county       253773 non-null  object\n",
      " 1   state        253773 non-null  object\n",
      " 2   value        253773 non-null  object\n",
      " 3   state_fips   253773 non-null  object\n",
      " 4   county_fips  253773 non-null  object\n",
      " 5   year         253773 non-null  object\n",
      " 6   variable     253773 non-null  object\n",
      "dtypes: object(7)\n",
      "memory usage: 15.5+ MB\n"
     ]
    }
   ],
   "source": [
    "df_census.info(verbose=True)"
   ]
  },
  {
   "cell_type": "code",
   "execution_count": 7,
   "id": "7e9f91ed",
   "metadata": {},
   "outputs": [
    {
     "data": {
      "text/html": [
       "<div>\n",
       "<style scoped>\n",
       "    .dataframe tbody tr th:only-of-type {\n",
       "        vertical-align: middle;\n",
       "    }\n",
       "\n",
       "    .dataframe tbody tr th {\n",
       "        vertical-align: top;\n",
       "    }\n",
       "\n",
       "    .dataframe thead th {\n",
       "        text-align: right;\n",
       "    }\n",
       "</style>\n",
       "<table border=\"1\" class=\"dataframe\">\n",
       "  <thead>\n",
       "    <tr style=\"text-align: right;\">\n",
       "      <th></th>\n",
       "      <th>county</th>\n",
       "      <th>state</th>\n",
       "      <th>value</th>\n",
       "      <th>state_fips</th>\n",
       "      <th>county_fips</th>\n",
       "      <th>year</th>\n",
       "      <th>variable</th>\n",
       "    </tr>\n",
       "  </thead>\n",
       "  <tbody>\n",
       "    <tr>\n",
       "      <th>0</th>\n",
       "      <td>Baldwin County</td>\n",
       "      <td>Alabama</td>\n",
       "      <td>169162</td>\n",
       "      <td>01</td>\n",
       "      <td>003</td>\n",
       "      <td>2006</td>\n",
       "      <td>total_pop</td>\n",
       "    </tr>\n",
       "    <tr>\n",
       "      <th>1</th>\n",
       "      <td>Calhoun County</td>\n",
       "      <td>Alabama</td>\n",
       "      <td>112903</td>\n",
       "      <td>01</td>\n",
       "      <td>015</td>\n",
       "      <td>2006</td>\n",
       "      <td>total_pop</td>\n",
       "    </tr>\n",
       "    <tr>\n",
       "      <th>2</th>\n",
       "      <td>Cullman County</td>\n",
       "      <td>Alabama</td>\n",
       "      <td>80187</td>\n",
       "      <td>01</td>\n",
       "      <td>043</td>\n",
       "      <td>2006</td>\n",
       "      <td>total_pop</td>\n",
       "    </tr>\n",
       "    <tr>\n",
       "      <th>3</th>\n",
       "      <td>DeKalb County</td>\n",
       "      <td>Alabama</td>\n",
       "      <td>68014</td>\n",
       "      <td>01</td>\n",
       "      <td>049</td>\n",
       "      <td>2006</td>\n",
       "      <td>total_pop</td>\n",
       "    </tr>\n",
       "    <tr>\n",
       "      <th>4</th>\n",
       "      <td>Elmore County</td>\n",
       "      <td>Alabama</td>\n",
       "      <td>75688</td>\n",
       "      <td>01</td>\n",
       "      <td>051</td>\n",
       "      <td>2006</td>\n",
       "      <td>total_pop</td>\n",
       "    </tr>\n",
       "  </tbody>\n",
       "</table>\n",
       "</div>"
      ],
      "text/plain": [
       "           county     state   value state_fips county_fips  year   variable\n",
       "0  Baldwin County   Alabama  169162         01         003  2006  total_pop\n",
       "1  Calhoun County   Alabama  112903         01         015  2006  total_pop\n",
       "2  Cullman County   Alabama   80187         01         043  2006  total_pop\n",
       "3   DeKalb County   Alabama   68014         01         049  2006  total_pop\n",
       "4   Elmore County   Alabama   75688         01         051  2006  total_pop"
      ]
     },
     "execution_count": 7,
     "metadata": {},
     "output_type": "execute_result"
    }
   ],
   "source": [
    "df_census.head()"
   ]
  },
  {
   "cell_type": "markdown",
   "id": "1a6f0f01",
   "metadata": {},
   "source": [
    "## 4. All County Population Data <a class=\"anchor\" id=\"4.AllCountyPopulationData\"></a>"
   ]
  },
  {
   "cell_type": "code",
   "execution_count": 9,
   "id": "001ea2f3",
   "metadata": {},
   "outputs": [],
   "source": [
    "df_pop=pep_api(API_KEY,requests,pd,year='2000')\n",
    "df_pop=pd.concat([df_pop,pep_api(API_KEY,requests,pd,year='2019')])"
   ]
  },
  {
   "cell_type": "markdown",
   "id": "bec2676f",
   "metadata": {},
   "source": [
    "## 5. All County Age Estimate Data <a class=\"anchor\" id=\"5.AllCountyAgeEstimateData\">"
   ]
  },
  {
   "cell_type": "code",
   "execution_count": 11,
   "id": "c3f49398",
   "metadata": {},
   "outputs": [],
   "source": [
    "#From https://www.census.gov/data/datasets/time-series/demo/popest/intercensal-2000-2010-counties.html\n",
    "#2000-2010 Population/Age Estimates\n",
    "df=pd.read_csv('data/raw/co-est00int-agesex-5yr.csv')"
   ]
  },
  {
   "cell_type": "code",
   "execution_count": 12,
   "id": "413e54d3",
   "metadata": {},
   "outputs": [],
   "source": [
    "#Sex 0 means both sexes, Age=0 Means total population\n",
    "total_pop_2010=df[(df.AGEGRP==0) & (df.SEX==0)][['STATE','COUNTY','STNAME','CTYNAME','POPESTIMATE2010']]\n",
    "total_pop_2010=total_pop_2010.rename(columns={'POPESTIMATE2010':'total_population'})"
   ]
  },
  {
   "cell_type": "code",
   "execution_count": 13,
   "id": "4cade473",
   "metadata": {},
   "outputs": [
    {
     "data": {
      "text/html": [
       "<div>\n",
       "<style scoped>\n",
       "    .dataframe tbody tr th:only-of-type {\n",
       "        vertical-align: middle;\n",
       "    }\n",
       "\n",
       "    .dataframe tbody tr th {\n",
       "        vertical-align: top;\n",
       "    }\n",
       "\n",
       "    .dataframe thead th {\n",
       "        text-align: right;\n",
       "    }\n",
       "</style>\n",
       "<table border=\"1\" class=\"dataframe\">\n",
       "  <thead>\n",
       "    <tr style=\"text-align: right;\">\n",
       "      <th></th>\n",
       "      <th></th>\n",
       "      <th></th>\n",
       "      <th></th>\n",
       "      <th>adult_population</th>\n",
       "    </tr>\n",
       "    <tr>\n",
       "      <th>STATE</th>\n",
       "      <th>COUNTY</th>\n",
       "      <th>STNAME</th>\n",
       "      <th>CTYNAME</th>\n",
       "      <th></th>\n",
       "    </tr>\n",
       "  </thead>\n",
       "  <tbody>\n",
       "    <tr>\n",
       "      <th rowspan=\"5\" valign=\"top\">1</th>\n",
       "      <th>1</th>\n",
       "      <th>Alabama</th>\n",
       "      <th>Autauga County</th>\n",
       "      <td>38514</td>\n",
       "    </tr>\n",
       "    <tr>\n",
       "      <th>3</th>\n",
       "      <th>Alabama</th>\n",
       "      <th>Baldwin County</th>\n",
       "      <td>136821</td>\n",
       "    </tr>\n",
       "    <tr>\n",
       "      <th>5</th>\n",
       "      <th>Alabama</th>\n",
       "      <th>Barbour County</th>\n",
       "      <td>20754</td>\n",
       "    </tr>\n",
       "    <tr>\n",
       "      <th>7</th>\n",
       "      <th>Alabama</th>\n",
       "      <th>Bibb County</th>\n",
       "      <td>17130</td>\n",
       "    </tr>\n",
       "    <tr>\n",
       "      <th>9</th>\n",
       "      <th>Alabama</th>\n",
       "      <th>Blount County</th>\n",
       "      <td>41776</td>\n",
       "    </tr>\n",
       "  </tbody>\n",
       "</table>\n",
       "</div>"
      ],
      "text/plain": [
       "                                     adult_population\n",
       "STATE COUNTY STNAME  CTYNAME                         \n",
       "1     1      Alabama Autauga County             38514\n",
       "      3      Alabama Baldwin County            136821\n",
       "      5      Alabama Barbour County             20754\n",
       "      7      Alabama Bibb County                17130\n",
       "      9      Alabama Blount County              41776"
      ]
     },
     "execution_count": 13,
     "metadata": {},
     "output_type": "execute_result"
    }
   ],
   "source": [
    "#Sex 0 means both sexes, Age>4 means everyone 20+ years old\n",
    "adult_pop_2010=pd.DataFrame(df[(df.AGEGRP>4) & (df.SEX==0)]\n",
    "                    .groupby(['STATE','COUNTY','STNAME','CTYNAME'])\n",
    "                    ['POPESTIMATE2010'].sum())\n",
    "adult_pop_2010=adult_pop_2010.rename(columns={'POPESTIMATE2010':'adult_population'})\n",
    "adult_pop_2010.head()"
   ]
  },
  {
   "cell_type": "code",
   "execution_count": 14,
   "id": "827057b8",
   "metadata": {},
   "outputs": [
    {
     "data": {
      "text/html": [
       "<div>\n",
       "<style scoped>\n",
       "    .dataframe tbody tr th:only-of-type {\n",
       "        vertical-align: middle;\n",
       "    }\n",
       "\n",
       "    .dataframe tbody tr th {\n",
       "        vertical-align: top;\n",
       "    }\n",
       "\n",
       "    .dataframe thead th {\n",
       "        text-align: right;\n",
       "    }\n",
       "</style>\n",
       "<table border=\"1\" class=\"dataframe\">\n",
       "  <thead>\n",
       "    <tr style=\"text-align: right;\">\n",
       "      <th></th>\n",
       "      <th>STATE</th>\n",
       "      <th>COUNTY</th>\n",
       "      <th>STNAME</th>\n",
       "      <th>CTYNAME</th>\n",
       "      <th>adult_pop_ratio</th>\n",
       "    </tr>\n",
       "  </thead>\n",
       "  <tbody>\n",
       "    <tr>\n",
       "      <th>0</th>\n",
       "      <td>1</td>\n",
       "      <td>1</td>\n",
       "      <td>Alabama</td>\n",
       "      <td>Autauga County</td>\n",
       "      <td>0.704971</td>\n",
       "    </tr>\n",
       "    <tr>\n",
       "      <th>1</th>\n",
       "      <td>1</td>\n",
       "      <td>3</td>\n",
       "      <td>Alabama</td>\n",
       "      <td>Baldwin County</td>\n",
       "      <td>0.746860</td>\n",
       "    </tr>\n",
       "    <tr>\n",
       "      <th>2</th>\n",
       "      <td>1</td>\n",
       "      <td>5</td>\n",
       "      <td>Alabama</td>\n",
       "      <td>Barbour County</td>\n",
       "      <td>0.757141</td>\n",
       "    </tr>\n",
       "    <tr>\n",
       "      <th>3</th>\n",
       "      <td>1</td>\n",
       "      <td>7</td>\n",
       "      <td>Alabama</td>\n",
       "      <td>Bibb County</td>\n",
       "      <td>0.749114</td>\n",
       "    </tr>\n",
       "    <tr>\n",
       "      <th>4</th>\n",
       "      <td>1</td>\n",
       "      <td>9</td>\n",
       "      <td>Alabama</td>\n",
       "      <td>Blount County</td>\n",
       "      <td>0.728592</td>\n",
       "    </tr>\n",
       "  </tbody>\n",
       "</table>\n",
       "</div>"
      ],
      "text/plain": [
       "   STATE  COUNTY   STNAME         CTYNAME  adult_pop_ratio\n",
       "0      1       1  Alabama  Autauga County         0.704971\n",
       "1      1       3  Alabama  Baldwin County         0.746860\n",
       "2      1       5  Alabama  Barbour County         0.757141\n",
       "3      1       7  Alabama     Bibb County         0.749114\n",
       "4      1       9  Alabama   Blount County         0.728592"
      ]
     },
     "execution_count": 14,
     "metadata": {},
     "output_type": "execute_result"
    }
   ],
   "source": [
    "id_=['STATE','COUNTY','STNAME','CTYNAME']\n",
    "df_age_population=adult_pop_2010.merge(total_pop_2010,right_on=id_,left_on=id_)\n",
    "df_age_population['adult_pop_ratio']=df_age_population.adult_population/df_age_population.total_population\n",
    "df_age_population.drop(columns=['adult_population','total_population'],inplace=True)\n",
    "df_age_population.head()"
   ]
  },
  {
   "cell_type": "markdown",
   "id": "f6978843",
   "metadata": {},
   "source": [
    "## 6. Write Data <a class=\"anchor\" id=\"6.WriteData\"></a>"
   ]
  },
  {
   "cell_type": "code",
   "execution_count": 17,
   "id": "5041e974",
   "metadata": {},
   "outputs": [],
   "source": [
    "df_diabetes.to_csv('data/raw/diabetes_data_2004_2017.csv')\n",
    "df_pop.to_csv('data/raw/population_est_2000_2019.csv')\n",
    "df_age_population.to_csv('data/raw/population_age_ratio_2010.csv')\n",
    "df_census.to_csv('data/raw/ACS_data_2006_2019.csv')"
   ]
  }
 ],
 "metadata": {
  "kernelspec": {
   "display_name": "Python 3",
   "language": "python",
   "name": "python3"
  },
  "language_info": {
   "codemirror_mode": {
    "name": "ipython",
    "version": 3
   },
   "file_extension": ".py",
   "mimetype": "text/x-python",
   "name": "python",
   "nbconvert_exporter": "python",
   "pygments_lexer": "ipython3",
   "version": "3.9.5"
  }
 },
 "nbformat": 4,
 "nbformat_minor": 5
}
