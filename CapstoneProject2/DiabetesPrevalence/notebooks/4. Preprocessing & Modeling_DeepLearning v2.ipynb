{
 "cells": [
  {
   "cell_type": "markdown",
   "id": "1bda5630",
   "metadata": {},
   "source": [
    "# Overview\n",
    "The purpose of this notebook is to preprocess the data, build predictive models and evaluate their results.\n",
    "\n",
    "## Results\n",
    "MAE For Each model, after hyperparamter optimization:\n",
    "\n",
    "    -Predicting 2016's Values: 0.8746\n",
    "    -Ridge Regression, Each County: 0.98531\n",
    "    -Ridge Regression All Counties: 0.80919\n",
    "    -Neural Net All Counties: 0.8560\n"
   ]
  },
  {
   "cell_type": "markdown",
   "id": "c5f4a809",
   "metadata": {},
   "source": [
    "# Code Navigation\n",
    "* [1. Load Packages & Data](#1.LoadPackages&Data)\n",
    "* [2. Preprocessing](#2.Preprocessing)\n",
    "    * [2.1. Drop columns, encode cateogrical variables](#2.1.Dropcolumns,encodecateogricalvariables)\n",
    "    * [2.2. Add previous years data (x3)](#2.2.Addpreviousyearsdata(x3))\n",
    "    * [2.3. Inspect Distributions](#2.3.InspectDistributions)\n",
    "    * [2.4. Test/Train Splits](#2.4.Test/TrainSplits)\n",
    "    * [2.5. Apply Log Transform](#2.5.ApplyLogTransform)\n",
    "    * [2.6. Apply Min/Max Scaling](#2.6.ApplyMin/MaxScaling)\n",
    "* [3. Modeling](#3.Modeling)\n",
    "    * [3.1. Predicting 2016's Values](#3.1.Predicting2016'sValues)\n",
    "    * [3.2. Ridge Regression For Each County](#3.2.RidgeRegressionForEachCounty)\n",
    "    * [3.3. Ridge Regression All Counties](#3.3.RidgeRegressionAllCounties)\n",
    "    * [3.4. Neural Net All Counties ](#3.4.NeuralNetAllCounties)"
   ]
  },
  {
   "cell_type": "markdown",
   "id": "0f5cb3ce",
   "metadata": {},
   "source": [
    "## 1. Load Packages & Data <a class=\"anchor\" id=\"1.LoadPackages&Data\"></a>"
   ]
  },
  {
   "cell_type": "code",
   "execution_count": 1,
   "id": "325ef898",
   "metadata": {},
   "outputs": [],
   "source": [
    "import requests\n",
    "import pandas as pd\n",
    "import csv\n",
    "import os\n",
    "import sys\n",
    "from glob import glob\n",
    "import numpy as np\n",
    "import matplotlib.pyplot as plt\n",
    "import seaborn as sns\n",
    "from tqdm import tqdm\n",
    "\n",
    "#Set Seaborn Styles\n",
    "sns.set_style(\"darkgrid\")\n",
    "sns.set(font_scale=1.75)\n",
    " \n",
    "pd.set_option('display.max_rows', None)\n",
    "pd.set_option('display.max_columns', None)\n",
    "\n",
    "import warnings\n",
    "warnings.filterwarnings('ignore')\n",
    "\n",
    "#Change directory to project root directory\n",
    "os.chdir(\"..\")\n",
    "\n",
    "#Import custom code\n",
    "from src.code_flow.CreateJupyterNotebookHeadings import jupyternotebookheadings1, jupyternotebookheadings2"
   ]
  },
  {
   "cell_type": "code",
   "execution_count": 2,
   "id": "8b9879b8",
   "metadata": {},
   "outputs": [],
   "source": [
    "df=pd.read_csv('data/interim/post_eda_diabetes_ACS_populous_counties_2004to2019.csv',index_col=0)"
   ]
  },
  {
   "cell_type": "code",
   "execution_count": 3,
   "id": "7f2f968f",
   "metadata": {},
   "outputs": [],
   "source": [
    "#Import sklearn\n",
    "from sklearn.preprocessing import PowerTransformer\n",
    "from sklearn.linear_model import LinearRegression\n",
    "from sklearn.linear_model import Ridge\n",
    "from sklearn.preprocessing import MinMaxScaler\n",
    "#Import tf\n",
    "import tensorflow as tf\n",
    "from tensorflow import keras\n",
    "from tensorflow.keras import layers"
   ]
  },
  {
   "cell_type": "markdown",
   "id": "f9765124",
   "metadata": {},
   "source": [
    "## 2. Preprocessing <a class=\"anchor\" id=\"2.Preprocessing\"></a>"
   ]
  },
  {
   "cell_type": "markdown",
   "id": "a3116120",
   "metadata": {},
   "source": [
    "## 2.1. Drop columns, encode cateogrical variables <a class=\"anchor\" id=\"2.1.Dropcolumns,encodecateogricalvariables\"></a>"
   ]
  },
  {
   "cell_type": "code",
   "execution_count": 4,
   "id": "c407a236",
   "metadata": {},
   "outputs": [
    {
     "name": "stdout",
     "output_type": "stream",
     "text": [
      "<class 'pandas.core.frame.DataFrame'>\n",
      "Int64Index: 11296 entries, 12 to 40269\n",
      "Data columns (total 26 columns):\n",
      " #   Column              Non-Null Count  Dtype  \n",
      "---  ------              --------------  -----  \n",
      " 0   total_pop           11296 non-null  float64\n",
      " 1   female              11296 non-null  float64\n",
      " 2   white_pop           11296 non-null  float64\n",
      " 3   black_pop           11296 non-null  float64\n",
      " 4   amer_indian_pop     11296 non-null  float64\n",
      " 5   pacific_island_pop  11296 non-null  float64\n",
      " 6   asian_pop           11296 non-null  float64\n",
      " 7   hispanic_pop        11296 non-null  float64\n",
      " 8   other_pop           11296 non-null  float64\n",
      " 9   20_24_years         11296 non-null  float64\n",
      " 10  25_34_years         11296 non-null  float64\n",
      " 11  35_44_years         11296 non-null  float64\n",
      " 12  45_54_years         11296 non-null  float64\n",
      " 13  55_64_years         11296 non-null  float64\n",
      " 14  65_74_years         11296 non-null  float64\n",
      " 15  75_84_years         11296 non-null  float64\n",
      " 16  85_plus_years       11296 non-null  float64\n",
      " 17  median_income       11296 non-null  float64\n",
      " 18  education_bach      11296 non-null  float64\n",
      " 19  education_hs        11296 non-null  float64\n",
      " 20  diabetes_%          9684 non-null   float64\n",
      " 21  state_county_fips   11296 non-null  object \n",
      " 22  years_since_2006    11296 non-null  float64\n",
      " 23  region_Northeast    11296 non-null  uint8  \n",
      " 24  region_South        11296 non-null  uint8  \n",
      " 25  region_West         11296 non-null  uint8  \n",
      "dtypes: float64(22), object(1), uint8(3)\n",
      "memory usage: 2.1+ MB\n"
     ]
    }
   ],
   "source": [
    "#Combine state & county fips\n",
    "df.state_fips=df.state_fips.astype('int')\n",
    "df.county_fips=df.county_fips.astype('int')\n",
    "df['state_county_fips']=df.state_fips.astype('str')+' '+df.county_fips.astype('str')\n",
    "#Save a dataframe with just state/county names and fips\n",
    "df_names=df[['state','county','state_fips','county_fips','state_county_fips']]\n",
    "#Drop columns not to be included in the model \n",
    "col=['state','county','state_fips','county_fips','diabetes_%_lower', 'diabetes_%_upper','male']\n",
    "df.drop(columns=col,inplace=True)\n",
    "#Encode Region variable\n",
    "df=pd.get_dummies(df,drop_first=True,columns=['region'])\n",
    "#Check variables types\n",
    "df.info(verbose=True)"
   ]
  },
  {
   "cell_type": "code",
   "execution_count": 5,
   "id": "7329c315",
   "metadata": {},
   "outputs": [
    {
     "data": {
      "image/png": "[encoded data removed]",
      "text/plain": [
       "<Figure size 576x576 with 2 Axes>"
      ]
     },
     "metadata": {},
     "output_type": "display_data"
    },
    {
     "data": {
      "image/png": "[encoded data removed]",
      "text/plain": [
       "<Figure size 576x576 with 2 Axes>"
      ]
     },
     "metadata": {},
     "output_type": "display_data"
    }
   ],
   "source": [
    "pt=PowerTransformer(method='box-cox')\n",
    "q=np.array(df.total_pop).reshape(-1,1)\n",
    "w=pt.fit_transform(q)\n",
    "\n",
    "plt.subplots(figsize=(8,8))\n",
    "plt.subplot(2,2,1)\n",
    "plt.hist(q)\n",
    "plt.title('Total Population - Raw')\n",
    "plt.subplot(2,2,2)\n",
    "plt.hist(w)\n",
    "plt.title('Total Population - Log Transformed')\n",
    "plt.tight_layout()\n",
    "\n",
    "pt=PowerTransformer(method='box-cox')\n",
    "q=np.array(df.median_income).reshape(-1,1)\n",
    "w=pt.fit_transform(q)\n",
    "\n",
    "plt.subplots(figsize=(8,8))\n",
    "plt.subplot(2,2,3)\n",
    "plt.hist(q)\n",
    "plt.title('Median Income - Raw')\n",
    "plt.subplot(2,2,4)\n",
    "plt.hist(w)\n",
    "plt.title('Median Income - Log Transformed')\n",
    "plt.tight_layout()\n",
    "\n",
    "plt.show()"
   ]
  },
  {
   "cell_type": "markdown",
   "id": "21903cd2",
   "metadata": {},
   "source": [
    "## 2.4. Test/Train Splits <a class=\"anchor\" id=\"2.4.Test/TrainSplits\"></a>\n"
   ]
  },
  {
   "cell_type": "code",
   "execution_count": 6,
   "id": "9aab7417",
   "metadata": {},
   "outputs": [],
   "source": [
    "df_2006_2016=df[df.years_since_2006<11].reset_index(drop=True)\n",
    "df_2017=df[df.years_since_2006==11].reset_index(drop=True)\n",
    "df_2018_2019=df[df.years_since_2006>11].reset_index(drop=True).drop(columns=['diabetes_%'])"
   ]
  },
  {
   "cell_type": "markdown",
   "id": "b7581168",
   "metadata": {},
   "source": [
    "## 2.5. Apply Log Transform <a class=\"anchor\" id=\"2.5.ApplyLogTransform\"></a>"
   ]
  },
  {
   "cell_type": "code",
   "execution_count": 7,
   "id": "cfc4adba",
   "metadata": {},
   "outputs": [],
   "source": [
    "def log_transform(variable):\n",
    "    pt=PowerTransformer(method='box-cox')\n",
    "    q=np.array(df_2006_2016[variable]).reshape(-1,1)\n",
    "    w=pt.fit_transform(q)\n",
    "    df_2006_2016.loc[:,variable]=w\n",
    "    df_2017.loc[:,variable]=pt.transform(np.array(df_2017[variable]).reshape(-1,1))\n",
    "    df_2018_2019.loc[:,variable]=pt.transform(np.array(df_2018_2019[variable]).reshape(-1,1))"
   ]
  },
  {
   "cell_type": "code",
   "execution_count": 8,
   "id": "b5131841",
   "metadata": {},
   "outputs": [],
   "source": [
    "log_transform('total_pop')\n",
    "log_transform('median_income')"
   ]
  },
  {
   "cell_type": "markdown",
   "id": "0d0be69e",
   "metadata": {},
   "source": [
    "## 2.6. Apply Min/Max Scaling <a class=\"anchor\" id=\"2.6.ApplyMin/MaxScaling\"></a>"
   ]
  },
  {
   "cell_type": "code",
   "execution_count": 9,
   "id": "ea066948",
   "metadata": {},
   "outputs": [],
   "source": [
    "mm=MinMaxScaler()\n",
    "#Drop state/county fips columns b/c they are strings, as well as the diabetes % because it is the vairable to be predicted\n",
    "scf_2016=df_2006_2016[['state_county_fips','diabetes_%']]\n",
    "df_2006_2016.drop(columns=['state_county_fips','diabetes_%'],inplace=True)\n",
    "scf_2017=df_2017[['state_county_fips','diabetes_%']]\n",
    "df_2017.drop(columns=['state_county_fips','diabetes_%'],inplace=True)\n",
    "#Get the column names from the dataframes\n",
    "df_col=df_2006_2016.columns\n",
    "#Apply fit/transform to the data \n",
    "df_2006_2016=mm.fit_transform(df_2006_2016)\n",
    "df_2017=mm.transform(df_2017)\n",
    "#Make the data back into a dataframe\n",
    "df_2006_2016=pd.DataFrame(df_2006_2016,columns=df_col)\n",
    "df_2017=pd.DataFrame(df_2017,columns=df_col)\n",
    "#Add back the state/county fips columns \n",
    "df_2006_2016=pd.concat([df_2006_2016,scf_2016],axis=1)\n",
    "df_2017=pd.concat([df_2017,scf_2017],axis=1)"
   ]
  },
  {
   "cell_type": "code",
   "execution_count": 10,
   "id": "47e1e47f",
   "metadata": {},
   "outputs": [
    {
     "data": {
      "text/html": [
       "<div>\n",
       "<style scoped>\n",
       "    .dataframe tbody tr th:only-of-type {\n",
       "        vertical-align: middle;\n",
       "    }\n",
       "\n",
       "    .dataframe tbody tr th {\n",
       "        vertical-align: top;\n",
       "    }\n",
       "\n",
       "    .dataframe thead th {\n",
       "        text-align: right;\n",
       "    }\n",
       "</style>\n",
       "<table border=\"1\" class=\"dataframe\">\n",
       "  <thead>\n",
       "    <tr style=\"text-align: right;\">\n",
       "      <th></th>\n",
       "      <th>count</th>\n",
       "      <th>mean</th>\n",
       "      <th>std</th>\n",
       "      <th>min</th>\n",
       "      <th>25%</th>\n",
       "      <th>50%</th>\n",
       "      <th>75%</th>\n",
       "      <th>max</th>\n",
       "    </tr>\n",
       "  </thead>\n",
       "  <tbody>\n",
       "    <tr>\n",
       "      <th>total_pop</th>\n",
       "      <td>8877.0</td>\n",
       "      <td>0.431060</td>\n",
       "      <td>0.247542</td>\n",
       "      <td>0.0</td>\n",
       "      <td>0.222601</td>\n",
       "      <td>0.417485</td>\n",
       "      <td>0.628484</td>\n",
       "      <td>1.0</td>\n",
       "    </tr>\n",
       "    <tr>\n",
       "      <th>female</th>\n",
       "      <td>8877.0</td>\n",
       "      <td>0.729973</td>\n",
       "      <td>0.068435</td>\n",
       "      <td>0.0</td>\n",
       "      <td>0.697503</td>\n",
       "      <td>0.735528</td>\n",
       "      <td>0.771283</td>\n",
       "      <td>1.0</td>\n",
       "    </tr>\n",
       "    <tr>\n",
       "      <th>white_pop</th>\n",
       "      <td>8877.0</td>\n",
       "      <td>0.789795</td>\n",
       "      <td>0.169124</td>\n",
       "      <td>0.0</td>\n",
       "      <td>0.711523</td>\n",
       "      <td>0.837651</td>\n",
       "      <td>0.917829</td>\n",
       "      <td>1.0</td>\n",
       "    </tr>\n",
       "    <tr>\n",
       "      <th>black_pop</th>\n",
       "      <td>8877.0</td>\n",
       "      <td>0.161548</td>\n",
       "      <td>0.171888</td>\n",
       "      <td>0.0</td>\n",
       "      <td>0.041311</td>\n",
       "      <td>0.099697</td>\n",
       "      <td>0.215918</td>\n",
       "      <td>1.0</td>\n",
       "    </tr>\n",
       "    <tr>\n",
       "      <th>amer_indian_pop</th>\n",
       "      <td>8877.0</td>\n",
       "      <td>0.022434</td>\n",
       "      <td>0.062359</td>\n",
       "      <td>0.0</td>\n",
       "      <td>0.006937</td>\n",
       "      <td>0.010595</td>\n",
       "      <td>0.018542</td>\n",
       "      <td>1.0</td>\n",
       "    </tr>\n",
       "    <tr>\n",
       "      <th>pacific_island_pop</th>\n",
       "      <td>8877.0</td>\n",
       "      <td>0.011483</td>\n",
       "      <td>0.054093</td>\n",
       "      <td>0.0</td>\n",
       "      <td>0.000000</td>\n",
       "      <td>0.004850</td>\n",
       "      <td>0.010842</td>\n",
       "      <td>1.0</td>\n",
       "    </tr>\n",
       "    <tr>\n",
       "      <th>asian_pop</th>\n",
       "      <td>8877.0</td>\n",
       "      <td>0.055896</td>\n",
       "      <td>0.081871</td>\n",
       "      <td>0.0</td>\n",
       "      <td>0.018088</td>\n",
       "      <td>0.033269</td>\n",
       "      <td>0.063307</td>\n",
       "      <td>1.0</td>\n",
       "    </tr>\n",
       "    <tr>\n",
       "      <th>hispanic_pop</th>\n",
       "      <td>8877.0</td>\n",
       "      <td>0.109783</td>\n",
       "      <td>0.135287</td>\n",
       "      <td>0.0</td>\n",
       "      <td>0.031381</td>\n",
       "      <td>0.060669</td>\n",
       "      <td>0.128975</td>\n",
       "      <td>1.0</td>\n",
       "    </tr>\n",
       "    <tr>\n",
       "      <th>other_pop</th>\n",
       "      <td>8877.0</td>\n",
       "      <td>0.079543</td>\n",
       "      <td>0.103323</td>\n",
       "      <td>0.0</td>\n",
       "      <td>0.021115</td>\n",
       "      <td>0.042230</td>\n",
       "      <td>0.093476</td>\n",
       "      <td>1.0</td>\n",
       "    </tr>\n",
       "    <tr>\n",
       "      <th>20_24_years</th>\n",
       "      <td>8877.0</td>\n",
       "      <td>0.227115</td>\n",
       "      <td>0.098977</td>\n",
       "      <td>0.0</td>\n",
       "      <td>0.173504</td>\n",
       "      <td>0.200226</td>\n",
       "      <td>0.239744</td>\n",
       "      <td>1.0</td>\n",
       "    </tr>\n",
       "    <tr>\n",
       "      <th>25_34_years</th>\n",
       "      <td>8877.0</td>\n",
       "      <td>0.352335</td>\n",
       "      <td>0.089125</td>\n",
       "      <td>0.0</td>\n",
       "      <td>0.295075</td>\n",
       "      <td>0.344741</td>\n",
       "      <td>0.399833</td>\n",
       "      <td>1.0</td>\n",
       "    </tr>\n",
       "    <tr>\n",
       "      <th>35_44_years</th>\n",
       "      <td>8877.0</td>\n",
       "      <td>0.421304</td>\n",
       "      <td>0.096202</td>\n",
       "      <td>0.0</td>\n",
       "      <td>0.360047</td>\n",
       "      <td>0.411903</td>\n",
       "      <td>0.479081</td>\n",
       "      <td>1.0</td>\n",
       "    </tr>\n",
       "    <tr>\n",
       "      <th>45_54_years</th>\n",
       "      <td>8877.0</td>\n",
       "      <td>0.557249</td>\n",
       "      <td>0.109960</td>\n",
       "      <td>0.0</td>\n",
       "      <td>0.490528</td>\n",
       "      <td>0.564276</td>\n",
       "      <td>0.629905</td>\n",
       "      <td>1.0</td>\n",
       "    </tr>\n",
       "    <tr>\n",
       "      <th>55_64_years</th>\n",
       "      <td>8877.0</td>\n",
       "      <td>0.460143</td>\n",
       "      <td>0.132821</td>\n",
       "      <td>0.0</td>\n",
       "      <td>0.372845</td>\n",
       "      <td>0.460489</td>\n",
       "      <td>0.547414</td>\n",
       "      <td>1.0</td>\n",
       "    </tr>\n",
       "    <tr>\n",
       "      <th>65_74_years</th>\n",
       "      <td>8877.0</td>\n",
       "      <td>0.145975</td>\n",
       "      <td>0.068619</td>\n",
       "      <td>0.0</td>\n",
       "      <td>0.102434</td>\n",
       "      <td>0.136579</td>\n",
       "      <td>0.177363</td>\n",
       "      <td>1.0</td>\n",
       "    </tr>\n",
       "    <tr>\n",
       "      <th>75_84_years</th>\n",
       "      <td>8877.0</td>\n",
       "      <td>0.195145</td>\n",
       "      <td>0.084557</td>\n",
       "      <td>0.0</td>\n",
       "      <td>0.142264</td>\n",
       "      <td>0.186722</td>\n",
       "      <td>0.231772</td>\n",
       "      <td>1.0</td>\n",
       "    </tr>\n",
       "    <tr>\n",
       "      <th>85_plus_years</th>\n",
       "      <td>8877.0</td>\n",
       "      <td>0.264517</td>\n",
       "      <td>0.105799</td>\n",
       "      <td>0.0</td>\n",
       "      <td>0.192661</td>\n",
       "      <td>0.252294</td>\n",
       "      <td>0.324159</td>\n",
       "      <td>1.0</td>\n",
       "    </tr>\n",
       "    <tr>\n",
       "      <th>median_income</th>\n",
       "      <td>8877.0</td>\n",
       "      <td>0.602136</td>\n",
       "      <td>0.134421</td>\n",
       "      <td>0.0</td>\n",
       "      <td>0.508102</td>\n",
       "      <td>0.602166</td>\n",
       "      <td>0.690788</td>\n",
       "      <td>1.0</td>\n",
       "    </tr>\n",
       "    <tr>\n",
       "      <th>education_bach</th>\n",
       "      <td>8877.0</td>\n",
       "      <td>0.295180</td>\n",
       "      <td>0.149777</td>\n",
       "      <td>0.0</td>\n",
       "      <td>0.182090</td>\n",
       "      <td>0.273134</td>\n",
       "      <td>0.377612</td>\n",
       "      <td>1.0</td>\n",
       "    </tr>\n",
       "    <tr>\n",
       "      <th>education_hs</th>\n",
       "      <td>8877.0</td>\n",
       "      <td>0.716852</td>\n",
       "      <td>0.138037</td>\n",
       "      <td>0.0</td>\n",
       "      <td>0.651741</td>\n",
       "      <td>0.738806</td>\n",
       "      <td>0.813433</td>\n",
       "      <td>1.0</td>\n",
       "    </tr>\n",
       "    <tr>\n",
       "      <th>years_since_2006</th>\n",
       "      <td>8877.0</td>\n",
       "      <td>0.500000</td>\n",
       "      <td>0.316246</td>\n",
       "      <td>0.0</td>\n",
       "      <td>0.200000</td>\n",
       "      <td>0.500000</td>\n",
       "      <td>0.800000</td>\n",
       "      <td>1.0</td>\n",
       "    </tr>\n",
       "    <tr>\n",
       "      <th>region_Northeast</th>\n",
       "      <td>8877.0</td>\n",
       "      <td>0.194548</td>\n",
       "      <td>0.395874</td>\n",
       "      <td>0.0</td>\n",
       "      <td>0.000000</td>\n",
       "      <td>0.000000</td>\n",
       "      <td>0.000000</td>\n",
       "      <td>1.0</td>\n",
       "    </tr>\n",
       "    <tr>\n",
       "      <th>region_South</th>\n",
       "      <td>8877.0</td>\n",
       "      <td>0.403965</td>\n",
       "      <td>0.490718</td>\n",
       "      <td>0.0</td>\n",
       "      <td>0.000000</td>\n",
       "      <td>0.000000</td>\n",
       "      <td>1.000000</td>\n",
       "      <td>1.0</td>\n",
       "    </tr>\n",
       "    <tr>\n",
       "      <th>region_West</th>\n",
       "      <td>8877.0</td>\n",
       "      <td>0.162330</td>\n",
       "      <td>0.368774</td>\n",
       "      <td>0.0</td>\n",
       "      <td>0.000000</td>\n",
       "      <td>0.000000</td>\n",
       "      <td>0.000000</td>\n",
       "      <td>1.0</td>\n",
       "    </tr>\n",
       "    <tr>\n",
       "      <th>diabetes_%</th>\n",
       "      <td>8877.0</td>\n",
       "      <td>9.103436</td>\n",
       "      <td>1.862525</td>\n",
       "      <td>3.7</td>\n",
       "      <td>7.800000</td>\n",
       "      <td>9.000000</td>\n",
       "      <td>10.300000</td>\n",
       "      <td>19.0</td>\n",
       "    </tr>\n",
       "  </tbody>\n",
       "</table>\n",
       "</div>"
      ],
      "text/plain": [
       "                     count      mean       std  min       25%       50%  \\\n",
       "total_pop           8877.0  0.431060  0.247542  0.0  0.222601  0.417485   \n",
       "female              8877.0  0.729973  0.068435  0.0  0.697503  0.735528   \n",
       "white_pop           8877.0  0.789795  0.169124  0.0  0.711523  0.837651   \n",
       "black_pop           8877.0  0.161548  0.171888  0.0  0.041311  0.099697   \n",
       "amer_indian_pop     8877.0  0.022434  0.062359  0.0  0.006937  0.010595   \n",
       "pacific_island_pop  8877.0  0.011483  0.054093  0.0  0.000000  0.004850   \n",
       "asian_pop           8877.0  0.055896  0.081871  0.0  0.018088  0.033269   \n",
       "hispanic_pop        8877.0  0.109783  0.135287  0.0  0.031381  0.060669   \n",
       "other_pop           8877.0  0.079543  0.103323  0.0  0.021115  0.042230   \n",
       "20_24_years         8877.0  0.227115  0.098977  0.0  0.173504  0.200226   \n",
       "25_34_years         8877.0  0.352335  0.089125  0.0  0.295075  0.344741   \n",
       "35_44_years         8877.0  0.421304  0.096202  0.0  0.360047  0.411903   \n",
       "45_54_years         8877.0  0.557249  0.109960  0.0  0.490528  0.564276   \n",
       "55_64_years         8877.0  0.460143  0.132821  0.0  0.372845  0.460489   \n",
       "65_74_years         8877.0  0.145975  0.068619  0.0  0.102434  0.136579   \n",
       "75_84_years         8877.0  0.195145  0.084557  0.0  0.142264  0.186722   \n",
       "85_plus_years       8877.0  0.264517  0.105799  0.0  0.192661  0.252294   \n",
       "median_income       8877.0  0.602136  0.134421  0.0  0.508102  0.602166   \n",
       "education_bach      8877.0  0.295180  0.149777  0.0  0.182090  0.273134   \n",
       "education_hs        8877.0  0.716852  0.138037  0.0  0.651741  0.738806   \n",
       "years_since_2006    8877.0  0.500000  0.316246  0.0  0.200000  0.500000   \n",
       "region_Northeast    8877.0  0.194548  0.395874  0.0  0.000000  0.000000   \n",
       "region_South        8877.0  0.403965  0.490718  0.0  0.000000  0.000000   \n",
       "region_West         8877.0  0.162330  0.368774  0.0  0.000000  0.000000   \n",
       "diabetes_%          8877.0  9.103436  1.862525  3.7  7.800000  9.000000   \n",
       "\n",
       "                          75%   max  \n",
       "total_pop            0.628484   1.0  \n",
       "female               0.771283   1.0  \n",
       "white_pop            0.917829   1.0  \n",
       "black_pop            0.215918   1.0  \n",
       "amer_indian_pop      0.018542   1.0  \n",
       "pacific_island_pop   0.010842   1.0  \n",
       "asian_pop            0.063307   1.0  \n",
       "hispanic_pop         0.128975   1.0  \n",
       "other_pop            0.093476   1.0  \n",
       "20_24_years          0.239744   1.0  \n",
       "25_34_years          0.399833   1.0  \n",
       "35_44_years          0.479081   1.0  \n",
       "45_54_years          0.629905   1.0  \n",
       "55_64_years          0.547414   1.0  \n",
       "65_74_years          0.177363   1.0  \n",
       "75_84_years          0.231772   1.0  \n",
       "85_plus_years        0.324159   1.0  \n",
       "median_income        0.690788   1.0  \n",
       "education_bach       0.377612   1.0  \n",
       "education_hs         0.813433   1.0  \n",
       "years_since_2006     0.800000   1.0  \n",
       "region_Northeast     0.000000   1.0  \n",
       "region_South         1.000000   1.0  \n",
       "region_West          0.000000   1.0  \n",
       "diabetes_%          10.300000  19.0  "
      ]
     },
     "execution_count": 10,
     "metadata": {},
     "output_type": "execute_result"
    }
   ],
   "source": [
    "#Show ranges of final variables\n",
    "df_2006_2016.describe().T"
   ]
  },
  {
   "cell_type": "markdown",
   "id": "edeef005",
   "metadata": {},
   "source": [
    "## 3. Modeling <a class=\"anchor\" id=\"3.Modeling\"></a>"
   ]
  },
  {
   "cell_type": "markdown",
   "id": "a82b561b",
   "metadata": {},
   "source": [
    "## 3.1. Predicting 2016's Values <a class=\"anchor\" id=\"3.1.Predicting2016'sValues\"></a>"
   ]
  },
  {
   "cell_type": "code",
   "execution_count": 11,
   "id": "b5f8877a",
   "metadata": {},
   "outputs": [],
   "source": [
    "def MAE(df):\n",
    "    return(np.mean(np.abs(df.diabetes_pred-df.diabetes_actual_2017)))"
   ]
  },
  {
   "cell_type": "code",
   "execution_count": 12,
   "id": "eeddd37d",
   "metadata": {},
   "outputs": [
    {
     "name": "stdout",
     "output_type": "stream",
     "text": [
      "Using 2016 values as a prediction for 2017 results in an MAE of 0.8746\n"
     ]
    }
   ],
   "source": [
    "#Deterime mean absolute difference between predicting 2016's value for 2017\n",
    "#Select 2016 diabetes/state county fips data\n",
    "df_pred=df_2006_2016[df_2006_2016.years_since_2006==df_2006_2016.years_since_2006.max()][['state_county_fips','diabetes_%']].rename(columns={'diabetes_%':'diabetes_pred'})\n",
    "#Select 2017 diabetes/state county fips data\n",
    "df_actual=df_2017[['state_county_fips','diabetes_%']].rename(columns={'diabetes_%':'diabetes_actual_2017'})\n",
    "#Concatenate the two and calculate the mean absolute error\n",
    "df_pred_actual=df_pred.merge(df_actual,how='inner',right_on='state_county_fips',left_on='state_county_fips')\n",
    "print('Using 2016 values as a prediction for 2017 results in an MAE of',round(MAE(df_pred_actual),5))"
   ]
  },
  {
   "cell_type": "markdown",
   "id": "737193e5",
   "metadata": {},
   "source": [
    "## 3.4. Neural Net All Counties  <a class=\"anchor\" id=\"3.4.NeuralNetAllCounties\"></a>"
   ]
  },
  {
   "cell_type": "code",
   "execution_count": 22,
   "id": "cd4472ac",
   "metadata": {},
   "outputs": [],
   "source": [
    "state_county=list(df_2006_2016.state_county_fips.unique())\n",
    "X_train_={}\n",
    "y_train_={}\n",
    "X_test_={}\n",
    "y_test_={}\n",
    "for s_c in state_county: \n",
    "    X_train_[s_c]=np.array(df_2006_2016[df_2006_2016.state_county_fips==s_c].drop(columns=['diabetes_%']))\n",
    "    y_train_[s_c]=np.array(df_2006_2016[df_2006_2016.state_county_fips==s_c]['diabetes_%'])\n",
    "    X_test_[s_c]=np.array(df_2017[df_2017.state_county_fips==s_c].drop(columns=['diabetes_%']))\n",
    "    y_test_[s_c]=np.array(df_2017[df_2017.state_county_fips==s_c]['diabetes_%'])\n",
    "X_train=np.stack(X_train_.values())\n",
    "y_train=np.stack(y_train_.values())\n",
    "X_test=np.stack(X_test_.values())\n",
    "y_test=np.stack(y_test_.values())"
   ]
  },
  {
   "cell_type": "code",
   "execution_count": 28,
   "id": "3e872bb8",
   "metadata": {},
   "outputs": [
    {
     "data": {
      "text/plain": [
       "(11, 25)"
      ]
     },
     "execution_count": 28,
     "metadata": {},
     "output_type": "execute_result"
    }
   ],
   "source": [
    "X_train.shape[1:]"
   ]
  },
  {
   "cell_type": "code",
   "execution_count": 29,
   "id": "d7397aaa",
   "metadata": {},
   "outputs": [
    {
     "data": {
      "text/plain": [
       "(1, 25)"
      ]
     },
     "execution_count": 29,
     "metadata": {},
     "output_type": "execute_result"
    }
   ],
   "source": [
    "X_test.shape[1:]"
   ]
  },
  {
   "cell_type": "code",
   "execution_count": 32,
   "id": "e032ba12",
   "metadata": {},
   "outputs": [
    {
     "data": {
      "text/plain": [
       "(1, 25)"
      ]
     },
     "execution_count": 32,
     "metadata": {},
     "output_type": "execute_result"
    }
   ],
   "source": [
    "X_test.shape[1:]"
   ]
  },
  {
   "cell_type": "code",
   "execution_count": 17,
   "id": "9fb048ce",
   "metadata": {},
   "outputs": [
    {
     "data": {
      "text/plain": [
       "\"\\nimport tensorflow as tf\\nfrom tensorflow.keras.models import Sequential\\nfrom tensorflow.keras.layers import Dense, Dropout, LSTM#, CuDNNLSTM\\n\\nmnist = tf.keras.datasets.mnist  # mnist is a dataset of 28x28 images of handwritten digits and their labels\\n(x_train, y_train),(x_test, y_test) = mnist.load_data()  # unpacks images to x_train/x_test and labels to y_train/y_test\\n\\nx_train = x_train/255.0\\nx_test = x_test/255.0\\n\\nprint(x_train.shape)\\nprint(x_train[0].shape)\\n\\nmodel = Sequential()\\n\\n# IF you are running with a GPU, try out the CuDNNLSTM layer type instead (don't pass an activation, tanh is required)\\nmodel.add(LSTM(128, input_shape=(x_train.shape[1:]), activation='relu', return_sequences=True))\\nmodel.add(Dropout(0.2))\\n\\nmodel.add(LSTM(128, activation='relu'))\\nmodel.add(Dropout(0.1))\\n\\nmodel.add(Dense(32, activation='relu'))\\nmodel.add(Dropout(0.2))\\n\\nmodel.add(Dense(10, activation='softmax'))\\n\\nopt = tf.keras.optimizers.Adam(lr=0.001, decay=1e-6)\\n\\n# Compile model\\nmodel.compile(\\n    loss='sparse_categorical_crossentropy',\\n    optimizer=opt,\\n    metrics=['accuracy'],\\n)\\n\\nmodel.fit(x_train,\\n          y_train,\\n          epochs=3,\\n          validation_data=(x_test, y_test))\\n\""
      ]
     },
     "execution_count": 17,
     "metadata": {},
     "output_type": "execute_result"
    }
   ],
   "source": [
    "import tensorflow as tf\n",
    "from tensorflow.keras.models import Sequential\n",
    "from tensorflow.keras.layers import Dense, Dropout, LSTM#, CuDNNLSTM\n",
    "\n",
    "#mnist = tf.keras.datasets.mnist  # mnist is a dataset of 28x28 images of handwritten digits and their labels\n",
    "#(x_train, y_train),(x_test, y_test) = mnist.load_data()  # unpacks images to x_train/x_test and labels to y_train/y_test\n",
    "\n",
    "#x_train = x_train/255.0\n",
    "#x_test = x_test/255.0\n",
    "\n",
    "print(x_train.shape)\n",
    "print(x_train[0].shape)\n",
    "\n",
    "model = Sequential()\n",
    "\n",
    "# IF you are running with a GPU, try out the CuDNNLSTM layer type instead (don't pass an activation, tanh is required)\n",
    "model.add(LSTM(128, input_shape=(x_train.shape[1:]), activation='relu', return_sequences=True))\n",
    "model.add(Dropout(0.2))\n",
    "\n",
    "model.add(LSTM(128, activation='relu'))\n",
    "model.add(Dropout(0.1))\n",
    "\n",
    "model.add(Dense(32, activation='relu'))\n",
    "model.add(Dropout(0.2))\n",
    "\n",
    "model.add(Dense(10, activation='softmax'))\n",
    "\n",
    "opt = tf.keras.optimizers.Adam(lr=0.001, decay=1e-6)\n",
    "\n",
    "# Compile model\n",
    "model.compile(\n",
    "    loss='sparse_categorical_crossentropy',\n",
    "    optimizer=opt,\n",
    "    metrics=['accuracy'],\n",
    ")\n",
    "\n",
    "model.fit(x_train,\n",
    "          y_train,\n",
    "          epochs=3,\n",
    "          validation_data=(x_test, y_test))\n"
   ]
  }
 ],
 "metadata": {
  "kernelspec": {
   "display_name": "Python 3",
   "language": "python",
   "name": "python3"
  },
  "language_info": {
   "codemirror_mode": {
    "name": "ipython",
    "version": 3
   },
   "file_extension": ".py",
   "mimetype": "text/x-python",
   "name": "python",
   "nbconvert_exporter": "python",
   "pygments_lexer": "ipython3",
   "version": "3.6.13"
  }
 },
 "nbformat": 4,
 "nbformat_minor": 5
}
