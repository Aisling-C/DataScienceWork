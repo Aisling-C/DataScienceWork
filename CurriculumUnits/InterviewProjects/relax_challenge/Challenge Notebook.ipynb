{
 "cells": [
  {
   "cell_type": "markdown",
   "id": "e005b604",
   "metadata": {},
   "source": [
    "# Code exploration\n",
    "* [1. Import Libraries & Data](#1.ImportLibraries&Data)\n",
    "* [2. Explore Data](#2.ExploreData)\n",
    "* [3. Add Features](#3.AddFeatures)\n",
    "* [4. Chi Square Tests](#4.ChiSquareTests)\n",
    "* [5. Data Visualization](#5.DataVisualization)"
   ]
  },
  {
   "cell_type": "markdown",
   "id": "72e2da45",
   "metadata": {},
   "source": [
    "## 1. Import Libraries & Data <a class=\"anchor\" id=\"1.ImportLibraries&Data\"></a>"
   ]
  },
  {
   "cell_type": "code",
   "execution_count": 1,
   "id": "2a23f781",
   "metadata": {},
   "outputs": [],
   "source": [
    "import pandas as pd\n",
    "import numpy as np\n",
    "import matplotlib.pyplot as plt\n",
    "import os\n",
    "from datetime import datetime\n",
    "from datetime import timedelta\n",
    "from datetime import date\n",
    "from scipy.stats import chisquare\n",
    "import seaborn as sns\n",
    "plt.rcParams.update({'font.size': 15})\n",
    "pd.set_option('display.max_rows', None)\n",
    "pd.set_option('display.max_columns', None)\n",
    "pd.set_option('mode.chained_assignment',None)"
   ]
  },
  {
   "cell_type": "code",
   "execution_count": 2,
   "id": "918bff4c",
   "metadata": {},
   "outputs": [],
   "source": [
    "df_users=pd.read_csv('takehome_users.csv')\n",
    "df_user_engagement=pd.read_csv('takehome_user_engagement.csv')"
   ]
  },
  {
   "cell_type": "markdown",
   "id": "0a88beaa",
   "metadata": {},
   "source": [
    "## 2. Explore Data <a class=\"anchor\" id=\"2.ExploreData\"></a>"
   ]
  },
  {
   "cell_type": "code",
   "execution_count": 3,
   "id": "a6ba954a",
   "metadata": {},
   "outputs": [
    {
     "name": "stdout",
     "output_type": "stream",
     "text": [
      "<class 'pandas.core.frame.DataFrame'>\n",
      "RangeIndex: 12000 entries, 0 to 11999\n",
      "Data columns (total 10 columns):\n",
      " #   Column                      Non-Null Count  Dtype         \n",
      "---  ------                      --------------  -----         \n",
      " 0   object_id                   12000 non-null  int64         \n",
      " 1   creation_time               12000 non-null  datetime64[ns]\n",
      " 2   name                        12000 non-null  object        \n",
      " 3   email                       12000 non-null  object        \n",
      " 4   creation_source             12000 non-null  object        \n",
      " 5   last_session_creation_time  8823 non-null   datetime64[ns]\n",
      " 6   opted_in_to_mailing_list    12000 non-null  int64         \n",
      " 7   enabled_for_marketing_drip  12000 non-null  int64         \n",
      " 8   org_id                      12000 non-null  int64         \n",
      " 9   invited_by_user_id          6417 non-null   float64       \n",
      "dtypes: datetime64[ns](2), float64(1), int64(4), object(3)\n",
      "memory usage: 937.6+ KB\n"
     ]
    }
   ],
   "source": [
    "#Convert time strings to datetime objects\n",
    "df_users.last_session_creation_time=pd.to_datetime(df_users.last_session_creation_time, unit='s')\n",
    "df_users.creation_time=pd.to_datetime(df_users.creation_time)\n",
    "df_users.info()"
   ]
  },
  {
   "cell_type": "code",
   "execution_count": 4,
   "id": "3d267fdb",
   "metadata": {},
   "outputs": [
    {
     "name": "stdout",
     "output_type": "stream",
     "text": [
      "<class 'pandas.core.frame.DataFrame'>\n",
      "RangeIndex: 207917 entries, 0 to 207916\n",
      "Data columns (total 3 columns):\n",
      " #   Column      Non-Null Count   Dtype         \n",
      "---  ------      --------------   -----         \n",
      " 0   time_stamp  207917 non-null  datetime64[ns]\n",
      " 1   user_id     207917 non-null  int64         \n",
      " 2   visited     207917 non-null  int64         \n",
      "dtypes: datetime64[ns](1), int64(2)\n",
      "memory usage: 4.8 MB\n"
     ]
    }
   ],
   "source": [
    "#Convert time strings to datetime objects\n",
    "df_user_engagement.time_stamp=pd.to_datetime(df_user_engagement.time_stamp)\n",
    "df_user_engagement.info()"
   ]
  },
  {
   "cell_type": "markdown",
   "id": "6f9d9e2a",
   "metadata": {},
   "source": [
    "Do the number of unique users in user engagement match the user engagement data?"
   ]
  },
  {
   "cell_type": "code",
   "execution_count": 5,
   "id": "ee36f5c4",
   "metadata": {},
   "outputs": [
    {
     "data": {
      "text/plain": [
       "(8823, 12000)"
      ]
     },
     "execution_count": 5,
     "metadata": {},
     "output_type": "execute_result"
    }
   ],
   "source": [
    "len(df_user_engagement.user_id.unique()), len(df_users.object_id.unique())"
   ]
  },
  {
   "cell_type": "markdown",
   "id": "5a0ab9f8",
   "metadata": {},
   "source": [
    "No, they don't. Which means the engagement data for about 4,000 users (33% of the data set) are missing - this data will have to be dropped, since its unclear whether they adopted the platform or not."
   ]
  },
  {
   "cell_type": "markdown",
   "id": "06b891ea",
   "metadata": {},
   "source": [
    "## 3. Add Features <a class=\"anchor\" id=\"3.AddFeatures\"></a>"
   ]
  },
  {
   "cell_type": "markdown",
   "id": "d362725b",
   "metadata": {},
   "source": [
    "### Determine if a user adopted the platform or not"
   ]
  },
  {
   "cell_type": "code",
   "execution_count": 6,
   "id": "e042bfb8",
   "metadata": {},
   "outputs": [
    {
     "data": {
      "text/html": [
       "<div>\n",
       "<style scoped>\n",
       "    .dataframe tbody tr th:only-of-type {\n",
       "        vertical-align: middle;\n",
       "    }\n",
       "\n",
       "    .dataframe tbody tr th {\n",
       "        vertical-align: top;\n",
       "    }\n",
       "\n",
       "    .dataframe thead th {\n",
       "        text-align: right;\n",
       "    }\n",
       "</style>\n",
       "<table border=\"1\" class=\"dataframe\">\n",
       "  <thead>\n",
       "    <tr style=\"text-align: right;\">\n",
       "      <th></th>\n",
       "      <th>user_id</th>\n",
       "      <th>adopted</th>\n",
       "    </tr>\n",
       "  </thead>\n",
       "  <tbody>\n",
       "    <tr>\n",
       "      <th>0</th>\n",
       "      <td>1</td>\n",
       "      <td>0</td>\n",
       "    </tr>\n",
       "    <tr>\n",
       "      <th>1</th>\n",
       "      <td>2</td>\n",
       "      <td>1</td>\n",
       "    </tr>\n",
       "    <tr>\n",
       "      <th>2</th>\n",
       "      <td>3</td>\n",
       "      <td>0</td>\n",
       "    </tr>\n",
       "    <tr>\n",
       "      <th>3</th>\n",
       "      <td>4</td>\n",
       "      <td>0</td>\n",
       "    </tr>\n",
       "    <tr>\n",
       "      <th>4</th>\n",
       "      <td>5</td>\n",
       "      <td>0</td>\n",
       "    </tr>\n",
       "  </tbody>\n",
       "</table>\n",
       "</div>"
      ],
      "text/plain": [
       "   user_id  adopted\n",
       "0        1        0\n",
       "1        2        1\n",
       "2        3        0\n",
       "3        4        0\n",
       "4        5        0"
      ]
     },
     "execution_count": 6,
     "metadata": {},
     "output_type": "execute_result"
    }
   ],
   "source": [
    "#Make a function to define if a user adopted the platform or not\n",
    "def adopted_user(x):\n",
    "    day_7=pd.Timedelta(\"7 days\")\n",
    "    count=[(x.iloc[i+2]-x.iloc[i])<day_7 for i in range(len(x)-2)]\n",
    "    if sum(count)>0:\n",
    "        return 1\n",
    "    else:\n",
    "        return 0\n",
    "    \n",
    "#Use the function above to determine if users in engagement data were active or not, return a new dataframe\n",
    "user_adoption=pd.DataFrame(df_user_engagement.groupby('user_id').agg(adopted_user))\n",
    "user_adoption=user_adoption.reset_index().rename(columns={0:'user_id','time_stamp':'adopted'})\n",
    "user_adoption.head()"
   ]
  },
  {
   "cell_type": "code",
   "execution_count": 7,
   "id": "ba5431d4",
   "metadata": {},
   "outputs": [
    {
     "name": "stdout",
     "output_type": "stream",
     "text": [
      "<class 'pandas.core.frame.DataFrame'>\n",
      "Int64Index: 12000 entries, 0 to 11999\n",
      "Data columns (total 11 columns):\n",
      " #   Column                      Non-Null Count  Dtype         \n",
      "---  ------                      --------------  -----         \n",
      " 0   object_id                   12000 non-null  int64         \n",
      " 1   creation_time               12000 non-null  datetime64[ns]\n",
      " 2   name                        12000 non-null  object        \n",
      " 3   email                       12000 non-null  object        \n",
      " 4   creation_source             12000 non-null  object        \n",
      " 5   last_session_creation_time  8823 non-null   datetime64[ns]\n",
      " 6   opted_in_to_mailing_list    12000 non-null  int64         \n",
      " 7   enabled_for_marketing_drip  12000 non-null  int64         \n",
      " 8   org_id                      12000 non-null  int64         \n",
      " 9   invited_by_user_id          6417 non-null   float64       \n",
      " 10  adopted                     8823 non-null   float64       \n",
      "dtypes: datetime64[ns](2), float64(2), int64(4), object(3)\n",
      "memory usage: 1.1+ MB\n"
     ]
    }
   ],
   "source": [
    "#Merge the user id & adoption dataframe into the original users dataframe\n",
    "df_users=df_users.merge(user_adoption,how='left',left_on='object_id',right_on='user_id').drop(columns='user_id')\n",
    "df_users.info()"
   ]
  },
  {
   "cell_type": "markdown",
   "id": "0b085a13",
   "metadata": {},
   "source": [
    "### Determine overall adoption rate"
   ]
  },
  {
   "cell_type": "code",
   "execution_count": 8,
   "id": "d413ae8c",
   "metadata": {},
   "outputs": [
    {
     "name": "stdout",
     "output_type": "stream",
     "text": [
      "1602 users adopted the platform, 7221 didn't, for a rate of 18.16%\n"
     ]
    }
   ],
   "source": [
    "var=\"adopted\"\n",
    "no=df_users[var].value_counts()[0]\n",
    "yes=df_users[var].value_counts()[1]\n",
    "prevalence=(yes/(no+yes))\n",
    "pct=round(prevalence*100,2)\n",
    "print(\"{} users adopted the platform, {} didn't, for a rate of {}%\".format(yes, no,pct))"
   ]
  },
  {
   "cell_type": "markdown",
   "id": "c6e8d3c1",
   "metadata": {},
   "source": [
    "### Preprocess the emails - keep only the domain names"
   ]
  },
  {
   "cell_type": "code",
   "execution_count": 9,
   "id": "21b9c86c",
   "metadata": {},
   "outputs": [],
   "source": [
    "#Only keep the domains of all the emails\n",
    "df_users.email=df_users.email.agg(lambda x: [val[1] for val in x.str.split('@')])\n",
    "#Write function to cast uncommon emails as 'other'\n",
    "def reduce_email(x):\n",
    "    email_list=df_users['email'].value_counts()[0:6]\n",
    "    return [email if email in email_list else 'other' for email in x]\n",
    "#Apply function to email column\n",
    "df_users.email=reduce_email(list(df_users.email.values))"
   ]
  },
  {
   "cell_type": "markdown",
   "id": "e36bc292",
   "metadata": {},
   "source": [
    "### Indicate if a user invited someone else"
   ]
  },
  {
   "cell_type": "code",
   "execution_count": 10,
   "id": "0c17a685",
   "metadata": {},
   "outputs": [],
   "source": [
    "#Fill any missing 'invited_by_user_id' with 0, indicating that no one invited them \n",
    "df_users.invited_by_user_id.fillna(value=0,inplace=True)\n",
    "#Make the org_id, invited by user, object id column a string\n",
    "for col in df_users.columns:\n",
    "    if df_users[col].dtype=='int64' or df_users[col].dtype=='float64':\n",
    "        df_users[col]=df_users[col].astype(object)"
   ]
  },
  {
   "cell_type": "code",
   "execution_count": 11,
   "id": "41f8e2e1",
   "metadata": {},
   "outputs": [],
   "source": [
    "#Add column 'invited_other_user' to indicate if a user invited someone else\n",
    "df_users_invite=df_users[['invited_by_user_id']]\n",
    "df_users_invite.invited_by_user_id=df_users_invite.invited_by_user_id.astype('str')\n",
    "df_users_invite.rename(columns={'invited_by_user_id':'inviter_id'},inplace=True)\n",
    "df_users_invite['invited_other_user']=1\n",
    "df_users_invite.drop_duplicates(inplace=True)\n",
    "df_users=df_users.merge(df_users_invite,how='left',left_on='object_id',right_on='inviter_id')\n",
    "df_users.drop(columns='inviter_id',inplace=True)\n",
    "df_users.invited_other_user=df_users.invited_other_user.fillna(value=0)"
   ]
  },
  {
   "cell_type": "code",
   "execution_count": 12,
   "id": "7644a042",
   "metadata": {},
   "outputs": [
    {
     "name": "stdout",
     "output_type": "stream",
     "text": [
      "<class 'pandas.core.frame.DataFrame'>\n",
      "Int64Index: 8823 entries, 0 to 11999\n",
      "Data columns (total 12 columns):\n",
      " #   Column                      Non-Null Count  Dtype         \n",
      "---  ------                      --------------  -----         \n",
      " 0   object_id                   8823 non-null   object        \n",
      " 1   creation_time               8823 non-null   datetime64[ns]\n",
      " 2   name                        8823 non-null   object        \n",
      " 3   email                       8823 non-null   object        \n",
      " 4   creation_source             8823 non-null   object        \n",
      " 5   last_session_creation_time  8823 non-null   datetime64[ns]\n",
      " 6   opted_in_to_mailing_list    8823 non-null   object        \n",
      " 7   enabled_for_marketing_drip  8823 non-null   object        \n",
      " 8   org_id                      8823 non-null   object        \n",
      " 9   invited_by_user_id          8823 non-null   object        \n",
      " 10  adopted                     8823 non-null   object        \n",
      " 11  invited_other_user          8823 non-null   float64       \n",
      "dtypes: datetime64[ns](2), float64(1), object(9)\n",
      "memory usage: 896.1+ KB\n"
     ]
    }
   ],
   "source": [
    "#Drop any rows with missing values\n",
    "df_users=df_users.dropna(axis=0,how='any')\n",
    "df_users.info()"
   ]
  },
  {
   "cell_type": "markdown",
   "id": "c36b9249",
   "metadata": {},
   "source": [
    "## 4. Chi Square Tests <a class=\"anchor\" id=\"4.ChiSquareTests\"></a>"
   ]
  },
  {
   "cell_type": "code",
   "execution_count": 13,
   "id": "66281330",
   "metadata": {},
   "outputs": [],
   "source": [
    "#Calculate the percent of users adopted for each variable within a feature. This will only be used on features that \n",
    "#have just a handful of variable groups (i.e. not org_id or  invited_by_user_id)\n",
    "def pct(var):\n",
    "    df_test=pd.DataFrame(df_users.groupby([var,'adopted']).size().rename('obs_count')).reset_index()\n",
    "    df_test['group_total']=df_test.groupby(var)['obs_count'].transform(sum)\n",
    "    df_test['obs_freq']=df_test.groupby(var)['obs_count'].transform(lambda x: [x.iloc[0]/sum(x),x.iloc[1]/sum(x)])\n",
    "    df_test['exp_freq']=df_test.groupby(var)['obs_count'].transform(lambda x: [1-prevalence,prevalence])\n",
    "    df_test['exp_count']=df_test.groupby(var)['obs_count'].transform(lambda x: [round(sum(x)*(1-prevalence)),round(sum(x)*prevalence)])\n",
    "    df_test=df_test[[var, 'adopted','group_total','obs_freq', 'exp_freq', 'obs_count', 'exp_count']]\n",
    "    return df_test"
   ]
  },
  {
   "cell_type": "code",
   "execution_count": 14,
   "id": "880d383d",
   "metadata": {},
   "outputs": [],
   "source": [
    "#Create an empty dictionary for storing stats\n",
    "stats={}"
   ]
  },
  {
   "cell_type": "code",
   "execution_count": 15,
   "id": "7bd2916a",
   "metadata": {},
   "outputs": [
    {
     "name": "stdout",
     "output_type": "stream",
     "text": [
      "Chi Stat: 0.0, pvalue: 1.0\n"
     ]
    },
    {
     "data": {
      "text/html": [
       "<div>\n",
       "<style scoped>\n",
       "    .dataframe tbody tr th:only-of-type {\n",
       "        vertical-align: middle;\n",
       "    }\n",
       "\n",
       "    .dataframe tbody tr th {\n",
       "        vertical-align: top;\n",
       "    }\n",
       "\n",
       "    .dataframe thead th {\n",
       "        text-align: right;\n",
       "    }\n",
       "</style>\n",
       "<table border=\"1\" class=\"dataframe\">\n",
       "  <thead>\n",
       "    <tr style=\"text-align: right;\">\n",
       "      <th></th>\n",
       "      <th>invited_other_user</th>\n",
       "      <th>adopted</th>\n",
       "      <th>group_total</th>\n",
       "      <th>obs_freq</th>\n",
       "      <th>exp_freq</th>\n",
       "      <th>obs_count</th>\n",
       "      <th>exp_count</th>\n",
       "    </tr>\n",
       "  </thead>\n",
       "  <tbody>\n",
       "    <tr>\n",
       "      <th>0</th>\n",
       "      <td>0.0</td>\n",
       "      <td>0.0</td>\n",
       "      <td>8823</td>\n",
       "      <td>0.818429</td>\n",
       "      <td>0.818429</td>\n",
       "      <td>7221</td>\n",
       "      <td>7221</td>\n",
       "    </tr>\n",
       "    <tr>\n",
       "      <th>1</th>\n",
       "      <td>0.0</td>\n",
       "      <td>1.0</td>\n",
       "      <td>8823</td>\n",
       "      <td>0.181571</td>\n",
       "      <td>0.181571</td>\n",
       "      <td>1602</td>\n",
       "      <td>1602</td>\n",
       "    </tr>\n",
       "  </tbody>\n",
       "</table>\n",
       "</div>"
      ],
      "text/plain": [
       "   invited_other_user  adopted  group_total  obs_freq  exp_freq  obs_count  \\\n",
       "0                 0.0      0.0         8823  0.818429  0.818429       7221   \n",
       "1                 0.0      1.0         8823  0.181571  0.181571       1602   \n",
       "\n",
       "   exp_count  \n",
       "0       7221  \n",
       "1       1602  "
      ]
     },
     "execution_count": 15,
     "metadata": {},
     "output_type": "execute_result"
    }
   ],
   "source": [
    "#Calculate chi square for invited other user, print statistics\n",
    "var='invited_other_user'\n",
    "df_invite=pct(var)\n",
    "a,b=chisquare(f_obs=df_invite.obs_count,f_exp=df_invite.exp_count)\n",
    "stats[var]=b\n",
    "print(\"Chi Stat: {}, pvalue: {}\".format(a,b))\n",
    "df_invite.sort_values(by=var)"
   ]
  },
  {
   "cell_type": "code",
   "execution_count": 16,
   "id": "c19d1325",
   "metadata": {},
   "outputs": [
    {
     "name": "stdout",
     "output_type": "stream",
     "text": [
      "Chi Stat: 0.4044038971160933, pvalue: 0.9393312577649852\n"
     ]
    },
    {
     "data": {
      "text/html": [
       "<div>\n",
       "<style scoped>\n",
       "    .dataframe tbody tr th:only-of-type {\n",
       "        vertical-align: middle;\n",
       "    }\n",
       "\n",
       "    .dataframe tbody tr th {\n",
       "        vertical-align: top;\n",
       "    }\n",
       "\n",
       "    .dataframe thead th {\n",
       "        text-align: right;\n",
       "    }\n",
       "</style>\n",
       "<table border=\"1\" class=\"dataframe\">\n",
       "  <thead>\n",
       "    <tr style=\"text-align: right;\">\n",
       "      <th></th>\n",
       "      <th>opted_in_to_mailing_list</th>\n",
       "      <th>adopted</th>\n",
       "      <th>group_total</th>\n",
       "      <th>obs_freq</th>\n",
       "      <th>exp_freq</th>\n",
       "      <th>obs_count</th>\n",
       "      <th>exp_count</th>\n",
       "    </tr>\n",
       "  </thead>\n",
       "  <tbody>\n",
       "    <tr>\n",
       "      <th>0</th>\n",
       "      <td>0</td>\n",
       "      <td>0.0</td>\n",
       "      <td>6597</td>\n",
       "      <td>0.819918</td>\n",
       "      <td>0.818429</td>\n",
       "      <td>5409</td>\n",
       "      <td>5399</td>\n",
       "    </tr>\n",
       "    <tr>\n",
       "      <th>1</th>\n",
       "      <td>0</td>\n",
       "      <td>1.0</td>\n",
       "      <td>6597</td>\n",
       "      <td>0.180082</td>\n",
       "      <td>0.181571</td>\n",
       "      <td>1188</td>\n",
       "      <td>1198</td>\n",
       "    </tr>\n",
       "    <tr>\n",
       "      <th>2</th>\n",
       "      <td>1</td>\n",
       "      <td>0.0</td>\n",
       "      <td>2226</td>\n",
       "      <td>0.814016</td>\n",
       "      <td>0.818429</td>\n",
       "      <td>1812</td>\n",
       "      <td>1822</td>\n",
       "    </tr>\n",
       "    <tr>\n",
       "      <th>3</th>\n",
       "      <td>1</td>\n",
       "      <td>1.0</td>\n",
       "      <td>2226</td>\n",
       "      <td>0.185984</td>\n",
       "      <td>0.181571</td>\n",
       "      <td>414</td>\n",
       "      <td>404</td>\n",
       "    </tr>\n",
       "  </tbody>\n",
       "</table>\n",
       "</div>"
      ],
      "text/plain": [
       "   opted_in_to_mailing_list  adopted  group_total  obs_freq  exp_freq  \\\n",
       "0                         0      0.0         6597  0.819918  0.818429   \n",
       "1                         0      1.0         6597  0.180082  0.181571   \n",
       "2                         1      0.0         2226  0.814016  0.818429   \n",
       "3                         1      1.0         2226  0.185984  0.181571   \n",
       "\n",
       "   obs_count  exp_count  \n",
       "0       5409       5399  \n",
       "1       1188       1198  \n",
       "2       1812       1822  \n",
       "3        414        404  "
      ]
     },
     "execution_count": 16,
     "metadata": {},
     "output_type": "execute_result"
    }
   ],
   "source": [
    "#Calculate chi square for opted into mailing list, print statistics\n",
    "var='opted_in_to_mailing_list'\n",
    "df_ml=pct(var)\n",
    "a,b=chisquare(f_obs=df_ml.obs_count,f_exp=df_ml.exp_count)\n",
    "stats[var]=b\n",
    "print(\"Chi Stat: {}, pvalue: {}\".format(a,b))\n",
    "df_ml.sort_values(by=var)"
   ]
  },
  {
   "cell_type": "code",
   "execution_count": 17,
   "id": "c88301d0",
   "metadata": {},
   "outputs": [
    {
     "name": "stdout",
     "output_type": "stream",
     "text": [
      "Chi Stat: 0.05332614261670977, pvalue: 0.9967767656651135\n"
     ]
    },
    {
     "data": {
      "text/html": [
       "<div>\n",
       "<style scoped>\n",
       "    .dataframe tbody tr th:only-of-type {\n",
       "        vertical-align: middle;\n",
       "    }\n",
       "\n",
       "    .dataframe tbody tr th {\n",
       "        vertical-align: top;\n",
       "    }\n",
       "\n",
       "    .dataframe thead th {\n",
       "        text-align: right;\n",
       "    }\n",
       "</style>\n",
       "<table border=\"1\" class=\"dataframe\">\n",
       "  <thead>\n",
       "    <tr style=\"text-align: right;\">\n",
       "      <th></th>\n",
       "      <th>enabled_for_marketing_drip</th>\n",
       "      <th>adopted</th>\n",
       "      <th>group_total</th>\n",
       "      <th>obs_freq</th>\n",
       "      <th>exp_freq</th>\n",
       "      <th>obs_count</th>\n",
       "      <th>exp_count</th>\n",
       "    </tr>\n",
       "  </thead>\n",
       "  <tbody>\n",
       "    <tr>\n",
       "      <th>0</th>\n",
       "      <td>0</td>\n",
       "      <td>0.0</td>\n",
       "      <td>7482</td>\n",
       "      <td>0.818765</td>\n",
       "      <td>0.818429</td>\n",
       "      <td>6126</td>\n",
       "      <td>6123</td>\n",
       "    </tr>\n",
       "    <tr>\n",
       "      <th>1</th>\n",
       "      <td>0</td>\n",
       "      <td>1.0</td>\n",
       "      <td>7482</td>\n",
       "      <td>0.181235</td>\n",
       "      <td>0.181571</td>\n",
       "      <td>1356</td>\n",
       "      <td>1359</td>\n",
       "    </tr>\n",
       "    <tr>\n",
       "      <th>2</th>\n",
       "      <td>1</td>\n",
       "      <td>0.0</td>\n",
       "      <td>1341</td>\n",
       "      <td>0.816555</td>\n",
       "      <td>0.818429</td>\n",
       "      <td>1095</td>\n",
       "      <td>1098</td>\n",
       "    </tr>\n",
       "    <tr>\n",
       "      <th>3</th>\n",
       "      <td>1</td>\n",
       "      <td>1.0</td>\n",
       "      <td>1341</td>\n",
       "      <td>0.183445</td>\n",
       "      <td>0.181571</td>\n",
       "      <td>246</td>\n",
       "      <td>243</td>\n",
       "    </tr>\n",
       "  </tbody>\n",
       "</table>\n",
       "</div>"
      ],
      "text/plain": [
       "   enabled_for_marketing_drip  adopted  group_total  obs_freq  exp_freq  \\\n",
       "0                           0      0.0         7482  0.818765  0.818429   \n",
       "1                           0      1.0         7482  0.181235  0.181571   \n",
       "2                           1      0.0         1341  0.816555  0.818429   \n",
       "3                           1      1.0         1341  0.183445  0.181571   \n",
       "\n",
       "   obs_count  exp_count  \n",
       "0       6126       6123  \n",
       "1       1356       1359  \n",
       "2       1095       1098  \n",
       "3        246        243  "
      ]
     },
     "execution_count": 17,
     "metadata": {},
     "output_type": "execute_result"
    }
   ],
   "source": [
    "#Calculate chi square for marketing drip, print statistics\n",
    "var='enabled_for_marketing_drip'\n",
    "df_md=pct(var)\n",
    "a,b=chisquare(f_obs=df_md.obs_count,f_exp=df_md.exp_count)\n",
    "stats[var]=b\n",
    "print(\"Chi Stat: {}, pvalue: {}\".format(a,b))\n",
    "df_md.sort_values(by=var)"
   ]
  },
  {
   "cell_type": "code",
   "execution_count": 18,
   "id": "c1b19cc5",
   "metadata": {},
   "outputs": [
    {
     "name": "stdout",
     "output_type": "stream",
     "text": [
      "Chi Stat: 40.24614500630668, pvalue: 6.856597952617988e-06\n"
     ]
    },
    {
     "data": {
      "text/html": [
       "<div>\n",
       "<style scoped>\n",
       "    .dataframe tbody tr th:only-of-type {\n",
       "        vertical-align: middle;\n",
       "    }\n",
       "\n",
       "    .dataframe tbody tr th {\n",
       "        vertical-align: top;\n",
       "    }\n",
       "\n",
       "    .dataframe thead th {\n",
       "        text-align: right;\n",
       "    }\n",
       "</style>\n",
       "<table border=\"1\" class=\"dataframe\">\n",
       "  <thead>\n",
       "    <tr style=\"text-align: right;\">\n",
       "      <th></th>\n",
       "      <th>creation_source</th>\n",
       "      <th>adopted</th>\n",
       "      <th>group_total</th>\n",
       "      <th>obs_freq</th>\n",
       "      <th>exp_freq</th>\n",
       "      <th>obs_count</th>\n",
       "      <th>exp_count</th>\n",
       "    </tr>\n",
       "  </thead>\n",
       "  <tbody>\n",
       "    <tr>\n",
       "      <th>0</th>\n",
       "      <td>GUEST_INVITE</td>\n",
       "      <td>0.0</td>\n",
       "      <td>1588</td>\n",
       "      <td>0.773300</td>\n",
       "      <td>0.818429</td>\n",
       "      <td>1228</td>\n",
       "      <td>1300</td>\n",
       "    </tr>\n",
       "    <tr>\n",
       "      <th>1</th>\n",
       "      <td>GUEST_INVITE</td>\n",
       "      <td>1.0</td>\n",
       "      <td>1588</td>\n",
       "      <td>0.226700</td>\n",
       "      <td>0.181571</td>\n",
       "      <td>360</td>\n",
       "      <td>288</td>\n",
       "    </tr>\n",
       "    <tr>\n",
       "      <th>2</th>\n",
       "      <td>ORG_INVITE</td>\n",
       "      <td>0.0</td>\n",
       "      <td>3188</td>\n",
       "      <td>0.826537</td>\n",
       "      <td>0.818429</td>\n",
       "      <td>2635</td>\n",
       "      <td>2609</td>\n",
       "    </tr>\n",
       "    <tr>\n",
       "      <th>3</th>\n",
       "      <td>ORG_INVITE</td>\n",
       "      <td>1.0</td>\n",
       "      <td>3188</td>\n",
       "      <td>0.173463</td>\n",
       "      <td>0.181571</td>\n",
       "      <td>553</td>\n",
       "      <td>579</td>\n",
       "    </tr>\n",
       "    <tr>\n",
       "      <th>4</th>\n",
       "      <td>PERSONAL_PROJECTS</td>\n",
       "      <td>0.0</td>\n",
       "      <td>764</td>\n",
       "      <td>0.785340</td>\n",
       "      <td>0.818429</td>\n",
       "      <td>600</td>\n",
       "      <td>625</td>\n",
       "    </tr>\n",
       "    <tr>\n",
       "      <th>5</th>\n",
       "      <td>PERSONAL_PROJECTS</td>\n",
       "      <td>1.0</td>\n",
       "      <td>764</td>\n",
       "      <td>0.214660</td>\n",
       "      <td>0.181571</td>\n",
       "      <td>164</td>\n",
       "      <td>139</td>\n",
       "    </tr>\n",
       "    <tr>\n",
       "      <th>6</th>\n",
       "      <td>SIGNUP</td>\n",
       "      <td>0.0</td>\n",
       "      <td>1898</td>\n",
       "      <td>0.845627</td>\n",
       "      <td>0.818429</td>\n",
       "      <td>1605</td>\n",
       "      <td>1553</td>\n",
       "    </tr>\n",
       "    <tr>\n",
       "      <th>7</th>\n",
       "      <td>SIGNUP</td>\n",
       "      <td>1.0</td>\n",
       "      <td>1898</td>\n",
       "      <td>0.154373</td>\n",
       "      <td>0.181571</td>\n",
       "      <td>293</td>\n",
       "      <td>345</td>\n",
       "    </tr>\n",
       "    <tr>\n",
       "      <th>8</th>\n",
       "      <td>SIGNUP_GOOGLE_AUTH</td>\n",
       "      <td>0.0</td>\n",
       "      <td>1385</td>\n",
       "      <td>0.832491</td>\n",
       "      <td>0.818429</td>\n",
       "      <td>1153</td>\n",
       "      <td>1134</td>\n",
       "    </tr>\n",
       "    <tr>\n",
       "      <th>9</th>\n",
       "      <td>SIGNUP_GOOGLE_AUTH</td>\n",
       "      <td>1.0</td>\n",
       "      <td>1385</td>\n",
       "      <td>0.167509</td>\n",
       "      <td>0.181571</td>\n",
       "      <td>232</td>\n",
       "      <td>251</td>\n",
       "    </tr>\n",
       "  </tbody>\n",
       "</table>\n",
       "</div>"
      ],
      "text/plain": [
       "      creation_source  adopted  group_total  obs_freq  exp_freq  obs_count  \\\n",
       "0        GUEST_INVITE      0.0         1588  0.773300  0.818429       1228   \n",
       "1        GUEST_INVITE      1.0         1588  0.226700  0.181571        360   \n",
       "2          ORG_INVITE      0.0         3188  0.826537  0.818429       2635   \n",
       "3          ORG_INVITE      1.0         3188  0.173463  0.181571        553   \n",
       "4   PERSONAL_PROJECTS      0.0          764  0.785340  0.818429        600   \n",
       "5   PERSONAL_PROJECTS      1.0          764  0.214660  0.181571        164   \n",
       "6              SIGNUP      0.0         1898  0.845627  0.818429       1605   \n",
       "7              SIGNUP      1.0         1898  0.154373  0.181571        293   \n",
       "8  SIGNUP_GOOGLE_AUTH      0.0         1385  0.832491  0.818429       1153   \n",
       "9  SIGNUP_GOOGLE_AUTH      1.0         1385  0.167509  0.181571        232   \n",
       "\n",
       "   exp_count  \n",
       "0       1300  \n",
       "1        288  \n",
       "2       2609  \n",
       "3        579  \n",
       "4        625  \n",
       "5        139  \n",
       "6       1553  \n",
       "7        345  \n",
       "8       1134  \n",
       "9        251  "
      ]
     },
     "execution_count": 18,
     "metadata": {},
     "output_type": "execute_result"
    }
   ],
   "source": [
    "#Calculate chi square for creation source, print statistics\n",
    "var='creation_source'\n",
    "df_cs=pct(var)\n",
    "a,b=chisquare(f_obs=df_cs.obs_count,f_exp=df_cs.exp_count)\n",
    "stats[var]=b\n",
    "print(\"Chi Stat: {}, pvalue: {}\".format(a,b))\n",
    "df_cs.sort_values(by='creation_source')"
   ]
  },
  {
   "cell_type": "code",
   "execution_count": 19,
   "id": "df7c56b8",
   "metadata": {},
   "outputs": [
    {
     "name": "stdout",
     "output_type": "stream",
     "text": [
      "Chi Stat: 35.47520612897503, pvalue: 0.0007153902423480736\n"
     ]
    },
    {
     "data": {
      "text/html": [
       "<div>\n",
       "<style scoped>\n",
       "    .dataframe tbody tr th:only-of-type {\n",
       "        vertical-align: middle;\n",
       "    }\n",
       "\n",
       "    .dataframe tbody tr th {\n",
       "        vertical-align: top;\n",
       "    }\n",
       "\n",
       "    .dataframe thead th {\n",
       "        text-align: right;\n",
       "    }\n",
       "</style>\n",
       "<table border=\"1\" class=\"dataframe\">\n",
       "  <thead>\n",
       "    <tr style=\"text-align: right;\">\n",
       "      <th></th>\n",
       "      <th>email</th>\n",
       "      <th>adopted</th>\n",
       "      <th>group_total</th>\n",
       "      <th>obs_freq</th>\n",
       "      <th>exp_freq</th>\n",
       "      <th>obs_count</th>\n",
       "      <th>exp_count</th>\n",
       "    </tr>\n",
       "  </thead>\n",
       "  <tbody>\n",
       "    <tr>\n",
       "      <th>0</th>\n",
       "      <td>cuvox.de</td>\n",
       "      <td>0.0</td>\n",
       "      <td>828</td>\n",
       "      <td>0.833333</td>\n",
       "      <td>0.818429</td>\n",
       "      <td>690</td>\n",
       "      <td>678</td>\n",
       "    </tr>\n",
       "    <tr>\n",
       "      <th>1</th>\n",
       "      <td>cuvox.de</td>\n",
       "      <td>1.0</td>\n",
       "      <td>828</td>\n",
       "      <td>0.166667</td>\n",
       "      <td>0.181571</td>\n",
       "      <td>138</td>\n",
       "      <td>150</td>\n",
       "    </tr>\n",
       "    <tr>\n",
       "      <th>2</th>\n",
       "      <td>gmail.com</td>\n",
       "      <td>0.0</td>\n",
       "      <td>2930</td>\n",
       "      <td>0.814676</td>\n",
       "      <td>0.818429</td>\n",
       "      <td>2387</td>\n",
       "      <td>2398</td>\n",
       "    </tr>\n",
       "    <tr>\n",
       "      <th>3</th>\n",
       "      <td>gmail.com</td>\n",
       "      <td>1.0</td>\n",
       "      <td>2930</td>\n",
       "      <td>0.185324</td>\n",
       "      <td>0.181571</td>\n",
       "      <td>543</td>\n",
       "      <td>532</td>\n",
       "    </tr>\n",
       "    <tr>\n",
       "      <th>4</th>\n",
       "      <td>gustr.com</td>\n",
       "      <td>0.0</td>\n",
       "      <td>842</td>\n",
       "      <td>0.830166</td>\n",
       "      <td>0.818429</td>\n",
       "      <td>699</td>\n",
       "      <td>689</td>\n",
       "    </tr>\n",
       "    <tr>\n",
       "      <th>5</th>\n",
       "      <td>gustr.com</td>\n",
       "      <td>1.0</td>\n",
       "      <td>842</td>\n",
       "      <td>0.169834</td>\n",
       "      <td>0.181571</td>\n",
       "      <td>143</td>\n",
       "      <td>153</td>\n",
       "    </tr>\n",
       "    <tr>\n",
       "      <th>6</th>\n",
       "      <td>hotmail.com</td>\n",
       "      <td>0.0</td>\n",
       "      <td>803</td>\n",
       "      <td>0.754670</td>\n",
       "      <td>0.818429</td>\n",
       "      <td>606</td>\n",
       "      <td>657</td>\n",
       "    </tr>\n",
       "    <tr>\n",
       "      <th>7</th>\n",
       "      <td>hotmail.com</td>\n",
       "      <td>1.0</td>\n",
       "      <td>803</td>\n",
       "      <td>0.245330</td>\n",
       "      <td>0.181571</td>\n",
       "      <td>197</td>\n",
       "      <td>146</td>\n",
       "    </tr>\n",
       "    <tr>\n",
       "      <th>8</th>\n",
       "      <td>jourrapide.com</td>\n",
       "      <td>0.0</td>\n",
       "      <td>883</td>\n",
       "      <td>0.815402</td>\n",
       "      <td>0.818429</td>\n",
       "      <td>720</td>\n",
       "      <td>723</td>\n",
       "    </tr>\n",
       "    <tr>\n",
       "      <th>9</th>\n",
       "      <td>jourrapide.com</td>\n",
       "      <td>1.0</td>\n",
       "      <td>883</td>\n",
       "      <td>0.184598</td>\n",
       "      <td>0.181571</td>\n",
       "      <td>163</td>\n",
       "      <td>160</td>\n",
       "    </tr>\n",
       "    <tr>\n",
       "      <th>10</th>\n",
       "      <td>other</td>\n",
       "      <td>0.0</td>\n",
       "      <td>811</td>\n",
       "      <td>0.806412</td>\n",
       "      <td>0.818429</td>\n",
       "      <td>654</td>\n",
       "      <td>664</td>\n",
       "    </tr>\n",
       "    <tr>\n",
       "      <th>11</th>\n",
       "      <td>other</td>\n",
       "      <td>1.0</td>\n",
       "      <td>811</td>\n",
       "      <td>0.193588</td>\n",
       "      <td>0.181571</td>\n",
       "      <td>157</td>\n",
       "      <td>147</td>\n",
       "    </tr>\n",
       "    <tr>\n",
       "      <th>12</th>\n",
       "      <td>yahoo.com</td>\n",
       "      <td>0.0</td>\n",
       "      <td>1726</td>\n",
       "      <td>0.848783</td>\n",
       "      <td>0.818429</td>\n",
       "      <td>1465</td>\n",
       "      <td>1413</td>\n",
       "    </tr>\n",
       "    <tr>\n",
       "      <th>13</th>\n",
       "      <td>yahoo.com</td>\n",
       "      <td>1.0</td>\n",
       "      <td>1726</td>\n",
       "      <td>0.151217</td>\n",
       "      <td>0.181571</td>\n",
       "      <td>261</td>\n",
       "      <td>313</td>\n",
       "    </tr>\n",
       "  </tbody>\n",
       "</table>\n",
       "</div>"
      ],
      "text/plain": [
       "             email  adopted  group_total  obs_freq  exp_freq  obs_count  \\\n",
       "0         cuvox.de      0.0          828  0.833333  0.818429        690   \n",
       "1         cuvox.de      1.0          828  0.166667  0.181571        138   \n",
       "2        gmail.com      0.0         2930  0.814676  0.818429       2387   \n",
       "3        gmail.com      1.0         2930  0.185324  0.181571        543   \n",
       "4        gustr.com      0.0          842  0.830166  0.818429        699   \n",
       "5        gustr.com      1.0          842  0.169834  0.181571        143   \n",
       "6      hotmail.com      0.0          803  0.754670  0.818429        606   \n",
       "7      hotmail.com      1.0          803  0.245330  0.181571        197   \n",
       "8   jourrapide.com      0.0          883  0.815402  0.818429        720   \n",
       "9   jourrapide.com      1.0          883  0.184598  0.181571        163   \n",
       "10           other      0.0          811  0.806412  0.818429        654   \n",
       "11           other      1.0          811  0.193588  0.181571        157   \n",
       "12       yahoo.com      0.0         1726  0.848783  0.818429       1465   \n",
       "13       yahoo.com      1.0         1726  0.151217  0.181571        261   \n",
       "\n",
       "    exp_count  \n",
       "0         678  \n",
       "1         150  \n",
       "2        2398  \n",
       "3         532  \n",
       "4         689  \n",
       "5         153  \n",
       "6         657  \n",
       "7         146  \n",
       "8         723  \n",
       "9         160  \n",
       "10        664  \n",
       "11        147  \n",
       "12       1413  \n",
       "13        313  "
      ]
     },
     "execution_count": 19,
     "metadata": {},
     "output_type": "execute_result"
    }
   ],
   "source": [
    "#Calculate chi square for email, print statistics\n",
    "var='email'\n",
    "df_em=pct(var)\n",
    "a,b=chisquare(f_obs=df_em.obs_count,f_exp=df_em.exp_count)\n",
    "stats[var]=b\n",
    "print(\"Chi Stat: {}, pvalue: {}\".format(a,b))\n",
    "df_em.sort_values(by=var)"
   ]
  },
  {
   "cell_type": "code",
   "execution_count": 20,
   "id": "63e1f275",
   "metadata": {},
   "outputs": [
    {
     "data": {
      "text/plain": [
       "{'invited_other_user': 1.0,\n",
       " 'opted_in_to_mailing_list': 0.9393312577649852,\n",
       " 'enabled_for_marketing_drip': 0.9967767656651135,\n",
       " 'creation_source': 6.856597952617988e-06,\n",
       " 'email': 0.0007153902423480736}"
      ]
     },
     "execution_count": 20,
     "metadata": {},
     "output_type": "execute_result"
    }
   ],
   "source": [
    "#Print p-values for each variable tested so far\n",
    "stats"
   ]
  },
  {
   "cell_type": "markdown",
   "id": "5ebc8161",
   "metadata": {},
   "source": [
    "## 5. Data Visualization <a class=\"anchor\" id=\"5.DataVisualization\"></a>"
   ]
  },
  {
   "cell_type": "markdown",
   "id": "bda31b82",
   "metadata": {},
   "source": [
    "### Exploring Invitation Group Size"
   ]
  },
  {
   "cell_type": "code",
   "execution_count": 21,
   "id": "e77c0d16",
   "metadata": {},
   "outputs": [],
   "source": [
    "def pct_incomplete(var):\n",
    "    df_test=pd.DataFrame(df_users.groupby([var,'adopted']).size().rename('obs_count')).reset_index()\n",
    "    df_test['group_total']=df_test.groupby(var)['obs_count'].transform(sum)\n",
    "    df_test['obs_prevalence']=round(df_test['obs_count']/df_test['group_total'],3)\n",
    "    df_test.drop_duplicates(subset=[var],keep='last',inplace=True)\n",
    "    df_test.loc[df_test.adopted==0,'obs_prevalence']=0\n",
    "    df_test.loc[df_test.adopted==0,'obs_count']=0\n",
    "    df_test.drop(columns='adopted',inplace=True)\n",
    "    df_test=df_test.sort_values(by='obs_prevalence',ascending=False)\n",
    "    return df_test"
   ]
  },
  {
   "cell_type": "code",
   "execution_count": 22,
   "id": "cad4ba24",
   "metadata": {},
   "outputs": [],
   "source": [
    "#Define invite group size stratifications\n",
    "def invite_size(x):\n",
    "    if x>1000:\n",
    "        return 'Not Invited'\n",
    "    if x>=5:\n",
    "        return '5-10 Invites'\n",
    "    else:\n",
    "        return '1-4 Invites'"
   ]
  },
  {
   "cell_type": "code",
   "execution_count": 23,
   "id": "435fb1bd",
   "metadata": {},
   "outputs": [
    {
     "data": {
      "text/html": [
       "<div>\n",
       "<style scoped>\n",
       "    .dataframe tbody tr th:only-of-type {\n",
       "        vertical-align: middle;\n",
       "    }\n",
       "\n",
       "    .dataframe tbody tr th {\n",
       "        vertical-align: top;\n",
       "    }\n",
       "\n",
       "    .dataframe thead th {\n",
       "        text-align: right;\n",
       "    }\n",
       "</style>\n",
       "<table border=\"1\" class=\"dataframe\">\n",
       "  <thead>\n",
       "    <tr style=\"text-align: right;\">\n",
       "      <th></th>\n",
       "      <th>invited_by_user_id</th>\n",
       "      <th>obs_count</th>\n",
       "      <th>group_total</th>\n",
       "      <th>obs_prevalence</th>\n",
       "    </tr>\n",
       "  </thead>\n",
       "  <tbody>\n",
       "    <tr>\n",
       "      <th>1</th>\n",
       "      <td>0.0</td>\n",
       "      <td>689</td>\n",
       "      <td>4047</td>\n",
       "      <td>0.170</td>\n",
       "    </tr>\n",
       "    <tr>\n",
       "      <th>1066</th>\n",
       "      <td>4612.0</td>\n",
       "      <td>2</td>\n",
       "      <td>10</td>\n",
       "      <td>0.200</td>\n",
       "    </tr>\n",
       "    <tr>\n",
       "      <th>520</th>\n",
       "      <td>2308.0</td>\n",
       "      <td>1</td>\n",
       "      <td>9</td>\n",
       "      <td>0.111</td>\n",
       "    </tr>\n",
       "    <tr>\n",
       "      <th>2693</th>\n",
       "      <td>11770.0</td>\n",
       "      <td>1</td>\n",
       "      <td>9</td>\n",
       "      <td>0.111</td>\n",
       "    </tr>\n",
       "    <tr>\n",
       "      <th>1566</th>\n",
       "      <td>6808.0</td>\n",
       "      <td>0</td>\n",
       "      <td>8</td>\n",
       "      <td>0.000</td>\n",
       "    </tr>\n",
       "    <tr>\n",
       "      <th>157</th>\n",
       "      <td>730.0</td>\n",
       "      <td>3</td>\n",
       "      <td>8</td>\n",
       "      <td>0.375</td>\n",
       "    </tr>\n",
       "    <tr>\n",
       "      <th>1113</th>\n",
       "      <td>4803.0</td>\n",
       "      <td>2</td>\n",
       "      <td>8</td>\n",
       "      <td>0.250</td>\n",
       "    </tr>\n",
       "    <tr>\n",
       "      <th>527</th>\n",
       "      <td>2354.0</td>\n",
       "      <td>4</td>\n",
       "      <td>8</td>\n",
       "      <td>0.500</td>\n",
       "    </tr>\n",
       "    <tr>\n",
       "      <th>326</th>\n",
       "      <td>1525.0</td>\n",
       "      <td>0</td>\n",
       "      <td>8</td>\n",
       "      <td>0.000</td>\n",
       "    </tr>\n",
       "    <tr>\n",
       "      <th>732</th>\n",
       "      <td>3261.0</td>\n",
       "      <td>1</td>\n",
       "      <td>8</td>\n",
       "      <td>0.125</td>\n",
       "    </tr>\n",
       "  </tbody>\n",
       "</table>\n",
       "</div>"
      ],
      "text/plain": [
       "      invited_by_user_id  obs_count  group_total  obs_prevalence\n",
       "1                    0.0        689         4047           0.170\n",
       "1066              4612.0          2           10           0.200\n",
       "520               2308.0          1            9           0.111\n",
       "2693             11770.0          1            9           0.111\n",
       "1566              6808.0          0            8           0.000\n",
       "157                730.0          3            8           0.375\n",
       "1113              4803.0          2            8           0.250\n",
       "527               2354.0          4            8           0.500\n",
       "326               1525.0          0            8           0.000\n",
       "732               3261.0          1            8           0.125"
      ]
     },
     "execution_count": 23,
     "metadata": {},
     "output_type": "execute_result"
    }
   ],
   "source": [
    "var='invited_by_user_id'\n",
    "df_invite=pct_incomplete(var)\n",
    "df_invite.sort_values(by='group_total',ascending=False).head(10)"
   ]
  },
  {
   "cell_type": "code",
   "execution_count": 24,
   "id": "05fb5865",
   "metadata": {},
   "outputs": [],
   "source": [
    "def org_pct(x):\n",
    "    group_=sum(x['group_total'])\n",
    "    adopted_=sum(x['obs_count'])\n",
    "    return adopted_/group_"
   ]
  },
  {
   "cell_type": "code",
   "execution_count": 25,
   "id": "a1f2c666",
   "metadata": {},
   "outputs": [
    {
     "name": "stdout",
     "output_type": "stream",
     "text": [
      "<class 'pandas.core.frame.DataFrame'>\n",
      "Int64Index: 2230 entries, 1292 to 2738\n",
      "Data columns (total 5 columns):\n",
      " #   Column              Non-Null Count  Dtype  \n",
      "---  ------              --------------  -----  \n",
      " 0   invited_by_user_id  2230 non-null   float64\n",
      " 1   obs_count           2230 non-null   int64  \n",
      " 2   group_total         2230 non-null   int64  \n",
      " 3   obs_prevalence      2230 non-null   float64\n",
      " 4   group_size          2230 non-null   object \n",
      "dtypes: float64(2), int64(2), object(1)\n",
      "memory usage: 104.5+ KB\n"
     ]
    }
   ],
   "source": [
    "df_invite['group_size']=df_invite.group_total.apply(invite_size)\n",
    "df_invite.info()"
   ]
  },
  {
   "cell_type": "code",
   "execution_count": 26,
   "id": "e980482e",
   "metadata": {},
   "outputs": [
    {
     "data": {
      "text/html": [
       "<div>\n",
       "<style scoped>\n",
       "    .dataframe tbody tr th:only-of-type {\n",
       "        vertical-align: middle;\n",
       "    }\n",
       "\n",
       "    .dataframe tbody tr th {\n",
       "        vertical-align: top;\n",
       "    }\n",
       "\n",
       "    .dataframe thead th {\n",
       "        text-align: right;\n",
       "    }\n",
       "</style>\n",
       "<table border=\"1\" class=\"dataframe\">\n",
       "  <thead>\n",
       "    <tr style=\"text-align: right;\">\n",
       "      <th></th>\n",
       "      <th>adoption_prevalence</th>\n",
       "      <th>group_total</th>\n",
       "    </tr>\n",
       "    <tr>\n",
       "      <th>group_size</th>\n",
       "      <th></th>\n",
       "      <th></th>\n",
       "    </tr>\n",
       "  </thead>\n",
       "  <tbody>\n",
       "    <tr>\n",
       "      <th>1-4 Invites</th>\n",
       "      <td>0.193724</td>\n",
       "      <td>3665</td>\n",
       "    </tr>\n",
       "    <tr>\n",
       "      <th>5-10 Invites</th>\n",
       "      <td>0.182718</td>\n",
       "      <td>1111</td>\n",
       "    </tr>\n",
       "    <tr>\n",
       "      <th>Not Invited</th>\n",
       "      <td>0.170250</td>\n",
       "      <td>4047</td>\n",
       "    </tr>\n",
       "  </tbody>\n",
       "</table>\n",
       "</div>"
      ],
      "text/plain": [
       "              adoption_prevalence  group_total\n",
       "group_size                                    \n",
       "1-4 Invites              0.193724         3665\n",
       "5-10 Invites             0.182718         1111\n",
       "Not Invited              0.170250         4047"
      ]
     },
     "execution_count": 26,
     "metadata": {},
     "output_type": "execute_result"
    }
   ],
   "source": [
    "df_invite['group_size']=df_invite.group_total.apply(invite_size)\n",
    "df_invite_=pd.DataFrame(df_invite.groupby('group_size').apply(org_pct)).rename(columns={0:'adoption_prevalence'})\n",
    "df_size=pd.DataFrame(df_invite.groupby('group_size')['group_total'].apply(sum))\n",
    "df_invite=pd.concat([df_invite_,df_size],axis=1)\n",
    "df_invite"
   ]
  },
  {
   "cell_type": "markdown",
   "id": "7cd6ce72",
   "metadata": {},
   "source": [
    "### Exploring Organization Size"
   ]
  },
  {
   "cell_type": "code",
   "execution_count": 27,
   "id": "e8c657ae",
   "metadata": {},
   "outputs": [],
   "source": [
    "#Give fake, unique organization numbers to those users that don't belong to any organization \n",
    "no_org=list(df_users[df_users.org_id==0].object_id)\n",
    "fake_org=[df_users.org_id.max()+1+i for i in range(len(no_org))]\n",
    "for i,j in zip(no_org,fake_org):\n",
    "    df_users.loc[df_users.object_id==i, 'org_id']=j"
   ]
  },
  {
   "cell_type": "code",
   "execution_count": 28,
   "id": "224e92e0",
   "metadata": {},
   "outputs": [],
   "source": [
    "#Define organization size stratifications\n",
    "def orgsize(x):\n",
    "    if x>=100:\n",
    "        return '>100 Users'\n",
    "    elif x>=50:\n",
    "        return '50-99 Users'\n",
    "    elif x>= 25:\n",
    "        return '25-49 Users'\n",
    "    elif x>= 10:\n",
    "        return '10-24 Users'\n",
    "    elif x>1:\n",
    "        return '2-9 Users'\n",
    "    else:\n",
    "        return '1 User (No Org)'"
   ]
  },
  {
   "cell_type": "code",
   "execution_count": 29,
   "id": "b6c6e388",
   "metadata": {},
   "outputs": [],
   "source": [
    "#Calclate the adoption prevalence for each group\n",
    "def org_pct(x):\n",
    "    group_=sum(x['group_total'])\n",
    "    adopted_=sum(x['obs_count'])\n",
    "    return adopted_/group_"
   ]
  },
  {
   "cell_type": "code",
   "execution_count": 30,
   "id": "22e90cee",
   "metadata": {},
   "outputs": [
    {
     "data": {
      "text/html": [
       "<div>\n",
       "<style scoped>\n",
       "    .dataframe tbody tr th:only-of-type {\n",
       "        vertical-align: middle;\n",
       "    }\n",
       "\n",
       "    .dataframe tbody tr th {\n",
       "        vertical-align: top;\n",
       "    }\n",
       "\n",
       "    .dataframe thead th {\n",
       "        text-align: right;\n",
       "    }\n",
       "</style>\n",
       "<table border=\"1\" class=\"dataframe\">\n",
       "  <thead>\n",
       "    <tr style=\"text-align: right;\">\n",
       "      <th></th>\n",
       "      <th>org_size</th>\n",
       "      <th>adoption</th>\n",
       "      <th>group_total</th>\n",
       "    </tr>\n",
       "  </thead>\n",
       "  <tbody>\n",
       "    <tr>\n",
       "      <th>0</th>\n",
       "      <td>2-9 Users</td>\n",
       "      <td>0.219424</td>\n",
       "      <td>278</td>\n",
       "    </tr>\n",
       "    <tr>\n",
       "      <th>1</th>\n",
       "      <td>10-24 Users</td>\n",
       "      <td>0.206882</td>\n",
       "      <td>4708</td>\n",
       "    </tr>\n",
       "    <tr>\n",
       "      <th>2</th>\n",
       "      <td>25-49 Users</td>\n",
       "      <td>0.172414</td>\n",
       "      <td>2146</td>\n",
       "    </tr>\n",
       "    <tr>\n",
       "      <th>3</th>\n",
       "      <td>50-99 Users</td>\n",
       "      <td>0.146465</td>\n",
       "      <td>792</td>\n",
       "    </tr>\n",
       "    <tr>\n",
       "      <th>4</th>\n",
       "      <td>&gt;100 Users</td>\n",
       "      <td>0.104322</td>\n",
       "      <td>671</td>\n",
       "    </tr>\n",
       "    <tr>\n",
       "      <th>5</th>\n",
       "      <td>1 User (No Org)</td>\n",
       "      <td>0.048246</td>\n",
       "      <td>228</td>\n",
       "    </tr>\n",
       "  </tbody>\n",
       "</table>\n",
       "</div>"
      ],
      "text/plain": [
       "          org_size  adoption  group_total\n",
       "0        2-9 Users  0.219424          278\n",
       "1      10-24 Users  0.206882         4708\n",
       "2      25-49 Users  0.172414         2146\n",
       "3      50-99 Users  0.146465          792\n",
       "4       >100 Users  0.104322          671\n",
       "5  1 User (No Org)  0.048246          228"
      ]
     },
     "execution_count": 30,
     "metadata": {},
     "output_type": "execute_result"
    }
   ],
   "source": [
    "#Calculate statistics\n",
    "var='org_id'\n",
    "df_org=pct_incomplete(var)\n",
    "df_org.sort_values('group_total',ascending=False)\n",
    "df_org['org_size']=df_org.group_total.apply(orgsize)\n",
    "df_adoption=pd.DataFrame(df_org.groupby('org_size').apply(org_pct)).rename(columns={0:'adoption'}).sort_values(by='adoption',ascending=False)\n",
    "df_size=pd.DataFrame(df_org.groupby('org_size').group_total.apply(sum))\n",
    "df_org_=pd.concat([df_adoption,df_size],axis=1)\n",
    "df_org_.reset_index(inplace=True)\n",
    "df_org_"
   ]
  },
  {
   "cell_type": "code",
   "execution_count": 31,
   "id": "da1b8652",
   "metadata": {},
   "outputs": [
    {
     "data": {
      "image/png": "[encoded data removed]",
      "text/plain": [
       "<Figure size 1008x576 with 1 Axes>"
      ]
     },
     "metadata": {
      "needs_background": "light"
     },
     "output_type": "display_data"
    }
   ],
   "source": [
    "#Plot results\n",
    "plt.subplots(figsize=(14,8))\n",
    "plt.scatter(df_org_['adoption'], df_org_['group_total'], marker='o',c='blue',s=100,label='Group Size')\n",
    "for s, x, y in zip(df_org_['org_size'],df_org_['adoption'], df_org_['group_total']):\n",
    "    plt.annotate(s, (x+0.005, y))\n",
    "plt.axvline(prevalence,lw=5,label='Overall Prevalence: {}%'.format(round(prevalence*100,2)))\n",
    "plt.xlabel('Adoption Prevalence')\n",
    "plt.ylabel('Number of users in orgs of this size')\n",
    "plt.title('Organization Size Count vs. Adoption Rate')\n",
    "plt.legend()\n",
    "plt.show()"
   ]
  }
 ],
 "metadata": {
  "kernelspec": {
   "display_name": "Python 3",
   "language": "python",
   "name": "python3"
  },
  "language_info": {
   "codemirror_mode": {
    "name": "ipython",
    "version": 3
   },
   "file_extension": ".py",
   "mimetype": "text/x-python",
   "name": "python",
   "nbconvert_exporter": "python",
   "pygments_lexer": "ipython3",
   "version": "3.9.5"
  }
 },
 "nbformat": 4,
 "nbformat_minor": 5
}
