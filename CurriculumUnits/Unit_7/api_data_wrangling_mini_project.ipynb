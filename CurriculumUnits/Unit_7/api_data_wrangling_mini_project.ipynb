{
 "cells": [
  {
   "cell_type": "markdown",
   "metadata": {},
   "source": [
    "This exercise will require you to pull some data from the Qunadl API. Qaundl is currently the most widely used aggregator of financial market data."
   ]
  },
  {
   "cell_type": "markdown",
   "metadata": {},
   "source": [
    "As a first step, you will need to register a free account on the http://www.quandl.com website."
   ]
  },
  {
   "cell_type": "markdown",
   "metadata": {},
   "source": [
    "After you register, you will be provided with a unique API key, that you should store:"
   ]
  },
  {
   "cell_type": "code",
   "execution_count": 1,
   "metadata": {},
   "outputs": [],
   "source": [
    "# Store the API key as a string - according to PEP8, constants are always named in all upper case\n",
    "# Note: Personal API Key has been removed.\n",
    "API_KEY = ''"
   ]
  },
  {
   "cell_type": "markdown",
   "metadata": {},
   "source": [
    "Qaundl has a large number of data sources, but, unfortunately, most of them require a Premium subscription. Still, there are also a good number of free datasets."
   ]
  },
  {
   "cell_type": "markdown",
   "metadata": {},
   "source": [
    "For this mini project, we will focus on equities data from the Frankfurt Stock Exhange (FSE), which is available for free. We'll try and analyze the stock prices of a company called Carl Zeiss Meditec, which manufactures tools for eye examinations, as well as medical lasers for laser eye surgery: https://www.zeiss.com/meditec/int/home.html. The company is listed under the stock ticker AFX_X."
   ]
  },
  {
   "cell_type": "markdown",
   "metadata": {},
   "source": [
    "You can find the detailed Quandl API instructions here: https://docs.quandl.com/docs/time-series"
   ]
  },
  {
   "cell_type": "markdown",
   "metadata": {},
   "source": [
    "While there is a dedicated Python package for connecting to the Quandl API, we would prefer that you use the *requests* package, which can be easily downloaded using *pip* or *conda*. You can find the documentation for the package here: http://docs.python-requests.org/en/master/ "
   ]
  },
  {
   "cell_type": "markdown",
   "metadata": {},
   "source": [
    "Finally, apart from the *requests* package, you are encouraged to not use any third party Python packages, such as *pandas*, and instead focus on what's available in the Python Standard Library (the *collections* module might come in handy: https://pymotw.com/3/collections/ ).\n",
    "Also, since you won't have access to DataFrames, you are encouraged to us Python's native data structures - preferably dictionaries, though some questions can also be answered using lists.\n",
    "You can read more on these data structures here: https://docs.python.org/3/tutorial/datastructures.html"
   ]
  },
  {
   "cell_type": "markdown",
   "metadata": {},
   "source": [
    "Keep in mind that the JSON responses you will be getting from the API map almost one-to-one to Python's dictionaries. Unfortunately, they can be very nested, so make sure you read up on indexing dictionaries in the documentation provided above."
   ]
  },
  {
   "cell_type": "code",
   "execution_count": 2,
   "metadata": {},
   "outputs": [],
   "source": [
    "# First, import the relevant modules\n",
    "import requests\n",
    "import json"
   ]
  },
  {
   "cell_type": "code",
   "execution_count": 3,
   "metadata": {},
   "outputs": [
    {
     "name": "stdout",
     "output_type": "stream",
     "text": [
      "dataset:  {'id': 10095370, 'dataset_code': 'AFX_X', 'database_code': 'FSE', 'name': 'Carl Zeiss Meditec (AFX_X)', 'description': 'Stock Prices for Carl Zeiss Meditec (2020-11-02) from the Frankfurt Stock Exchange.<br><br>Trading System: Xetra<br><br>ISIN: DE0005313704', 'refreshed_at': '2020-12-01T14:48:09.907Z', 'newest_available_date': '2020-12-01', 'oldest_available_date': '2000-06-07', 'column_names': ['Date', 'Open', 'High', 'Low', 'Close', 'Change', 'Traded Volume', 'Turnover', 'Last Price of the Day', 'Daily Traded Units', 'Daily Turnover'], 'frequency': 'daily', 'type': 'Time Series', 'premium': False, 'limit': None, 'transform': None, 'column_index': None, 'start_date': '2020-01-13', 'end_date': '2020-01-13', 'data': [['2020-01-13', 118.0, 118.9, 117.0, 117.2, None, 84067.0, 9891618.0, None, None, None]], 'collapse': None, 'order': None, 'database_id': 6129}\n"
     ]
    }
   ],
   "source": [
    "# Now, call the Quandl API and pull out a small sample of the data (only one day) to get a glimpse\n",
    "# into the JSON structure that will be returned\n",
    "\n",
    "# Following Code adapted from datacamp exercise on loading API data\n",
    "# URL: https://campus.datacamp.com/courses/intermediate-importing-data-in-python/interacting-with-apis-to-import-data-from-the-web-2?ex=8\n",
    "# Date Accessed: Feb 8th 2021\n",
    "\n",
    "# Assign API query URL to url\n",
    "url = 'https://www.quandl.com/api/v3/datasets/FSE/AFX_X.json?start_date=2020-01-13&end_date=2020-01-13&api_key='+ API_KEY\n",
    "# Package the request, send the request and catch the response\n",
    "r=requests.get(url)\n",
    "# Decode the JSON data into a dictionary\n",
    "json_data=r.json()\n",
    "# Print each key-value pair in json_data\n",
    "for k in json_data.keys():\n",
    "    print(k + ': ', json_data[k])"
   ]
  },
  {
   "cell_type": "markdown",
   "metadata": {
    "collapsed": true
   },
   "source": [
    "Inspect the JSON structure of the object you created, and take note of how nested it is,\n",
    "as well as the overall structure"
   ]
  },
  {
   "cell_type": "markdown",
   "metadata": {},
   "source": [
    "These are your tasks for this mini project:\n",
    "\n",
    "1. Collect data from the Franfurt Stock Exchange, for the ticker AFX_X, for the whole year 2017 (keep in mind that the date format is YYYY-MM-DD).\n",
    "2. Convert the returned JSON object into a Python dictionary.\n",
    "3. Calculate what the highest and lowest opening prices were for the stock in this period.\n",
    "4. What was the largest change in any one day (based on High and Low price)?\n",
    "5. What was the largest change between any two days (based on Closing Price)?\n",
    "6. What was the average daily trading volume during this year?\n",
    "7. (Optional) What was the median trading volume during this year. (Note: you may need to implement your own function for calculating the median.)"
   ]
  },
  {
   "cell_type": "code",
   "execution_count": 4,
   "metadata": {},
   "outputs": [],
   "source": [
    "# Task 1: Collect data from the Franfurt Stock Exchange, for the ticker AFX_X, for the whole year 2017\n",
    "\n",
    "# Following Code adapted from a datacamp exercise on loading API data\n",
    "# URL: https://campus.datacamp.com/courses/intermediate-importing-data-in-python/interacting-with-apis-to-import-data-from-the-web-2?ex=8\n",
    "# Date Accessed: Feb 8th 2021\n",
    "\n",
    "# Assign API query URL to url\n",
    "url = 'https://www.quandl.com/api/v3/datasets/FSE/AFX_X.json?start_date=2017-01-01&end_date=2017-12-31&api_key'+API_KEY\n",
    "# Package the request, send the request and catch the response\n",
    "r=requests.get(url)"
   ]
  },
  {
   "cell_type": "code",
   "execution_count": 5,
   "metadata": {},
   "outputs": [],
   "source": [
    "# Task 2: Convert the returned JSON object into a Python dictionary.\n",
    "\n",
    "# Decode the JSON data into a dictionary\n",
    "json_data=r.json()\n",
    "\n",
    "# Grab the data and column names, create lists for them (data and data_names, respectively)\n",
    "data=json_data['dataset']['data']\n",
    "data_names=json_data['dataset']['column_names']\n",
    "\n",
    "# 2D List Transpose function pulled from GeeksforGeeks Page\n",
    "# URL: https://www.geeksforgeeks.org/python-transpose-elements-of-two-dimensional-list/\n",
    "# Date Accessed: February 8th, 2021\n",
    "\n",
    "# Python program to get transpose\n",
    "# elements of two dimension list\n",
    "def transpose(l1, l2):\n",
    " \n",
    "    # we have nested loops in comprehensions\n",
    "    # value of i is assigned using inner loop\n",
    "    # then value of item is directed by row[i]\n",
    "    # and appended to l2\n",
    "    l2 =[[row[i] for row in l1] for i in range(len(l1[0]))]\n",
    "    return l2\n",
    "l2=[]\n",
    "# Driver code \n",
    "data_T=transpose(data, l2)\n",
    "\n",
    "#Create dictionary with column names of interest as keys, data points as values\n",
    "dictionary=dict(zip(data_names,data_T))"
   ]
  },
  {
   "cell_type": "code",
   "execution_count": 6,
   "metadata": {},
   "outputs": [
    {
     "name": "stdout",
     "output_type": "stream",
     "text": [
      "The highest opening stock price for this period was 53.11.\n",
      "The lowest opening stock price for this period was 34.0.\n"
     ]
    }
   ],
   "source": [
    "# Task 3: Calculate what the highest and lowest opening prices were for the stock in this period.\n",
    "\n",
    "#Create a new list of values for open that contain no NaNs (open column has 3 NaN entries)\n",
    "open_no_NaNs=[]\n",
    "for i in dictionary['Open']:\n",
    "    if type(i) == float:\n",
    "        open_no_NaNs.append(i)\n",
    "\n",
    "#Print the max and mean values of the opening prices\n",
    "print(\"The highest opening stock price for this period was {}.\".format(max(open_no_NaNs)))\n",
    "print(\"The lowest opening stock price for this period was {}.\".format(min(open_no_NaNs)))"
   ]
  },
  {
   "cell_type": "code",
   "execution_count": 7,
   "metadata": {},
   "outputs": [
    {
     "name": "stdout",
     "output_type": "stream",
     "text": [
      "The largest change in any one day (based on High and Low price) was 2.81.\n"
     ]
    }
   ],
   "source": [
    "# Task 4: What was the largest change in any one day (based on High and Low price)?\n",
    "\n",
    "#Create lists for the high (h) and low trading (l) price data\n",
    "h=dictionary['High']\n",
    "l=dictionary['Low']\n",
    "\n",
    "#Determine the difference between the high and low values each day, store in a list called delta_trade\n",
    "delta_trade=[i-k for i, k in zip(h,l)]\n",
    "\n",
    "#Print the results\n",
    "print(\"The largest change in any one day (based on High and Low price) was {}.\".format(round(max(delta_trade),4)))"
   ]
  },
  {
   "cell_type": "code",
   "execution_count": 8,
   "metadata": {},
   "outputs": [
    {
     "name": "stdout",
     "output_type": "stream",
     "text": [
      "The largest change in any two days (based on Closing price) was 2.56.\n"
     ]
    }
   ],
   "source": [
    "# Task 5: What was the largest change between any two days (based on Closing Price)?\n",
    "\n",
    "#Create lists for the closing price data (c)\n",
    "c=dictionary['Close']\n",
    "\n",
    "#Determine the difference in closing price between days, store in a list called delta_trade_2\n",
    "delta_trade_2=[]\n",
    "for i in range(len(c)-1):\n",
    "    delta_trade_2.append(c[i+1]-c[i])\n",
    "    \n",
    "#Print the maximum two day closing price change\n",
    "print(\"The largest change in any two days (based on Closing price) was {}.\".format(abs(round(max(delta_trade_2),4))))"
   ]
  },
  {
   "cell_type": "code",
   "execution_count": 9,
   "metadata": {},
   "outputs": [
    {
     "name": "stdout",
     "output_type": "stream",
     "text": [
      "The average daily trading volume this year was 0.7784.\n"
     ]
    }
   ],
   "source": [
    "# Task 6: What was the average daily trading volume during this year?\n",
    "\n",
    "#Determine mean of delta_trade, round it to 4 decimal places\n",
    "mean_volume=sum(delta_trade)/len(delta_trade)\n",
    "mean_volume_r=round(mean_volume,4)\n",
    "\n",
    "#Print the results\n",
    "print(\"The average daily trading volume this year was {}.\".format(mean_volume_r))"
   ]
  },
  {
   "cell_type": "code",
   "execution_count": 10,
   "metadata": {},
   "outputs": [
    {
     "name": "stdout",
     "output_type": "stream",
     "text": [
      "The median trading volume this year was 0.68.\n"
     ]
    }
   ],
   "source": [
    "# Task 7: What was the median trading volume during this year?\n",
    "# (Note: you may need to implement your own function for calculating the median.)\n",
    "\n",
    "#Sort the delta trade list in increasing order\n",
    "delta_trade.sort()\n",
    "\n",
    "#Determine the median, round it to 4 decimal places, return med\n",
    "n=int((len(delta_trade)-1)/2)\n",
    "med=round(delta_trade[n],4)\n",
    "\n",
    "\n",
    "#Print the results\n",
    "print(\"The median trading volume this year was {}.\".format(med))"
   ]
  }
 ],
 "metadata": {
  "kernelspec": {
   "display_name": "Python 3",
   "language": "python",
   "name": "python3"
  },
  "language_info": {
   "codemirror_mode": {
    "name": "ipython",
    "version": 3
   },
   "file_extension": ".py",
   "mimetype": "text/x-python",
   "name": "python",
   "nbconvert_exporter": "python",
   "pygments_lexer": "ipython3",
   "version": "3.8.8"
  }
 },
 "nbformat": 4,
 "nbformat_minor": 2
}
