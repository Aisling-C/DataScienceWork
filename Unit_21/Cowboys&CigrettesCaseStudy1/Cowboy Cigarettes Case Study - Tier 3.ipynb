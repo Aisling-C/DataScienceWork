{
 "cells": [
  {
   "cell_type": "markdown",
   "metadata": {},
   "source": [
    "# Springboard Time Series - 'Cowboy Cigarettes' Case Study - Tier 3"
   ]
  },
  {
   "cell_type": "markdown",
   "metadata": {},
   "source": [
    "## Brief\n",
    "\n",
    "You're working in the US federal government as a data scientist in the Health and Environment department. You've been tasked with determining whether sales for the oldest and most powerful producers of cigarettes in the country are increasing or declining. \n",
    "\n",
    "**Cowboy Cigarettes (TM, *est.* 1890)** is the US's longest-running cigarette manufacturer. Like many cigarette companies, however, they haven't always been that public about their sales and marketing data. The available post-war historical data runs for only 11 years after they resumed production in 1949; stopping in 1960 before resuming again in 1970. Your job is to use the 1949-1960 data to predict whether the manufacturer's cigarette sales actually increased, decreased, or stayed the same. You need to make a probable reconstruction of the sales record of the manufacturer - predicting the future, from the perspective of the past - to contribute to a full report on US public health in relation to major cigarette companies. \n",
    "\n",
    "The results of your analysis will be used as part of a major report relating public health and local economics, and will be combined with other studies executed by your colleagues to provide important government advice.  \n",
    "\n",
    "-------------------------------\n",
    "As ever, this notebook is **tiered**, meaning you can elect that tier that is right for your confidence and skill level. There are 3 tiers, with tier 1 being the easiest and tier 3 being the hardest.  \n",
    "\n",
    "**1. Sourcing and loading** \n",
    "- Load relevant libraries \n",
    "- Load the data\n",
    "- Explore the data\n",
    "\n",
    " \n",
    "**2. Cleaning, transforming and visualizing**\n",
    "- Dropping unwanted columns\n",
    "- Nomenclature\n",
    "- Type conversions\n",
    "- Making a predictor variable `y` \n",
    "- Getting summary statistics for `y`\n",
    "- Plotting `y`\n",
    "  \n",
    "  \n",
    "**3. Modelling** \n",
    "- Decomposition\n",
    "    - Trend\n",
    "    - Seasonality\n",
    "    - Noise\n",
    "- Testing for stationarity with KPSS\n",
    "- Making the data stationary\n",
    "- The ARIMA Model\n",
    "    - Make a function to find the MSE of a single ARIMA model\n",
    "    - Make a function to evaluate the different ARIMA models with different p, d, and q values\n",
    "- Visualize the results\n",
    "- Application: Forecasting\n",
    "\n",
    "**4. Evaluating and concluding** \n",
    "- What is our conclusion?\n",
    "- Next steps\n",
    "    "
   ]
  },
  {
   "cell_type": "markdown",
   "metadata": {},
   "source": [
    "## 0. Preliminaries \n",
    "\n",
    "Time series data is just any data displaying how a single variable changes over time. It comes as a collection of metrics typically taken at regular intervals. Common examples of time series data include weekly sales data and daily stock prices. You can also easily acquire time series data from [Google Trends](https://trends.google.com/trends/?geo=US), which shows you how popular certain search terms are, measured in number of Google searches. "
   ]
  },
  {
   "cell_type": "markdown",
   "metadata": {},
   "source": [
    "## 1. Sourcing and Loading\n",
    "\n",
    "### 1a. Load relevant libraries "
   ]
  },
  {
   "cell_type": "code",
   "execution_count": 1,
   "metadata": {},
   "outputs": [],
   "source": [
    "import pandas as pd\n",
    "import matplotlib.pyplot as plt\n",
    "import numpy as np\n",
    "import seaborn as sns\n",
    "import statsmodels.api as sm\n",
    "import warnings\n",
    "warnings.filterwarnings('ignore')\n",
    "\n",
    "pd.set_option('display.max_rows', None)\n",
    "pd.set_option('display.max_columns', None)"
   ]
  },
  {
   "cell_type": "markdown",
   "metadata": {},
   "source": [
    "### 1b. Load the data\n",
    "Call the variable `cigData`. "
   ]
  },
  {
   "cell_type": "code",
   "execution_count": 2,
   "metadata": {},
   "outputs": [],
   "source": [
    "cigData=pd.read_csv('CowboyCigsData.csv',usecols=[1,2])"
   ]
  },
  {
   "cell_type": "markdown",
   "metadata": {},
   "source": [
    "### 1c. Explore the data\n",
    "We now need to check whether the data conduces to a time series style analysis."
   ]
  },
  {
   "cell_type": "code",
   "execution_count": 3,
   "metadata": {
    "scrolled": true
   },
   "outputs": [
    {
     "data": {
      "text/html": [
       "<div>\n",
       "<style scoped>\n",
       "    .dataframe tbody tr th:only-of-type {\n",
       "        vertical-align: middle;\n",
       "    }\n",
       "\n",
       "    .dataframe tbody tr th {\n",
       "        vertical-align: top;\n",
       "    }\n",
       "\n",
       "    .dataframe thead th {\n",
       "        text-align: right;\n",
       "    }\n",
       "</style>\n",
       "<table border=\"1\" class=\"dataframe\">\n",
       "  <thead>\n",
       "    <tr style=\"text-align: right;\">\n",
       "      <th></th>\n",
       "      <th>Time</th>\n",
       "      <th>#CigSales</th>\n",
       "    </tr>\n",
       "  </thead>\n",
       "  <tbody>\n",
       "    <tr>\n",
       "      <th>0</th>\n",
       "      <td>1949-01</td>\n",
       "      <td>1000112</td>\n",
       "    </tr>\n",
       "    <tr>\n",
       "      <th>1</th>\n",
       "      <td>1949-02</td>\n",
       "      <td>1000118</td>\n",
       "    </tr>\n",
       "    <tr>\n",
       "      <th>2</th>\n",
       "      <td>1949-03</td>\n",
       "      <td>1000132</td>\n",
       "    </tr>\n",
       "    <tr>\n",
       "      <th>3</th>\n",
       "      <td>1949-04</td>\n",
       "      <td>1000129</td>\n",
       "    </tr>\n",
       "    <tr>\n",
       "      <th>4</th>\n",
       "      <td>1949-05</td>\n",
       "      <td>1000121</td>\n",
       "    </tr>\n",
       "  </tbody>\n",
       "</table>\n",
       "</div>"
      ],
      "text/plain": [
       "      Time  #CigSales\n",
       "0  1949-01    1000112\n",
       "1  1949-02    1000118\n",
       "2  1949-03    1000132\n",
       "3  1949-04    1000129\n",
       "4  1949-05    1000121"
      ]
     },
     "execution_count": 3,
     "metadata": {},
     "output_type": "execute_result"
    }
   ],
   "source": [
    "cigData.head()"
   ]
  },
  {
   "cell_type": "markdown",
   "metadata": {},
   "source": [
    "Over a million cigarettes sold in the month of January 1949. This certainly is a popular cigarette brand. "
   ]
  },
  {
   "cell_type": "markdown",
   "metadata": {},
   "source": [
    "Check out the columns feature of the data. How many columns are there? "
   ]
  },
  {
   "cell_type": "code",
   "execution_count": 4,
   "metadata": {},
   "outputs": [
    {
     "data": {
      "text/plain": [
       "Index(['Time', '#CigSales'], dtype='object')"
      ]
     },
     "execution_count": 4,
     "metadata": {},
     "output_type": "execute_result"
    }
   ],
   "source": [
    "cigData.columns"
   ]
  },
  {
   "cell_type": "markdown",
   "metadata": {},
   "source": [
    "Let's check out the data types of our columns."
   ]
  },
  {
   "cell_type": "code",
   "execution_count": 5,
   "metadata": {
    "scrolled": false
   },
   "outputs": [
    {
     "data": {
      "text/plain": [
       "Time         object\n",
       "#CigSales     int64\n",
       "dtype: object"
      ]
     },
     "execution_count": 5,
     "metadata": {},
     "output_type": "execute_result"
    }
   ],
   "source": [
    "cigData.dtypes"
   ]
  },
  {
   "cell_type": "code",
   "execution_count": 6,
   "metadata": {},
   "outputs": [],
   "source": [
    "#Do this transformation to make the exercises work\n",
    "cigData['#CigSales']=(cigData['#CigSales']-1000000)*100000"
   ]
  },
  {
   "cell_type": "markdown",
   "metadata": {},
   "source": [
    "Check whether there are any null values. "
   ]
  },
  {
   "cell_type": "code",
   "execution_count": 7,
   "metadata": {},
   "outputs": [
    {
     "data": {
      "text/html": [
       "<div>\n",
       "<style scoped>\n",
       "    .dataframe tbody tr th:only-of-type {\n",
       "        vertical-align: middle;\n",
       "    }\n",
       "\n",
       "    .dataframe tbody tr th {\n",
       "        vertical-align: top;\n",
       "    }\n",
       "\n",
       "    .dataframe thead th {\n",
       "        text-align: right;\n",
       "    }\n",
       "</style>\n",
       "<table border=\"1\" class=\"dataframe\">\n",
       "  <thead>\n",
       "    <tr style=\"text-align: right;\">\n",
       "      <th></th>\n",
       "      <th>VarName</th>\n",
       "      <th>NullCount</th>\n",
       "    </tr>\n",
       "  </thead>\n",
       "  <tbody>\n",
       "  </tbody>\n",
       "</table>\n",
       "</div>"
      ],
      "text/plain": [
       "Empty DataFrame\n",
       "Columns: [VarName, NullCount]\n",
       "Index: []"
      ]
     },
     "execution_count": 7,
     "metadata": {},
     "output_type": "execute_result"
    }
   ],
   "source": [
    "na_df=pd.DataFrame(cigData.isnull().sum().sort_values(ascending=False)).reset_index()\n",
    "na_df.columns = ['VarName', 'NullCount']\n",
    "na_df[(na_df['NullCount']>0)]"
   ]
  },
  {
   "cell_type": "markdown",
   "metadata": {},
   "source": [
    "## 2. Cleaning, transforming and visualizing"
   ]
  },
  {
   "cell_type": "markdown",
   "metadata": {},
   "source": [
    "### 2b. Nomenclature"
   ]
  },
  {
   "cell_type": "markdown",
   "metadata": {},
   "source": [
    "We can see that the `Time` column actually has the granularity of months. Change the name of that column to `Month`."
   ]
  },
  {
   "cell_type": "code",
   "execution_count": 8,
   "metadata": {},
   "outputs": [],
   "source": [
    "cigData.rename(columns={'Time':'Month'},inplace=True)"
   ]
  },
  {
   "cell_type": "markdown",
   "metadata": {},
   "source": [
    "Call a head() to check this has worked. "
   ]
  },
  {
   "cell_type": "code",
   "execution_count": 9,
   "metadata": {},
   "outputs": [
    {
     "data": {
      "text/html": [
       "<div>\n",
       "<style scoped>\n",
       "    .dataframe tbody tr th:only-of-type {\n",
       "        vertical-align: middle;\n",
       "    }\n",
       "\n",
       "    .dataframe tbody tr th {\n",
       "        vertical-align: top;\n",
       "    }\n",
       "\n",
       "    .dataframe thead th {\n",
       "        text-align: right;\n",
       "    }\n",
       "</style>\n",
       "<table border=\"1\" class=\"dataframe\">\n",
       "  <thead>\n",
       "    <tr style=\"text-align: right;\">\n",
       "      <th></th>\n",
       "      <th>Month</th>\n",
       "      <th>#CigSales</th>\n",
       "    </tr>\n",
       "  </thead>\n",
       "  <tbody>\n",
       "    <tr>\n",
       "      <th>0</th>\n",
       "      <td>1949-01</td>\n",
       "      <td>11200000</td>\n",
       "    </tr>\n",
       "    <tr>\n",
       "      <th>1</th>\n",
       "      <td>1949-02</td>\n",
       "      <td>11800000</td>\n",
       "    </tr>\n",
       "    <tr>\n",
       "      <th>2</th>\n",
       "      <td>1949-03</td>\n",
       "      <td>13200000</td>\n",
       "    </tr>\n",
       "    <tr>\n",
       "      <th>3</th>\n",
       "      <td>1949-04</td>\n",
       "      <td>12900000</td>\n",
       "    </tr>\n",
       "    <tr>\n",
       "      <th>4</th>\n",
       "      <td>1949-05</td>\n",
       "      <td>12100000</td>\n",
       "    </tr>\n",
       "  </tbody>\n",
       "</table>\n",
       "</div>"
      ],
      "text/plain": [
       "     Month  #CigSales\n",
       "0  1949-01   11200000\n",
       "1  1949-02   11800000\n",
       "2  1949-03   13200000\n",
       "3  1949-04   12900000\n",
       "4  1949-05   12100000"
      ]
     },
     "execution_count": 9,
     "metadata": {},
     "output_type": "execute_result"
    }
   ],
   "source": [
    "cigData.head()"
   ]
  },
  {
   "cell_type": "markdown",
   "metadata": {},
   "source": [
    "### 2c. Type conversions "
   ]
  },
  {
   "cell_type": "markdown",
   "metadata": {},
   "source": [
    "Now, do time series analysis on a Pandas dataframe is overkill, and is actually counter-productive. It's much more easy to carry out this type of analysis if we convert our data to a series first.\n",
    "\n",
    "Notice that the `Month` field was an object. Let's type convert the `Month` column to a Python `datetime`, before making that the index."
   ]
  },
  {
   "cell_type": "code",
   "execution_count": 10,
   "metadata": {},
   "outputs": [
    {
     "data": {
      "text/html": [
       "<div>\n",
       "<style scoped>\n",
       "    .dataframe tbody tr th:only-of-type {\n",
       "        vertical-align: middle;\n",
       "    }\n",
       "\n",
       "    .dataframe tbody tr th {\n",
       "        vertical-align: top;\n",
       "    }\n",
       "\n",
       "    .dataframe thead th {\n",
       "        text-align: right;\n",
       "    }\n",
       "</style>\n",
       "<table border=\"1\" class=\"dataframe\">\n",
       "  <thead>\n",
       "    <tr style=\"text-align: right;\">\n",
       "      <th></th>\n",
       "      <th>#CigSales</th>\n",
       "    </tr>\n",
       "    <tr>\n",
       "      <th>Month</th>\n",
       "      <th></th>\n",
       "    </tr>\n",
       "  </thead>\n",
       "  <tbody>\n",
       "    <tr>\n",
       "      <th>1949-01-01</th>\n",
       "      <td>11200000</td>\n",
       "    </tr>\n",
       "    <tr>\n",
       "      <th>1949-02-01</th>\n",
       "      <td>11800000</td>\n",
       "    </tr>\n",
       "    <tr>\n",
       "      <th>1949-03-01</th>\n",
       "      <td>13200000</td>\n",
       "    </tr>\n",
       "    <tr>\n",
       "      <th>1949-04-01</th>\n",
       "      <td>12900000</td>\n",
       "    </tr>\n",
       "    <tr>\n",
       "      <th>1949-05-01</th>\n",
       "      <td>12100000</td>\n",
       "    </tr>\n",
       "  </tbody>\n",
       "</table>\n",
       "</div>"
      ],
      "text/plain": [
       "            #CigSales\n",
       "Month                \n",
       "1949-01-01   11200000\n",
       "1949-02-01   11800000\n",
       "1949-03-01   13200000\n",
       "1949-04-01   12900000\n",
       "1949-05-01   12100000"
      ]
     },
     "execution_count": 10,
     "metadata": {},
     "output_type": "execute_result"
    }
   ],
   "source": [
    "cigData.Month=pd.to_datetime(cigData.Month,format=\"%Y/%m\")\n",
    "cigData.set_index('Month',inplace=True)\n",
    "cigData.head()"
   ]
  },
  {
   "cell_type": "markdown",
   "metadata": {},
   "source": [
    "Perfect! "
   ]
  },
  {
   "cell_type": "markdown",
   "metadata": {},
   "source": [
    "### 2d. Making a predictor variable `y`"
   ]
  },
  {
   "cell_type": "markdown",
   "metadata": {},
   "source": [
    "The data is now indexed by date, as time series data ought to be.\n",
    "\n",
    "Since we want to predict the number of cigarette sales at Cowboy cigarettes, and `y` is typically used to signify a predictor variable, let's create a new variable called `y` and assign the indexed #Passenger column. "
   ]
  },
  {
   "cell_type": "code",
   "execution_count": 11,
   "metadata": {},
   "outputs": [],
   "source": [
    "y=cigData['#CigSales']"
   ]
  },
  {
   "cell_type": "markdown",
   "metadata": {},
   "source": [
    "Check the type of our new variable. "
   ]
  },
  {
   "cell_type": "code",
   "execution_count": 12,
   "metadata": {
    "scrolled": true
   },
   "outputs": [
    {
     "data": {
      "text/plain": [
       "dtype('int64')"
      ]
     },
     "execution_count": 12,
     "metadata": {},
     "output_type": "execute_result"
    }
   ],
   "source": [
    "y.dtype"
   ]
  },
  {
   "cell_type": "markdown",
   "metadata": {},
   "source": [
    "### 2e. Getting summary statistics for `y`"
   ]
  },
  {
   "cell_type": "markdown",
   "metadata": {},
   "source": [
    "Get the summary statistics of our data here. "
   ]
  },
  {
   "cell_type": "code",
   "execution_count": 13,
   "metadata": {
    "scrolled": true
   },
   "outputs": [
    {
     "data": {
      "text/plain": [
       "count    1.440000e+02\n",
       "mean     2.802986e+07\n",
       "std      1.199663e+07\n",
       "min      1.040000e+07\n",
       "25%      1.800000e+07\n",
       "50%      2.655000e+07\n",
       "75%      3.605000e+07\n",
       "max      6.220000e+07\n",
       "Name: #CigSales, dtype: float64"
      ]
     },
     "execution_count": 13,
     "metadata": {},
     "output_type": "execute_result"
    }
   ],
   "source": [
    "y.describe()"
   ]
  },
  {
   "cell_type": "markdown",
   "metadata": {},
   "source": [
    "### 2f. Plotting `y`"
   ]
  },
  {
   "cell_type": "markdown",
   "metadata": {},
   "source": [
    "Try visualizing the data. A simple `matplotlib` plot should do the trick.  "
   ]
  },
  {
   "cell_type": "code",
   "execution_count": 14,
   "metadata": {},
   "outputs": [
    {
     "data": {
      "image/png": "[encoded data removed]",
      "text/plain": [
       "<Figure size 576x432 with 1 Axes>"
      ]
     },
     "metadata": {
      "needs_background": "light"
     },
     "output_type": "display_data"
    }
   ],
   "source": [
    "plt.subplots(figsize=(8,6))\n",
    "plt.plot(y)\n",
    "plt.title('Cigarette Sales')\n",
    "plt.ylabel('Packs Sold (Millions)')\n",
    "plt.xlabel('Year')\n",
    "plt.show()"
   ]
  },
  {
   "cell_type": "markdown",
   "metadata": {},
   "source": [
    "Observations: Yearly seasonality to the data. Trend upwards overtime. Hard to tell if seasonality has a bigger impact in the latter half of the graph, or its just due to the overall increase overtime, but the yearly swings get bigger. I hypothesize that cigarette sales are greater in the summer, when people are outside socializing more. "
   ]
  },
  {
   "cell_type": "markdown",
   "metadata": {},
   "source": [
    "## 3. Modelling \n",
    "### 3a. Decomposition\n",
    "What do you notice from the plot? Take at least `2` minutes to examine the plot, and write down everything you observe.  \n",
    "\n",
    "All done?\n",
    "\n",
    "We can see that, generally, there is a trend upwards in cigarette sales from at Cowboy Cigarettes. But there are also some striking - and perhaps unexpected - seasonal fluctuations. These seasonal fluctations come in a repeated pattern. Work out when these seasonal fluctuations are happening, and take 2 minutes to hypothesize on their cause here.\n",
    "\n",
    "What does it mean to *decompose* time series data? It means breaking that data into 3 components: \n",
    "\n",
    "1. **Trend**: The overall direction that the data is travelling in (like upwards or downwards)\n",
    "2. **Seasonality**: Cyclical patterns in the data \n",
    "3. **Noise**: The random variation in the data\n",
    "\n",
    "We can treat these components differently, depending on the question and what's appropriate in the context. They can either be added together in an *additive* model, or multiplied together in a *multiplicative* model. \n",
    "\n",
    "Make a coffee, take `5` minutes and read [this article](https://medium.com/@sigmundojr/seasonality-in-python-additive-or-multiplicative-model-d4b9cf1f48a7) and think about whether our data would conduce to an additive or multiplicative model here. Write your conclusion down just here: \n",
    "\n",
    "Multiplicative."
   ]
  },
  {
   "cell_type": "markdown",
   "metadata": {},
   "source": [
    "All done? Well, just on the basis of the plot above, it seems our Cowboy Cigarettes data is actually multiplicative. \n",
    "\n",
    "That's because, as time progresses, the general trend seems to be increasing *at a rate that's also increasing*. We also see that the seasonal fluctuations (the peaks and troughs) get bigger and bigger as time progresses.\n",
    "\n",
    "Now on the other hand, if the data were simply additive, we could expect the general trend to increase at a *steadily*, and a constant speed; and also for seasonal ups and downs not to increase or decrease in extent over time.\n",
    "\n",
    "Happily, we can use the `decompose()` function to quantify the component parts described above in our data."
   ]
  },
  {
   "cell_type": "code",
   "execution_count": 15,
   "metadata": {},
   "outputs": [
    {
     "data": {
      "image/png": "[encoded data removed]",
      "text/plain": [
       "<Figure size 576x720 with 4 Axes>"
      ]
     },
     "metadata": {
      "needs_background": "light"
     },
     "output_type": "display_data"
    }
   ],
   "source": [
    "decomposition = sm.tsa.seasonal_decompose(y, model=\"multiplicative\")\n",
    "# Plot the original data, the trend, the seasonality, and the residuals \n",
    "trend = decomposition.trend\n",
    "seasonal = decomposition.seasonal\n",
    "residual= decomposition.resid.dropna()\n",
    "\n",
    "# Plot the original data, the trend, the seasonality, and the residuals \n",
    "plt.subplots(figsize=(8,10))\n",
    "plt.subplot(4,1,1)\n",
    "plt.plot(y, label = 'Original')\n",
    "plt.legend(loc = 'best')\n",
    "plt.subplot(4,1,2)\n",
    "plt.plot(trend, label = 'Trend')\n",
    "plt.legend(loc = 'best')\n",
    "plt.subplot(4,1,3)\n",
    "plt.plot(seasonal, label = 'Seasonal')\n",
    "plt.legend(loc = 'best')\n",
    "plt.subplot(4,1,4)\n",
    "plt.plot(residual, label = 'Residuals')\n",
    "plt.legend(loc = 'best')\n",
    "plt.tight_layout()\n",
    "plt.show()"
   ]
  },
  {
   "cell_type": "markdown",
   "metadata": {},
   "source": [
    "### 3b. Testing for stationarity with KPSS\n",
    "As you know, when doing time series analysis we always have to check for stationarity. Imprecisely, a time series dataset is stationary just if its statistical features don't change over time. A little more precisely, a stationary time series dataset will have constant mean, variance, and covariance.\n",
    "\n",
    "There are many ways to test for stationarity, but one of the most common is the KPSS test. The Null hypothesis of this test is that the time series data in question is stationary; hence, if the *p*-value is less than the significance level (typically 0.05, but we decide) then we reject the Null and infer that the data is not stationary."
   ]
  },
  {
   "cell_type": "code",
   "execution_count": 16,
   "metadata": {
    "scrolled": true
   },
   "outputs": [
    {
     "data": {
      "text/plain": [
       "(1.052175011013511,\n",
       " 0.01,\n",
       " 14,\n",
       " {'10%': 0.347, '5%': 0.463, '2.5%': 0.574, '1%': 0.739})"
      ]
     },
     "execution_count": 16,
     "metadata": {},
     "output_type": "execute_result"
    }
   ],
   "source": [
    "from statsmodels.tsa.stattools import kpss\n",
    "kpss(y)"
   ]
  },
  {
   "cell_type": "markdown",
   "metadata": {},
   "source": [
    "Since our p-value is less than 0.05, we should reject the Null hypothesis and deduce the non-stationarity of our data. \n",
    "\n",
    "But our data need to be stationary! So we need to do some transforming."
   ]
  },
  {
   "cell_type": "markdown",
   "metadata": {},
   "source": [
    "### 3c. Making the data stationary \n",
    "Let's recall what it looks like. "
   ]
  },
  {
   "cell_type": "code",
   "execution_count": 17,
   "metadata": {},
   "outputs": [
    {
     "data": {
      "image/png": "[encoded data removed]",
      "text/plain": [
       "<Figure size 432x288 with 1 Axes>"
      ]
     },
     "metadata": {
      "needs_background": "light"
     },
     "output_type": "display_data"
    }
   ],
   "source": [
    "plt.plot(y)\n",
    "plt.title('Cigarette Sales')\n",
    "plt.ylabel('Packs Sold (Millions)')\n",
    "plt.xlabel('Year')\n",
    "plt.show()"
   ]
  },
  {
   "cell_type": "markdown",
   "metadata": {},
   "source": [
    "In our plot, we can see that both the mean and the variance *increase as time progresses*. At the moment, our data has neither a constant mean, nor a constant variance (the covariance, however, seems constant). \n",
    "\n",
    "One often  used way of getting rid of changing variance is to take the natural log of all the values in our dataset. Let's do this now. "
   ]
  },
  {
   "cell_type": "code",
   "execution_count": 18,
   "metadata": {},
   "outputs": [],
   "source": [
    "w=np.log(cigData)"
   ]
  },
  {
   "cell_type": "markdown",
   "metadata": {},
   "source": [
    "\n",
    "When you plot this, you can see how the variance in our data now remains contant over time."
   ]
  },
  {
   "cell_type": "code",
   "execution_count": 19,
   "metadata": {
    "scrolled": true
   },
   "outputs": [
    {
     "data": {
      "image/png": "[encoded data removed]",
      "text/plain": [
       "<Figure size 432x288 with 1 Axes>"
      ]
     },
     "metadata": {
      "needs_background": "light"
     },
     "output_type": "display_data"
    }
   ],
   "source": [
    "w=np.log(cigData)\n",
    "plt.plot(w)\n",
    "plt.title('Cigarette Sales - Stationary Variance')\n",
    "plt.ylabel('ln (Packs Sold (Millions))')\n",
    "plt.xlabel('Year')\n",
    "plt.show()"
   ]
  },
  {
   "cell_type": "markdown",
   "metadata": {},
   "source": [
    "We now have a constant variance, but we also need a constant mean.\n",
    "\n",
    "We can do this by *differencing* our data. We difference a time series dataset when we create a new time series comprising the difference between the values of our existing dataset.\n",
    "\n",
    "Python is powerful, and we can use the `diff()` function to do this. You'll notice there's one less value than our existing dataset (since we're taking the difference between the existing values)."
   ]
  },
  {
   "cell_type": "code",
   "execution_count": 20,
   "metadata": {
    "scrolled": true
   },
   "outputs": [
    {
     "data": {
      "image/png": "[encoded data removed]",
      "text/plain": [
       "<Figure size 432x288 with 1 Axes>"
      ]
     },
     "metadata": {
      "needs_background": "light"
     },
     "output_type": "display_data"
    }
   ],
   "source": [
    "z=w.diff()\n",
    "z.dropna(inplace=True)\n",
    "plt.plot(z)\n",
    "plt.title('Cigarette Sales - Stationary Mean & Variance')\n",
    "plt.ylabel('ln (Packs Sold (Millions))')\n",
    "plt.xlabel('Year')\n",
    "plt.show()"
   ]
  },
  {
   "cell_type": "code",
   "execution_count": 21,
   "metadata": {},
   "outputs": [
    {
     "name": "stdout",
     "output_type": "stream",
     "text": [
      "Null hypothesis (p>0.05) of this test is that the time series data in question is stationary. \n",
      "\n",
      "kpss stat: 0.10154458687402607\n",
      "p_value: 0.1\n"
     ]
    }
   ],
   "source": [
    "print(\"Null hypothesis (p>0.05) of this test is that the time series data in question is stationary. \\n\")\n",
    "kpss_stat, p_value, lags, crit= kpss(z)\n",
    "print(\"kpss stat: {}\".format(kpss_stat))\n",
    "print(\"p_value: {}\".format(p_value))"
   ]
  },
  {
   "cell_type": "markdown",
   "metadata": {},
   "source": [
    "Our p-value is now greater than 0.05, so we can accept the null hypothesis that our data is stationary."
   ]
  },
  {
   "cell_type": "code",
   "execution_count": 22,
   "metadata": {},
   "outputs": [
    {
     "data": {
      "image/png": "[encoded data removed]",
      "text/plain": [
       "<Figure size 432x288 with 1 Axes>"
      ]
     },
     "metadata": {
      "needs_background": "light"
     },
     "output_type": "display_data"
    }
   ],
   "source": [
    "from statsmodels.graphics.tsaplots import plot_acf\n",
    "returns = np.random.normal(loc=0.02, scale=0.05, size=1000)\n",
    "plot_acf(residual, lags=20)\n",
    "plt.show()"
   ]
  },
  {
   "cell_type": "code",
   "execution_count": 23,
   "metadata": {},
   "outputs": [
    {
     "name": "stdout",
     "output_type": "stream",
     "text": [
      "The p-value of the test on prices is: 0.07112054815085686\n"
     ]
    }
   ],
   "source": [
    "from statsmodels.tsa.stattools import adfuller\n",
    "results = adfuller(z)\n",
    "print('The p-value of the test on prices is: ' + str(results[1]))"
   ]
  },
  {
   "cell_type": "markdown",
   "metadata": {},
   "source": [
    "### 3d. The ARIMA model\n",
    "\n",
    "Recall that ARIMA models are based around the idea that it's possible to predict the next value in a time series by using information about the most recent data points. It also assumes there will be some randomness in our data that can't ever be predicted.\n",
    "\n",
    "We can find some good parameters for our model using the `sklearn` and `statsmodels` libraries, and in particular `mean_squared_error` and `ARIMA`. "
   ]
  },
  {
   "cell_type": "code",
   "execution_count": 24,
   "metadata": {},
   "outputs": [],
   "source": [
    "# Import mean_squared_error and ARIMA\n",
    "from sklearn.metrics import mean_squared_error\n",
    "from statsmodels.tsa.arima_model import ARIMA\n",
    "from statsmodels.tsa.statespace.sarimax import SARIMAX"
   ]
  },
  {
   "cell_type": "markdown",
   "metadata": {},
   "source": [
    "#### 3di. Make a function to find the MSE of a single ARIMA model\n",
    "Things get intricate here. Don't worry if you can't do this yourself and need to drop down a Tier. "
   ]
  },
  {
   "cell_type": "code",
   "execution_count": 25,
   "metadata": {},
   "outputs": [],
   "source": [
    "def evaluate_arima_model(data, arima_order):\n",
    "    split=int(len(data) * 0.8) \n",
    "    test, train = data[0:split], data[split:len(data)]\n",
    "    past=[x for x in train]\n",
    "    predictions= list()\n",
    "    for i in range(len(test)):\n",
    "        model = ARIMA(past, order=arima_order)\n",
    "        model_fit = model.fit(disp=0)\n",
    "        future = model_fit.forecast()[0]\n",
    "        predictions.append(future)\n",
    "        past.append(test[i])\n",
    "    error = mean_squared_error(test, predictions)\n",
    "    return error"
   ]
  },
  {
   "cell_type": "markdown",
   "metadata": {},
   "source": [
    "#### 3dii. Make a function to evaluate the different ARIMA models with different p, d, and q values"
   ]
  },
  {
   "cell_type": "code",
   "execution_count": 26,
   "metadata": {},
   "outputs": [],
   "source": [
    "def evaluate_models(dataset, p_values, d_values, q_values):\n",
    "    best_score, best_cfg = float(\"inf\"), None\n",
    "    for p in p_values:\n",
    "        for d in d_values:\n",
    "            for q in q_values:\n",
    "                order = (p,d,q)\n",
    "                try:\n",
    "                    mse = evaluate_arima_model(dataset, order)\n",
    "                    if mse < best_score:\n",
    "                        best_score, best_cfg = mse, order\n",
    "                    print('ARIMA%s MSE=%.3f' % (order,mse))\n",
    "                except:\n",
    "                    continue\n",
    "    return print('Best ARIMA%s MSE=%.3f' % (best_cfg, best_score))"
   ]
  },
  {
   "cell_type": "code",
   "execution_count": 27,
   "metadata": {
    "scrolled": false
   },
   "outputs": [
    {
     "name": "stdout",
     "output_type": "stream",
     "text": [
      "ARIMA(0, 1, 0) MSE=0.027\n",
      "ARIMA(0, 1, 1) MSE=0.029\n",
      "ARIMA(0, 1, 2) MSE=0.030\n",
      "ARIMA(1, 1, 0) MSE=0.028\n",
      "ARIMA(1, 1, 1) MSE=0.031\n",
      "ARIMA(2, 1, 0) MSE=0.034\n",
      "ARIMA(2, 1, 1) MSE=0.036\n",
      "ARIMA(2, 1, 2) MSE=0.035\n",
      "Best ARIMA(0, 1, 0) MSE=0.027\n"
     ]
    }
   ],
   "source": [
    "#Determine best model parameters\n",
    "p_values = [x for x in range(0, 3)]\n",
    "d_values = [1]\n",
    "q_values = [x for x in range(0, 3)]\n",
    "\n",
    "evaluate_models(w.values, p_values, d_values, q_values)"
   ]
  },
  {
   "cell_type": "markdown",
   "metadata": {},
   "source": [
    "So the best p,d, q, parameters for our ARIMA model are 2, 1, 1 respectively. Now we know this, we can build the model."
   ]
  },
  {
   "cell_type": "code",
   "execution_count": 28,
   "metadata": {},
   "outputs": [],
   "source": [
    "p=0\n",
    "d=1\n",
    "q=0\n",
    "model = ARIMA(w.values, order=(p,d,q))\n",
    "model_fit = model.fit()\n",
    "forecast = model_fit.forecast(24)"
   ]
  },
  {
   "cell_type": "markdown",
   "metadata": {},
   "source": [
    "We can take a look at a summary of the model this library has built around our data."
   ]
  },
  {
   "cell_type": "code",
   "execution_count": 29,
   "metadata": {
    "scrolled": false
   },
   "outputs": [
    {
     "data": {
      "text/html": [
       "<table class=\"simpletable\">\n",
       "<caption>ARIMA Model Results</caption>\n",
       "<tr>\n",
       "  <th>Dep. Variable:</th>        <td>D.y</td>       <th>  No. Observations:  </th>    <td>143</td>  \n",
       "</tr>\n",
       "<tr>\n",
       "  <th>Model:</th>          <td>ARIMA(0, 1, 0)</td>  <th>  Log Likelihood     </th>  <td>117.782</td>\n",
       "</tr>\n",
       "<tr>\n",
       "  <th>Method:</th>               <td>css</td>       <th>  S.D. of innovations</th>   <td>0.106</td> \n",
       "</tr>\n",
       "<tr>\n",
       "  <th>Date:</th>          <td>Thu, 27 May 2021</td> <th>  AIC                </th> <td>-231.565</td>\n",
       "</tr>\n",
       "<tr>\n",
       "  <th>Time:</th>              <td>17:44:00</td>     <th>  BIC                </th> <td>-225.639</td>\n",
       "</tr>\n",
       "<tr>\n",
       "  <th>Sample:</th>                <td>1</td>        <th>  HQIC               </th> <td>-229.157</td>\n",
       "</tr>\n",
       "<tr>\n",
       "  <th></th>                       <td> </td>        <th>                     </th>     <td> </td>   \n",
       "</tr>\n",
       "</table>\n",
       "<table class=\"simpletable\">\n",
       "<tr>\n",
       "    <td></td>       <th>coef</th>     <th>std err</th>      <th>z</th>      <th>P>|z|</th>  <th>[0.025</th>    <th>0.975]</th>  \n",
       "</tr>\n",
       "<tr>\n",
       "  <th>const</th> <td>    0.0094</td> <td>    0.009</td> <td>    1.063</td> <td> 0.288</td> <td>   -0.008</td> <td>    0.027</td>\n",
       "</tr>\n",
       "</table>"
      ],
      "text/plain": [
       "<class 'statsmodels.iolib.summary.Summary'>\n",
       "\"\"\"\n",
       "                             ARIMA Model Results                              \n",
       "==============================================================================\n",
       "Dep. Variable:                    D.y   No. Observations:                  143\n",
       "Model:                 ARIMA(0, 1, 0)   Log Likelihood                 117.782\n",
       "Method:                           css   S.D. of innovations              0.106\n",
       "Date:                Thu, 27 May 2021   AIC                           -231.565\n",
       "Time:                        17:44:00   BIC                           -225.639\n",
       "Sample:                             1   HQIC                          -229.157\n",
       "                                                                              \n",
       "==============================================================================\n",
       "                 coef    std err          z      P>|z|      [0.025      0.975]\n",
       "------------------------------------------------------------------------------\n",
       "const          0.0094      0.009      1.063      0.288      -0.008       0.027\n",
       "==============================================================================\n",
       "\"\"\""
      ]
     },
     "execution_count": 29,
     "metadata": {},
     "output_type": "execute_result"
    }
   ],
   "source": [
    "model_fit.summary()"
   ]
  },
  {
   "cell_type": "markdown",
   "metadata": {},
   "source": [
    "### 3e. Visualize the results \n",
    "\n",
    "Visualize the original dataset plotted against our model. "
   ]
  },
  {
   "cell_type": "code",
   "execution_count": 30,
   "metadata": {},
   "outputs": [],
   "source": [
    "pred_in_samp=model_fit.predict().cumsum()+w.iloc[0,0]\n",
    "pred_in_samp=pd.Series(pred_in_samp,index=w.index[0:-1])\n",
    "pred_out_samp_index=pd.date_range(start=w.index[-1],periods=24,freq='M')\n",
    "pred_out_samp=pd.DataFrame(forecast[0],index=pred_out_samp_index,columns=['Forecast'])\n",
    "pred_out_samp['STD']=list(forecast[1])"
   ]
  },
  {
   "cell_type": "code",
   "execution_count": 134,
   "metadata": {},
   "outputs": [
    {
     "data": {
      "image/png": "[encoded data removed]",
      "text/plain": [
       "<Figure size 1080x720 with 1 Axes>"
      ]
     },
     "metadata": {
      "needs_background": "light"
     },
     "output_type": "display_data"
    }
   ],
   "source": [
    "plt.subplots(figsize=(15,10))\n",
    "plt.plot(w,label='Data')\n",
    "plt.plot(pred_in_samp, color = 'red',label='In-Sample Prediction')\n",
    "plt.plot(pred_out_samp.Forecast,color='purple',label='Out of Sample Forecast')\n",
    "plt.fill_between(pred_out_samp.index,pred_out_samp.Forecast+pred_out_samp.STD,pred_out_samp.Forecast-pred_out_samp.STD,alpha=0.5)\n",
    "plt.legend()\n",
    "plt.title('2 Year Prediction of Cigarette Sales, ARIMA Model')\n",
    "plt.show()"
   ]
  },
  {
   "cell_type": "markdown",
   "metadata": {},
   "source": [
    "The model with the lowest MSE is not complex enough - it is only a linear regression, because it is of ARMA order (0,0). Perhaps accounting for seasonal changes with SARIMAX would be better suited. "
   ]
  },
  {
   "cell_type": "code",
   "execution_count": 32,
   "metadata": {},
   "outputs": [],
   "source": [
    "#!pip install pmdarima --user"
   ]
  },
  {
   "cell_type": "code",
   "execution_count": 33,
   "metadata": {},
   "outputs": [],
   "source": [
    "def evaluate_sarimax_model(data, order, seasonal_order):\n",
    "    split=int(len(data) * 0.8) \n",
    "    test, train = data[0:split], data[split:len(data)]\n",
    "    past=[x for x in train]\n",
    "    predictions= list()\n",
    "    for i in range(len(test)):\n",
    "        model = SARIMAX(past, order=order,seasonal_order=seasonal_order)\n",
    "        model_fit = model.fit(disp=0)\n",
    "        future = model_fit.forecast()[0]\n",
    "        predictions.append(future)\n",
    "        past.append(test[i])\n",
    "    error = mean_squared_error(test, predictions)\n",
    "    return error"
   ]
  },
  {
   "cell_type": "code",
   "execution_count": 34,
   "metadata": {},
   "outputs": [],
   "source": [
    "def evaluate_models_sarimax(dataset, p_values, d_values, q_values, p2, d2, q2, s):\n",
    "    best_score, best_cfg1, best_cfg2 = float(\"inf\"), None, None\n",
    "    mse={}\n",
    "    for p in p_values:\n",
    "        for d in d_values:\n",
    "            for q in q_values:\n",
    "                    for p_ in p2:\n",
    "                        for d_ in d2:\n",
    "                            for q_ in q2:\n",
    "                                order = (p,d,q)\n",
    "                                order2= (p_,d_,q_,s)\n",
    "                                try:\n",
    "                                    mse = evaluate_sarimax_model(dataset, order, order2)\n",
    "                                    if mse < best_score:\n",
    "                                        best_score, best_cfg1, best_cfg2 = mse, order, order2\n",
    "                                    print('Order%s Seasonal_Order%s MSE=%.3f' % (order,order2,mse))\n",
    "                                except:\n",
    "                                    continue\n",
    "    return print('Best Order%s Seasonal_Order%s MSE=%.3f' % (best_cfg1, best_cfg2, best_score))"
   ]
  },
  {
   "cell_type": "code",
   "execution_count": 36,
   "metadata": {},
   "outputs": [
    {
     "name": "stdout",
     "output_type": "stream",
     "text": [
      "Order(0, 1, 0) Seasonal_Order(0, 0, 0, 12) MSE=0.027\n",
      "Order(0, 1, 0) Seasonal_Order(0, 0, 1, 12) MSE=0.025\n",
      "Order(0, 1, 0) Seasonal_Order(0, 1, 0, 12) MSE=0.034\n",
      "Order(0, 1, 0) Seasonal_Order(0, 1, 1, 12) MSE=0.039\n",
      "Order(0, 1, 0) Seasonal_Order(1, 0, 0, 12) MSE=0.024\n",
      "Order(0, 1, 0) Seasonal_Order(1, 0, 1, 12) MSE=0.022\n",
      "Order(0, 1, 0) Seasonal_Order(1, 1, 0, 12) MSE=0.042\n",
      "Order(0, 1, 0) Seasonal_Order(1, 1, 1, 12) MSE=0.040\n",
      "Order(0, 1, 0) Seasonal_Order(2, 0, 0, 12) MSE=0.024\n",
      "Order(0, 1, 0) Seasonal_Order(2, 0, 1, 12) MSE=0.023\n",
      "Order(0, 1, 0) Seasonal_Order(2, 1, 0, 12) MSE=0.051\n",
      "Order(0, 1, 0) Seasonal_Order(2, 1, 1, 12) MSE=0.055\n",
      "Order(0, 1, 1) Seasonal_Order(0, 0, 0, 12) MSE=0.028\n",
      "Order(0, 1, 1) Seasonal_Order(0, 0, 1, 12) MSE=0.025\n",
      "Order(0, 1, 1) Seasonal_Order(0, 1, 0, 12) MSE=0.035\n",
      "Order(0, 1, 1) Seasonal_Order(0, 1, 1, 12) MSE=0.039\n",
      "Order(0, 1, 1) Seasonal_Order(1, 0, 0, 12) MSE=0.024\n",
      "Order(0, 1, 1) Seasonal_Order(1, 0, 1, 12) MSE=0.022\n",
      "Order(0, 1, 1) Seasonal_Order(1, 1, 0, 12) MSE=0.042\n",
      "Order(0, 1, 1) Seasonal_Order(1, 1, 1, 12) MSE=0.040\n",
      "Order(0, 1, 1) Seasonal_Order(2, 0, 0, 12) MSE=0.024\n",
      "Order(0, 1, 1) Seasonal_Order(2, 0, 1, 12) MSE=0.023\n",
      "Order(0, 1, 1) Seasonal_Order(2, 1, 0, 12) MSE=0.051\n",
      "Order(0, 1, 1) Seasonal_Order(2, 1, 1, 12) MSE=0.055\n",
      "Order(1, 1, 0) Seasonal_Order(0, 0, 0, 12) MSE=0.027\n",
      "Order(1, 1, 0) Seasonal_Order(0, 0, 1, 12) MSE=0.025\n",
      "Order(1, 1, 0) Seasonal_Order(0, 1, 0, 12) MSE=0.034\n",
      "Order(1, 1, 0) Seasonal_Order(0, 1, 1, 12) MSE=0.039\n",
      "Order(1, 1, 0) Seasonal_Order(1, 0, 0, 12) MSE=0.024\n",
      "Order(1, 1, 0) Seasonal_Order(1, 0, 1, 12) MSE=0.022\n",
      "Order(1, 1, 0) Seasonal_Order(1, 1, 0, 12) MSE=0.042\n",
      "Order(1, 1, 0) Seasonal_Order(1, 1, 1, 12) MSE=0.039\n",
      "Order(1, 1, 0) Seasonal_Order(2, 0, 0, 12) MSE=0.024\n",
      "Order(1, 1, 0) Seasonal_Order(2, 0, 1, 12) MSE=0.023\n",
      "Order(1, 1, 0) Seasonal_Order(2, 1, 0, 12) MSE=0.051\n",
      "Order(1, 1, 0) Seasonal_Order(2, 1, 1, 12) MSE=0.055\n",
      "Order(1, 1, 1) Seasonal_Order(0, 0, 0, 12) MSE=0.029\n",
      "Order(1, 1, 1) Seasonal_Order(0, 0, 1, 12) MSE=0.026\n",
      "Order(1, 1, 1) Seasonal_Order(0, 1, 0, 12) MSE=0.035\n",
      "Order(1, 1, 1) Seasonal_Order(0, 1, 1, 12) MSE=0.039\n",
      "Order(1, 1, 1) Seasonal_Order(1, 0, 0, 12) MSE=0.025\n",
      "Order(1, 1, 1) Seasonal_Order(1, 0, 1, 12) MSE=0.023\n",
      "Order(1, 1, 1) Seasonal_Order(1, 1, 0, 12) MSE=0.042\n",
      "Order(1, 1, 1) Seasonal_Order(1, 1, 1, 12) MSE=0.040\n",
      "Order(1, 1, 1) Seasonal_Order(2, 0, 0, 12) MSE=0.025\n",
      "Order(1, 1, 1) Seasonal_Order(2, 0, 1, 12) MSE=0.024\n",
      "Order(1, 1, 1) Seasonal_Order(2, 1, 0, 12) MSE=0.051\n",
      "Order(1, 1, 1) Seasonal_Order(2, 1, 1, 12) MSE=0.055\n",
      "Order(2, 1, 0) Seasonal_Order(0, 0, 0, 12) MSE=0.033\n",
      "Order(2, 1, 0) Seasonal_Order(0, 0, 1, 12) MSE=0.030\n",
      "Order(2, 1, 0) Seasonal_Order(0, 1, 0, 12) MSE=0.036\n",
      "Order(2, 1, 0) Seasonal_Order(0, 1, 1, 12) MSE=0.040\n",
      "Order(2, 1, 0) Seasonal_Order(1, 0, 0, 12) MSE=0.029\n",
      "Order(2, 1, 0) Seasonal_Order(1, 0, 1, 12) MSE=0.029\n",
      "Order(2, 1, 0) Seasonal_Order(1, 1, 0, 12) MSE=0.044\n",
      "Order(2, 1, 0) Seasonal_Order(1, 1, 1, 12) MSE=0.041\n",
      "Order(2, 1, 0) Seasonal_Order(2, 0, 1, 12) MSE=0.029\n",
      "Order(2, 1, 0) Seasonal_Order(2, 1, 0, 12) MSE=0.053\n",
      "Order(2, 1, 1) Seasonal_Order(0, 0, 0, 12) MSE=0.033\n",
      "Order(2, 1, 1) Seasonal_Order(0, 0, 1, 12) MSE=0.030\n",
      "Order(2, 1, 1) Seasonal_Order(0, 1, 0, 12) MSE=0.037\n",
      "Order(2, 1, 1) Seasonal_Order(0, 1, 1, 12) MSE=0.041\n",
      "Order(2, 1, 1) Seasonal_Order(1, 0, 0, 12) MSE=0.029\n",
      "Order(2, 1, 1) Seasonal_Order(1, 0, 1, 12) MSE=0.028\n",
      "Order(2, 1, 1) Seasonal_Order(1, 1, 0, 12) MSE=0.044\n",
      "Order(2, 1, 1) Seasonal_Order(1, 1, 1, 12) MSE=0.042\n",
      "Order(2, 1, 1) Seasonal_Order(2, 0, 0, 12) MSE=0.030\n",
      "Order(2, 1, 1) Seasonal_Order(2, 0, 1, 12) MSE=0.029\n",
      "Order(2, 1, 1) Seasonal_Order(2, 1, 0, 12) MSE=0.053\n",
      "Order(2, 1, 1) Seasonal_Order(2, 1, 1, 12) MSE=0.056\n",
      "Best Order(1, 1, 0) Seasonal_Order(1, 0, 1, 12) MSE=0.022\n"
     ]
    }
   ],
   "source": [
    "#Determine best model parameters\n",
    "p_values = [x for x in range(0, 3)]\n",
    "d_values = [x for x in range(0, 2)]\n",
    "q_values = [x for x in range(0, 2)]\n",
    "\n",
    "d=[1]\n",
    "s=12\n",
    "\n",
    "evaluate_models_sarimax(w.values, p_values, d, q_values, p_values, d_values, q_values, s=12)"
   ]
  },
  {
   "cell_type": "markdown",
   "metadata": {},
   "source": [
    "We can take a look at a summary of the model this library has built around our data."
   ]
  },
  {
   "cell_type": "code",
   "execution_count": 39,
   "metadata": {
    "scrolled": false
   },
   "outputs": [
    {
     "data": {
      "text/html": [
       "<table class=\"simpletable\">\n",
       "<caption>SARIMAX Results</caption>\n",
       "<tr>\n",
       "  <th>Dep. Variable:</th>                   <td>y</td>                <th>  No. Observations:  </th>    <td>144</td>  \n",
       "</tr>\n",
       "<tr>\n",
       "  <th>Model:</th>           <td>SARIMAX(1, 1, 0)x(1, 0, [1], 12)</td> <th>  Log Likelihood     </th>  <td>252.936</td>\n",
       "</tr>\n",
       "<tr>\n",
       "  <th>Date:</th>                    <td>Thu, 27 May 2021</td>         <th>  AIC                </th> <td>-497.871</td>\n",
       "</tr>\n",
       "<tr>\n",
       "  <th>Time:</th>                        <td>18:56:20</td>             <th>  BIC                </th> <td>-486.020</td>\n",
       "</tr>\n",
       "<tr>\n",
       "  <th>Sample:</th>                          <td>0</td>                <th>  HQIC               </th> <td>-493.055</td>\n",
       "</tr>\n",
       "<tr>\n",
       "  <th></th>                              <td> - 144</td>              <th>                     </th>     <td> </td>   \n",
       "</tr>\n",
       "<tr>\n",
       "  <th>Covariance Type:</th>                <td>opg</td>               <th>                     </th>     <td> </td>   \n",
       "</tr>\n",
       "</table>\n",
       "<table class=\"simpletable\">\n",
       "<tr>\n",
       "      <td></td>        <th>coef</th>     <th>std err</th>      <th>z</th>      <th>P>|z|</th>  <th>[0.025</th>    <th>0.975]</th>  \n",
       "</tr>\n",
       "<tr>\n",
       "  <th>ar.L1</th>    <td>   -0.3014</td> <td>    0.068</td> <td>   -4.424</td> <td> 0.000</td> <td>   -0.435</td> <td>   -0.168</td>\n",
       "</tr>\n",
       "<tr>\n",
       "  <th>ar.S.L12</th> <td>    0.9898</td> <td>    0.008</td> <td>  122.198</td> <td> 0.000</td> <td>    0.974</td> <td>    1.006</td>\n",
       "</tr>\n",
       "<tr>\n",
       "  <th>ma.S.L12</th> <td>   -0.5593</td> <td>    0.098</td> <td>   -5.698</td> <td> 0.000</td> <td>   -0.752</td> <td>   -0.367</td>\n",
       "</tr>\n",
       "<tr>\n",
       "  <th>sigma2</th>   <td>    0.0014</td> <td>    0.000</td> <td>    8.724</td> <td> 0.000</td> <td>    0.001</td> <td>    0.002</td>\n",
       "</tr>\n",
       "</table>\n",
       "<table class=\"simpletable\">\n",
       "<tr>\n",
       "  <th>Ljung-Box (L1) (Q):</th>     <td>0.02</td> <th>  Jarque-Bera (JB):  </th> <td>0.75</td>\n",
       "</tr>\n",
       "<tr>\n",
       "  <th>Prob(Q):</th>                <td>0.88</td> <th>  Prob(JB):          </th> <td>0.69</td>\n",
       "</tr>\n",
       "<tr>\n",
       "  <th>Heteroskedasticity (H):</th> <td>0.64</td> <th>  Skew:              </th> <td>0.08</td>\n",
       "</tr>\n",
       "<tr>\n",
       "  <th>Prob(H) (two-sided):</th>    <td>0.12</td> <th>  Kurtosis:          </th> <td>3.32</td>\n",
       "</tr>\n",
       "</table><br/><br/>Warnings:<br/>[1] Covariance matrix calculated using the outer product of gradients (complex-step)."
      ],
      "text/plain": [
       "<class 'statsmodels.iolib.summary.Summary'>\n",
       "\"\"\"\n",
       "                                      SARIMAX Results                                       \n",
       "============================================================================================\n",
       "Dep. Variable:                                    y   No. Observations:                  144\n",
       "Model:             SARIMAX(1, 1, 0)x(1, 0, [1], 12)   Log Likelihood                 252.936\n",
       "Date:                              Thu, 27 May 2021   AIC                           -497.871\n",
       "Time:                                      18:56:20   BIC                           -486.020\n",
       "Sample:                                           0   HQIC                          -493.055\n",
       "                                              - 144                                         \n",
       "Covariance Type:                                opg                                         \n",
       "==============================================================================\n",
       "                 coef    std err          z      P>|z|      [0.025      0.975]\n",
       "------------------------------------------------------------------------------\n",
       "ar.L1         -0.3014      0.068     -4.424      0.000      -0.435      -0.168\n",
       "ar.S.L12       0.9898      0.008    122.198      0.000       0.974       1.006\n",
       "ma.S.L12      -0.5593      0.098     -5.698      0.000      -0.752      -0.367\n",
       "sigma2         0.0014      0.000      8.724      0.000       0.001       0.002\n",
       "===================================================================================\n",
       "Ljung-Box (L1) (Q):                   0.02   Jarque-Bera (JB):                 0.75\n",
       "Prob(Q):                              0.88   Prob(JB):                         0.69\n",
       "Heteroskedasticity (H):               0.64   Skew:                             0.08\n",
       "Prob(H) (two-sided):                  0.12   Kurtosis:                         3.32\n",
       "===================================================================================\n",
       "\n",
       "Warnings:\n",
       "[1] Covariance matrix calculated using the outer product of gradients (complex-step).\n",
       "\"\"\""
      ]
     },
     "execution_count": 39,
     "metadata": {},
     "output_type": "execute_result"
    }
   ],
   "source": [
    "model_fit2.summary()"
   ]
  },
  {
   "cell_type": "markdown",
   "metadata": {},
   "source": [
    "### 3e. Visualize the results \n",
    "\n",
    "Visualize the original dataset plotted against our model. "
   ]
  },
  {
   "cell_type": "code",
   "execution_count": 77,
   "metadata": {},
   "outputs": [],
   "source": [
    "pred_in_samp2=model_fit2.predict()[1:]\n",
    "pred_in_samp2=pd.Series(pred_in_samp2,index=w.index[1:])"
   ]
  },
  {
   "cell_type": "code",
   "execution_count": 128,
   "metadata": {},
   "outputs": [
    {
     "data": {
      "text/html": [
       "<div>\n",
       "<style scoped>\n",
       "    .dataframe tbody tr th:only-of-type {\n",
       "        vertical-align: middle;\n",
       "    }\n",
       "\n",
       "    .dataframe tbody tr th {\n",
       "        vertical-align: top;\n",
       "    }\n",
       "\n",
       "    .dataframe thead th {\n",
       "        text-align: right;\n",
       "    }\n",
       "</style>\n",
       "<table border=\"1\" class=\"dataframe\">\n",
       "  <thead>\n",
       "    <tr style=\"text-align: right;\">\n",
       "      <th>y</th>\n",
       "      <th>mean</th>\n",
       "      <th>mean_se</th>\n",
       "      <th>mean_ci_lower</th>\n",
       "      <th>mean_ci_upper</th>\n",
       "    </tr>\n",
       "  </thead>\n",
       "  <tbody>\n",
       "    <tr>\n",
       "      <th>1960-12-31</th>\n",
       "      <td>17.616727</td>\n",
       "      <td>0.036901</td>\n",
       "      <td>17.544403</td>\n",
       "      <td>17.689052</td>\n",
       "    </tr>\n",
       "    <tr>\n",
       "      <th>1961-01-31</th>\n",
       "      <td>17.561557</td>\n",
       "      <td>0.045014</td>\n",
       "      <td>17.473330</td>\n",
       "      <td>17.649784</td>\n",
       "    </tr>\n",
       "    <tr>\n",
       "      <th>1961-02-28</th>\n",
       "      <td>17.676976</td>\n",
       "      <td>0.053619</td>\n",
       "      <td>17.571885</td>\n",
       "      <td>17.782066</td>\n",
       "    </tr>\n",
       "    <tr>\n",
       "      <th>1961-03-31</th>\n",
       "      <td>17.703637</td>\n",
       "      <td>0.060546</td>\n",
       "      <td>17.584969</td>\n",
       "      <td>17.822304</td>\n",
       "    </tr>\n",
       "    <tr>\n",
       "      <th>1961-04-30</th>\n",
       "      <td>17.736094</td>\n",
       "      <td>0.066887</td>\n",
       "      <td>17.604999</td>\n",
       "      <td>17.867189</td>\n",
       "    </tr>\n",
       "    <tr>\n",
       "      <th>1961-05-31</th>\n",
       "      <td>17.869212</td>\n",
       "      <td>0.072641</td>\n",
       "      <td>17.726839</td>\n",
       "      <td>18.011584</td>\n",
       "    </tr>\n",
       "    <tr>\n",
       "      <th>1961-06-30</th>\n",
       "      <td>18.004401</td>\n",
       "      <td>0.077981</td>\n",
       "      <td>17.851561</td>\n",
       "      <td>18.157241</td>\n",
       "    </tr>\n",
       "    <tr>\n",
       "      <th>1961-07-31</th>\n",
       "      <td>18.000160</td>\n",
       "      <td>0.082976</td>\n",
       "      <td>17.837530</td>\n",
       "      <td>18.162789</td>\n",
       "    </tr>\n",
       "    <tr>\n",
       "      <th>1961-08-31</th>\n",
       "      <td>17.826188</td>\n",
       "      <td>0.087687</td>\n",
       "      <td>17.654324</td>\n",
       "      <td>17.998052</td>\n",
       "    </tr>\n",
       "    <tr>\n",
       "      <th>1961-09-30</th>\n",
       "      <td>17.713107</td>\n",
       "      <td>0.092158</td>\n",
       "      <td>17.532481</td>\n",
       "      <td>17.893733</td>\n",
       "    </tr>\n",
       "    <tr>\n",
       "      <th>1961-10-31</th>\n",
       "      <td>17.571049</td>\n",
       "      <td>0.096421</td>\n",
       "      <td>17.382066</td>\n",
       "      <td>17.760031</td>\n",
       "    </tr>\n",
       "    <tr>\n",
       "      <th>1961-11-30</th>\n",
       "      <td>17.673185</td>\n",
       "      <td>0.100504</td>\n",
       "      <td>17.476201</td>\n",
       "      <td>17.870170</td>\n",
       "    </tr>\n",
       "    <tr>\n",
       "      <th>1961-12-31</th>\n",
       "      <td>17.707926</td>\n",
       "      <td>0.109811</td>\n",
       "      <td>17.492702</td>\n",
       "      <td>17.923151</td>\n",
       "    </tr>\n",
       "    <tr>\n",
       "      <th>1962-01-31</th>\n",
       "      <td>17.653403</td>\n",
       "      <td>0.116683</td>\n",
       "      <td>17.424709</td>\n",
       "      <td>17.882098</td>\n",
       "    </tr>\n",
       "    <tr>\n",
       "      <th>1962-02-28</th>\n",
       "      <td>17.767615</td>\n",
       "      <td>0.123642</td>\n",
       "      <td>17.525281</td>\n",
       "      <td>18.009949</td>\n",
       "    </tr>\n",
       "    <tr>\n",
       "      <th>1962-03-31</th>\n",
       "      <td>17.794010</td>\n",
       "      <td>0.130094</td>\n",
       "      <td>17.539030</td>\n",
       "      <td>18.048990</td>\n",
       "    </tr>\n",
       "    <tr>\n",
       "      <th>1962-04-30</th>\n",
       "      <td>17.826132</td>\n",
       "      <td>0.136280</td>\n",
       "      <td>17.559029</td>\n",
       "      <td>18.093236</td>\n",
       "    </tr>\n",
       "    <tr>\n",
       "      <th>1962-05-31</th>\n",
       "      <td>17.957887</td>\n",
       "      <td>0.142186</td>\n",
       "      <td>17.679208</td>\n",
       "      <td>18.236565</td>\n",
       "    </tr>\n",
       "    <tr>\n",
       "      <th>1962-06-30</th>\n",
       "      <td>18.091690</td>\n",
       "      <td>0.147859</td>\n",
       "      <td>17.801892</td>\n",
       "      <td>18.381488</td>\n",
       "    </tr>\n",
       "    <tr>\n",
       "      <th>1962-07-31</th>\n",
       "      <td>18.087493</td>\n",
       "      <td>0.153321</td>\n",
       "      <td>17.786989</td>\n",
       "      <td>18.387997</td>\n",
       "    </tr>\n",
       "    <tr>\n",
       "      <th>1962-08-31</th>\n",
       "      <td>17.915304</td>\n",
       "      <td>0.158596</td>\n",
       "      <td>17.604461</td>\n",
       "      <td>18.226146</td>\n",
       "    </tr>\n",
       "    <tr>\n",
       "      <th>1962-09-30</th>\n",
       "      <td>17.803382</td>\n",
       "      <td>0.163701</td>\n",
       "      <td>17.482534</td>\n",
       "      <td>18.124230</td>\n",
       "    </tr>\n",
       "    <tr>\n",
       "      <th>1962-10-31</th>\n",
       "      <td>17.662779</td>\n",
       "      <td>0.168651</td>\n",
       "      <td>17.332229</td>\n",
       "      <td>17.993329</td>\n",
       "    </tr>\n",
       "    <tr>\n",
       "      <th>1962-11-30</th>\n",
       "      <td>17.763869</td>\n",
       "      <td>0.173460</td>\n",
       "      <td>17.423893</td>\n",
       "      <td>18.103845</td>\n",
       "    </tr>\n",
       "  </tbody>\n",
       "</table>\n",
       "</div>"
      ],
      "text/plain": [
       "y                mean   mean_se  mean_ci_lower  mean_ci_upper\n",
       "1960-12-31  17.616727  0.036901      17.544403      17.689052\n",
       "1961-01-31  17.561557  0.045014      17.473330      17.649784\n",
       "1961-02-28  17.676976  0.053619      17.571885      17.782066\n",
       "1961-03-31  17.703637  0.060546      17.584969      17.822304\n",
       "1961-04-30  17.736094  0.066887      17.604999      17.867189\n",
       "1961-05-31  17.869212  0.072641      17.726839      18.011584\n",
       "1961-06-30  18.004401  0.077981      17.851561      18.157241\n",
       "1961-07-31  18.000160  0.082976      17.837530      18.162789\n",
       "1961-08-31  17.826188  0.087687      17.654324      17.998052\n",
       "1961-09-30  17.713107  0.092158      17.532481      17.893733\n",
       "1961-10-31  17.571049  0.096421      17.382066      17.760031\n",
       "1961-11-30  17.673185  0.100504      17.476201      17.870170\n",
       "1961-12-31  17.707926  0.109811      17.492702      17.923151\n",
       "1962-01-31  17.653403  0.116683      17.424709      17.882098\n",
       "1962-02-28  17.767615  0.123642      17.525281      18.009949\n",
       "1962-03-31  17.794010  0.130094      17.539030      18.048990\n",
       "1962-04-30  17.826132  0.136280      17.559029      18.093236\n",
       "1962-05-31  17.957887  0.142186      17.679208      18.236565\n",
       "1962-06-30  18.091690  0.147859      17.801892      18.381488\n",
       "1962-07-31  18.087493  0.153321      17.786989      18.387997\n",
       "1962-08-31  17.915304  0.158596      17.604461      18.226146\n",
       "1962-09-30  17.803382  0.163701      17.482534      18.124230\n",
       "1962-10-31  17.662779  0.168651      17.332229      17.993329\n",
       "1962-11-30  17.763869  0.173460      17.423893      18.103845"
      ]
     },
     "execution_count": 128,
     "metadata": {},
     "output_type": "execute_result"
    }
   ],
   "source": [
    "pred_out_samp_index=pd.date_range(start=w.index[-1],periods=24,freq='M')\n",
    "df_res=model_fit2.get_forecast(steps=24).summary_frame()\n",
    "df_res=df_res.set_index(pd.date_range(start='1960-12-31',periods=24,freq='M'))\n",
    "df_res"
   ]
  },
  {
   "cell_type": "code",
   "execution_count": 133,
   "metadata": {},
   "outputs": [
    {
     "data": {
      "image/png": "[encoded data removed]",
      "text/plain": [
       "<Figure size 1080x720 with 1 Axes>"
      ]
     },
     "metadata": {
      "needs_background": "light"
     },
     "output_type": "display_data"
    }
   ],
   "source": [
    "plt.subplots(figsize=(15,10))\n",
    "plt.plot(w,label='Data')\n",
    "plt.plot(pred_in_samp2, color = 'red',label='In-Sample Prediction')\n",
    "#Get the last point from the data \n",
    "r=w.rename(columns={'#CigSales':'mean'}).iloc[[-1]]\n",
    "#Add the last point from the data to the prediction plot for continuity \n",
    "plt.plot(pd.concat([r,df_res[['mean']]]),color='purple',label=' Forecast')\n",
    "plt.fill_between(df_res.index,df_res['mean'], df_res['mean_ci_lower'],color='blue',alpha=0.2)\n",
    "plt.fill_between(df_res.index,df_res['mean'], df_res['mean_ci_upper'],color='blue',alpha=0.2)\n",
    "plt.legend()\n",
    "plt.title('2 Year Prediction of Cigarette Sales, SARIMAX Model')\n",
    "plt.show()"
   ]
  },
  {
   "cell_type": "markdown",
   "metadata": {},
   "source": [
    "Just for fun, what happens if we try to predict 10 years ahead?"
   ]
  },
  {
   "cell_type": "code",
   "execution_count": 77,
   "metadata": {},
   "outputs": [],
   "source": [
    "pred_in_samp2=model_fit2.predict()[1:]\n",
    "pred_in_samp2=pd.Series(pred_in_samp2,index=w.index[1:])"
   ]
  },
  {
   "cell_type": "code",
   "execution_count": 130,
   "metadata": {},
   "outputs": [
    {
     "data": {
      "text/html": [
       "<div>\n",
       "<style scoped>\n",
       "    .dataframe tbody tr th:only-of-type {\n",
       "        vertical-align: middle;\n",
       "    }\n",
       "\n",
       "    .dataframe tbody tr th {\n",
       "        vertical-align: top;\n",
       "    }\n",
       "\n",
       "    .dataframe thead th {\n",
       "        text-align: right;\n",
       "    }\n",
       "</style>\n",
       "<table border=\"1\" class=\"dataframe\">\n",
       "  <thead>\n",
       "    <tr style=\"text-align: right;\">\n",
       "      <th>y</th>\n",
       "      <th>mean</th>\n",
       "      <th>mean_se</th>\n",
       "      <th>mean_ci_lower</th>\n",
       "      <th>mean_ci_upper</th>\n",
       "    </tr>\n",
       "  </thead>\n",
       "  <tbody>\n",
       "    <tr>\n",
       "      <th>1960-12-31</th>\n",
       "      <td>17.616727</td>\n",
       "      <td>0.036901</td>\n",
       "      <td>17.544403</td>\n",
       "      <td>17.689052</td>\n",
       "    </tr>\n",
       "    <tr>\n",
       "      <th>1961-01-31</th>\n",
       "      <td>17.561557</td>\n",
       "      <td>0.045014</td>\n",
       "      <td>17.473330</td>\n",
       "      <td>17.649784</td>\n",
       "    </tr>\n",
       "    <tr>\n",
       "      <th>1961-02-28</th>\n",
       "      <td>17.676976</td>\n",
       "      <td>0.053619</td>\n",
       "      <td>17.571885</td>\n",
       "      <td>17.782066</td>\n",
       "    </tr>\n",
       "    <tr>\n",
       "      <th>1961-03-31</th>\n",
       "      <td>17.703637</td>\n",
       "      <td>0.060546</td>\n",
       "      <td>17.584969</td>\n",
       "      <td>17.822304</td>\n",
       "    </tr>\n",
       "    <tr>\n",
       "      <th>1961-04-30</th>\n",
       "      <td>17.736094</td>\n",
       "      <td>0.066887</td>\n",
       "      <td>17.604999</td>\n",
       "      <td>17.867189</td>\n",
       "    </tr>\n",
       "    <tr>\n",
       "      <th>1961-05-31</th>\n",
       "      <td>17.869212</td>\n",
       "      <td>0.072641</td>\n",
       "      <td>17.726839</td>\n",
       "      <td>18.011584</td>\n",
       "    </tr>\n",
       "    <tr>\n",
       "      <th>1961-06-30</th>\n",
       "      <td>18.004401</td>\n",
       "      <td>0.077981</td>\n",
       "      <td>17.851561</td>\n",
       "      <td>18.157241</td>\n",
       "    </tr>\n",
       "    <tr>\n",
       "      <th>1961-07-31</th>\n",
       "      <td>18.000160</td>\n",
       "      <td>0.082976</td>\n",
       "      <td>17.837530</td>\n",
       "      <td>18.162789</td>\n",
       "    </tr>\n",
       "    <tr>\n",
       "      <th>1961-08-31</th>\n",
       "      <td>17.826188</td>\n",
       "      <td>0.087687</td>\n",
       "      <td>17.654324</td>\n",
       "      <td>17.998052</td>\n",
       "    </tr>\n",
       "    <tr>\n",
       "      <th>1961-09-30</th>\n",
       "      <td>17.713107</td>\n",
       "      <td>0.092158</td>\n",
       "      <td>17.532481</td>\n",
       "      <td>17.893733</td>\n",
       "    </tr>\n",
       "    <tr>\n",
       "      <th>1961-10-31</th>\n",
       "      <td>17.571049</td>\n",
       "      <td>0.096421</td>\n",
       "      <td>17.382066</td>\n",
       "      <td>17.760031</td>\n",
       "    </tr>\n",
       "    <tr>\n",
       "      <th>1961-11-30</th>\n",
       "      <td>17.673185</td>\n",
       "      <td>0.100504</td>\n",
       "      <td>17.476201</td>\n",
       "      <td>17.870170</td>\n",
       "    </tr>\n",
       "    <tr>\n",
       "      <th>1961-12-31</th>\n",
       "      <td>17.707926</td>\n",
       "      <td>0.109811</td>\n",
       "      <td>17.492702</td>\n",
       "      <td>17.923151</td>\n",
       "    </tr>\n",
       "    <tr>\n",
       "      <th>1962-01-31</th>\n",
       "      <td>17.653403</td>\n",
       "      <td>0.116683</td>\n",
       "      <td>17.424709</td>\n",
       "      <td>17.882098</td>\n",
       "    </tr>\n",
       "    <tr>\n",
       "      <th>1962-02-28</th>\n",
       "      <td>17.767615</td>\n",
       "      <td>0.123642</td>\n",
       "      <td>17.525281</td>\n",
       "      <td>18.009949</td>\n",
       "    </tr>\n",
       "    <tr>\n",
       "      <th>1962-03-31</th>\n",
       "      <td>17.794010</td>\n",
       "      <td>0.130094</td>\n",
       "      <td>17.539030</td>\n",
       "      <td>18.048990</td>\n",
       "    </tr>\n",
       "    <tr>\n",
       "      <th>1962-04-30</th>\n",
       "      <td>17.826132</td>\n",
       "      <td>0.136280</td>\n",
       "      <td>17.559029</td>\n",
       "      <td>18.093236</td>\n",
       "    </tr>\n",
       "    <tr>\n",
       "      <th>1962-05-31</th>\n",
       "      <td>17.957887</td>\n",
       "      <td>0.142186</td>\n",
       "      <td>17.679208</td>\n",
       "      <td>18.236565</td>\n",
       "    </tr>\n",
       "    <tr>\n",
       "      <th>1962-06-30</th>\n",
       "      <td>18.091690</td>\n",
       "      <td>0.147859</td>\n",
       "      <td>17.801892</td>\n",
       "      <td>18.381488</td>\n",
       "    </tr>\n",
       "    <tr>\n",
       "      <th>1962-07-31</th>\n",
       "      <td>18.087493</td>\n",
       "      <td>0.153321</td>\n",
       "      <td>17.786989</td>\n",
       "      <td>18.387997</td>\n",
       "    </tr>\n",
       "    <tr>\n",
       "      <th>1962-08-31</th>\n",
       "      <td>17.915304</td>\n",
       "      <td>0.158596</td>\n",
       "      <td>17.604461</td>\n",
       "      <td>18.226146</td>\n",
       "    </tr>\n",
       "    <tr>\n",
       "      <th>1962-09-30</th>\n",
       "      <td>17.803382</td>\n",
       "      <td>0.163701</td>\n",
       "      <td>17.482534</td>\n",
       "      <td>18.124230</td>\n",
       "    </tr>\n",
       "    <tr>\n",
       "      <th>1962-10-31</th>\n",
       "      <td>17.662779</td>\n",
       "      <td>0.168651</td>\n",
       "      <td>17.332229</td>\n",
       "      <td>17.993329</td>\n",
       "    </tr>\n",
       "    <tr>\n",
       "      <th>1962-11-30</th>\n",
       "      <td>17.763869</td>\n",
       "      <td>0.173460</td>\n",
       "      <td>17.423893</td>\n",
       "      <td>18.103845</td>\n",
       "    </tr>\n",
       "    <tr>\n",
       "      <th>1962-12-31</th>\n",
       "      <td>17.798254</td>\n",
       "      <td>0.182363</td>\n",
       "      <td>17.440829</td>\n",
       "      <td>18.155680</td>\n",
       "    </tr>\n",
       "    <tr>\n",
       "      <th>1963-01-31</th>\n",
       "      <td>17.744290</td>\n",
       "      <td>0.189508</td>\n",
       "      <td>17.372861</td>\n",
       "      <td>18.115719</td>\n",
       "    </tr>\n",
       "    <tr>\n",
       "      <th>1963-02-28</th>\n",
       "      <td>17.857331</td>\n",
       "      <td>0.196773</td>\n",
       "      <td>17.471663</td>\n",
       "      <td>18.242999</td>\n",
       "    </tr>\n",
       "    <tr>\n",
       "      <th>1963-03-31</th>\n",
       "      <td>17.883456</td>\n",
       "      <td>0.203667</td>\n",
       "      <td>17.484275</td>\n",
       "      <td>18.282636</td>\n",
       "    </tr>\n",
       "    <tr>\n",
       "      <th>1963-04-30</th>\n",
       "      <td>17.915249</td>\n",
       "      <td>0.210368</td>\n",
       "      <td>17.502935</td>\n",
       "      <td>18.327563</td>\n",
       "    </tr>\n",
       "    <tr>\n",
       "      <th>1963-05-31</th>\n",
       "      <td>18.045653</td>\n",
       "      <td>0.216853</td>\n",
       "      <td>17.620629</td>\n",
       "      <td>18.470677</td>\n",
       "    </tr>\n",
       "    <tr>\n",
       "      <th>1963-06-30</th>\n",
       "      <td>18.178086</td>\n",
       "      <td>0.223152</td>\n",
       "      <td>17.740716</td>\n",
       "      <td>18.615455</td>\n",
       "    </tr>\n",
       "    <tr>\n",
       "      <th>1963-07-31</th>\n",
       "      <td>18.173931</td>\n",
       "      <td>0.229277</td>\n",
       "      <td>17.724557</td>\n",
       "      <td>18.623306</td>\n",
       "    </tr>\n",
       "    <tr>\n",
       "      <th>1963-08-31</th>\n",
       "      <td>18.003507</td>\n",
       "      <td>0.235243</td>\n",
       "      <td>17.542439</td>\n",
       "      <td>18.464574</td>\n",
       "    </tr>\n",
       "    <tr>\n",
       "      <th>1963-09-30</th>\n",
       "      <td>17.892732</td>\n",
       "      <td>0.241061</td>\n",
       "      <td>17.420260</td>\n",
       "      <td>18.365203</td>\n",
       "    </tr>\n",
       "    <tr>\n",
       "      <th>1963-10-31</th>\n",
       "      <td>17.753570</td>\n",
       "      <td>0.246742</td>\n",
       "      <td>17.269963</td>\n",
       "      <td>18.237176</td>\n",
       "    </tr>\n",
       "    <tr>\n",
       "      <th>1963-11-30</th>\n",
       "      <td>17.853624</td>\n",
       "      <td>0.252296</td>\n",
       "      <td>17.359133</td>\n",
       "      <td>18.348114</td>\n",
       "    </tr>\n",
       "    <tr>\n",
       "      <th>1963-12-31</th>\n",
       "      <td>17.887656</td>\n",
       "      <td>0.261352</td>\n",
       "      <td>17.375415</td>\n",
       "      <td>18.399897</td>\n",
       "    </tr>\n",
       "    <tr>\n",
       "      <th>1964-01-31</th>\n",
       "      <td>17.834245</td>\n",
       "      <td>0.268959</td>\n",
       "      <td>17.307094</td>\n",
       "      <td>18.361395</td>\n",
       "    </tr>\n",
       "    <tr>\n",
       "      <th>1964-02-29</th>\n",
       "      <td>17.946128</td>\n",
       "      <td>0.276685</td>\n",
       "      <td>17.403835</td>\n",
       "      <td>18.488421</td>\n",
       "    </tr>\n",
       "    <tr>\n",
       "      <th>1964-03-31</th>\n",
       "      <td>17.971985</td>\n",
       "      <td>0.284104</td>\n",
       "      <td>17.415151</td>\n",
       "      <td>18.528819</td>\n",
       "    </tr>\n",
       "    <tr>\n",
       "      <th>1964-04-30</th>\n",
       "      <td>18.003452</td>\n",
       "      <td>0.291363</td>\n",
       "      <td>17.432392</td>\n",
       "      <td>18.574513</td>\n",
       "    </tr>\n",
       "    <tr>\n",
       "      <th>1964-05-31</th>\n",
       "      <td>18.132520</td>\n",
       "      <td>0.298436</td>\n",
       "      <td>17.547596</td>\n",
       "      <td>18.717445</td>\n",
       "    </tr>\n",
       "    <tr>\n",
       "      <th>1964-06-30</th>\n",
       "      <td>18.263596</td>\n",
       "      <td>0.305349</td>\n",
       "      <td>17.665123</td>\n",
       "      <td>18.862068</td>\n",
       "    </tr>\n",
       "    <tr>\n",
       "      <th>1964-07-31</th>\n",
       "      <td>18.259484</td>\n",
       "      <td>0.312107</td>\n",
       "      <td>17.647765</td>\n",
       "      <td>18.871203</td>\n",
       "    </tr>\n",
       "    <tr>\n",
       "      <th>1964-08-31</th>\n",
       "      <td>18.090806</td>\n",
       "      <td>0.318723</td>\n",
       "      <td>17.466120</td>\n",
       "      <td>18.715491</td>\n",
       "    </tr>\n",
       "    <tr>\n",
       "      <th>1964-09-30</th>\n",
       "      <td>17.981166</td>\n",
       "      <td>0.325204</td>\n",
       "      <td>17.343778</td>\n",
       "      <td>18.618553</td>\n",
       "    </tr>\n",
       "    <tr>\n",
       "      <th>1964-10-31</th>\n",
       "      <td>17.843430</td>\n",
       "      <td>0.331558</td>\n",
       "      <td>17.193588</td>\n",
       "      <td>18.493271</td>\n",
       "    </tr>\n",
       "    <tr>\n",
       "      <th>1964-11-30</th>\n",
       "      <td>17.942458</td>\n",
       "      <td>0.337793</td>\n",
       "      <td>17.280397</td>\n",
       "      <td>18.604520</td>\n",
       "    </tr>\n",
       "    <tr>\n",
       "      <th>1964-12-31</th>\n",
       "      <td>17.976142</td>\n",
       "      <td>0.347137</td>\n",
       "      <td>17.295766</td>\n",
       "      <td>18.656519</td>\n",
       "    </tr>\n",
       "    <tr>\n",
       "      <th>1965-01-31</th>\n",
       "      <td>17.923278</td>\n",
       "      <td>0.355223</td>\n",
       "      <td>17.227053</td>\n",
       "      <td>18.619503</td>\n",
       "    </tr>\n",
       "    <tr>\n",
       "      <th>1965-02-28</th>\n",
       "      <td>18.034015</td>\n",
       "      <td>0.363422</td>\n",
       "      <td>17.321721</td>\n",
       "      <td>18.746309</td>\n",
       "    </tr>\n",
       "    <tr>\n",
       "      <th>1965-03-31</th>\n",
       "      <td>18.059607</td>\n",
       "      <td>0.371353</td>\n",
       "      <td>17.331768</td>\n",
       "      <td>18.787445</td>\n",
       "    </tr>\n",
       "    <tr>\n",
       "      <th>1965-04-30</th>\n",
       "      <td>18.090752</td>\n",
       "      <td>0.379144</td>\n",
       "      <td>17.347644</td>\n",
       "      <td>18.833860</td>\n",
       "    </tr>\n",
       "    <tr>\n",
       "      <th>1965-05-31</th>\n",
       "      <td>18.218497</td>\n",
       "      <td>0.386770</td>\n",
       "      <td>17.460442</td>\n",
       "      <td>18.976552</td>\n",
       "    </tr>\n",
       "    <tr>\n",
       "      <th>1965-06-30</th>\n",
       "      <td>18.348230</td>\n",
       "      <td>0.394251</td>\n",
       "      <td>17.575512</td>\n",
       "      <td>19.120947</td>\n",
       "    </tr>\n",
       "    <tr>\n",
       "      <th>1965-07-31</th>\n",
       "      <td>18.344160</td>\n",
       "      <td>0.401592</td>\n",
       "      <td>17.557054</td>\n",
       "      <td>19.131265</td>\n",
       "    </tr>\n",
       "    <tr>\n",
       "      <th>1965-08-31</th>\n",
       "      <td>18.177210</td>\n",
       "      <td>0.408801</td>\n",
       "      <td>17.375974</td>\n",
       "      <td>18.978446</td>\n",
       "    </tr>\n",
       "    <tr>\n",
       "      <th>1965-09-30</th>\n",
       "      <td>18.068694</td>\n",
       "      <td>0.415886</td>\n",
       "      <td>17.253573</td>\n",
       "      <td>18.883814</td>\n",
       "    </tr>\n",
       "    <tr>\n",
       "      <th>1965-10-31</th>\n",
       "      <td>17.932369</td>\n",
       "      <td>0.422851</td>\n",
       "      <td>17.103596</td>\n",
       "      <td>18.761142</td>\n",
       "    </tr>\n",
       "    <tr>\n",
       "      <th>1965-11-30</th>\n",
       "      <td>18.030383</td>\n",
       "      <td>0.429704</td>\n",
       "      <td>17.188179</td>\n",
       "      <td>18.872587</td>\n",
       "    </tr>\n",
       "    <tr>\n",
       "      <th>1965-12-31</th>\n",
       "      <td>18.063722</td>\n",
       "      <td>0.439375</td>\n",
       "      <td>17.202562</td>\n",
       "      <td>18.924881</td>\n",
       "    </tr>\n",
       "    <tr>\n",
       "      <th>1966-01-31</th>\n",
       "      <td>18.011399</td>\n",
       "      <td>0.447922</td>\n",
       "      <td>17.133488</td>\n",
       "      <td>18.889311</td>\n",
       "    </tr>\n",
       "    <tr>\n",
       "      <th>1966-02-28</th>\n",
       "      <td>18.121001</td>\n",
       "      <td>0.456576</td>\n",
       "      <td>17.226129</td>\n",
       "      <td>19.015873</td>\n",
       "    </tr>\n",
       "    <tr>\n",
       "      <th>1966-03-31</th>\n",
       "      <td>18.146331</td>\n",
       "      <td>0.464989</td>\n",
       "      <td>17.234969</td>\n",
       "      <td>19.057692</td>\n",
       "    </tr>\n",
       "    <tr>\n",
       "      <th>1966-04-30</th>\n",
       "      <td>18.177157</td>\n",
       "      <td>0.473276</td>\n",
       "      <td>17.249553</td>\n",
       "      <td>19.104760</td>\n",
       "    </tr>\n",
       "    <tr>\n",
       "      <th>1966-05-31</th>\n",
       "      <td>18.303593</td>\n",
       "      <td>0.481413</td>\n",
       "      <td>17.360041</td>\n",
       "      <td>19.247146</td>\n",
       "    </tr>\n",
       "    <tr>\n",
       "      <th>1966-06-30</th>\n",
       "      <td>18.431996</td>\n",
       "      <td>0.489417</td>\n",
       "      <td>17.472756</td>\n",
       "      <td>19.391237</td>\n",
       "    </tr>\n",
       "    <tr>\n",
       "      <th>1966-07-31</th>\n",
       "      <td>18.427968</td>\n",
       "      <td>0.497292</td>\n",
       "      <td>17.453293</td>\n",
       "      <td>19.402643</td>\n",
       "    </tr>\n",
       "    <tr>\n",
       "      <th>1966-08-31</th>\n",
       "      <td>18.262729</td>\n",
       "      <td>0.505044</td>\n",
       "      <td>17.272860</td>\n",
       "      <td>19.252598</td>\n",
       "    </tr>\n",
       "    <tr>\n",
       "      <th>1966-09-30</th>\n",
       "      <td>18.155325</td>\n",
       "      <td>0.512679</td>\n",
       "      <td>17.150491</td>\n",
       "      <td>19.160158</td>\n",
       "    </tr>\n",
       "    <tr>\n",
       "      <th>1966-10-31</th>\n",
       "      <td>18.020397</td>\n",
       "      <td>0.520202</td>\n",
       "      <td>17.000819</td>\n",
       "      <td>19.039974</td>\n",
       "    </tr>\n",
       "    <tr>\n",
       "      <th>1966-11-30</th>\n",
       "      <td>18.117406</td>\n",
       "      <td>0.527618</td>\n",
       "      <td>17.083294</td>\n",
       "      <td>19.151519</td>\n",
       "    </tr>\n",
       "    <tr>\n",
       "      <th>1966-12-31</th>\n",
       "      <td>18.150404</td>\n",
       "      <td>0.537623</td>\n",
       "      <td>17.096682</td>\n",
       "      <td>19.204125</td>\n",
       "    </tr>\n",
       "    <tr>\n",
       "      <th>1967-01-31</th>\n",
       "      <td>18.098617</td>\n",
       "      <td>0.546606</td>\n",
       "      <td>17.027289</td>\n",
       "      <td>19.169946</td>\n",
       "    </tr>\n",
       "    <tr>\n",
       "      <th>1967-02-28</th>\n",
       "      <td>18.207096</td>\n",
       "      <td>0.555689</td>\n",
       "      <td>17.117966</td>\n",
       "      <td>19.296226</td>\n",
       "    </tr>\n",
       "    <tr>\n",
       "      <th>1967-03-31</th>\n",
       "      <td>18.232166</td>\n",
       "      <td>0.564553</td>\n",
       "      <td>17.125663</td>\n",
       "      <td>19.338669</td>\n",
       "    </tr>\n",
       "    <tr>\n",
       "      <th>1967-04-30</th>\n",
       "      <td>18.262676</td>\n",
       "      <td>0.573301</td>\n",
       "      <td>17.139027</td>\n",
       "      <td>19.386326</td>\n",
       "    </tr>\n",
       "    <tr>\n",
       "      <th>1967-05-31</th>\n",
       "      <td>18.387817</td>\n",
       "      <td>0.581912</td>\n",
       "      <td>17.247292</td>\n",
       "      <td>19.528343</td>\n",
       "    </tr>\n",
       "    <tr>\n",
       "      <th>1967-06-30</th>\n",
       "      <td>18.514905</td>\n",
       "      <td>0.590398</td>\n",
       "      <td>17.357745</td>\n",
       "      <td>19.672064</td>\n",
       "    </tr>\n",
       "    <tr>\n",
       "      <th>1967-07-31</th>\n",
       "      <td>18.510918</td>\n",
       "      <td>0.598764</td>\n",
       "      <td>17.337361</td>\n",
       "      <td>19.684474</td>\n",
       "    </tr>\n",
       "    <tr>\n",
       "      <th>1967-08-31</th>\n",
       "      <td>18.347372</td>\n",
       "      <td>0.607015</td>\n",
       "      <td>17.157644</td>\n",
       "      <td>19.537100</td>\n",
       "    </tr>\n",
       "    <tr>\n",
       "      <th>1967-09-30</th>\n",
       "      <td>18.241068</td>\n",
       "      <td>0.615155</td>\n",
       "      <td>17.035386</td>\n",
       "      <td>19.446750</td>\n",
       "    </tr>\n",
       "    <tr>\n",
       "      <th>1967-10-31</th>\n",
       "      <td>18.107523</td>\n",
       "      <td>0.623189</td>\n",
       "      <td>16.886095</td>\n",
       "      <td>19.328951</td>\n",
       "    </tr>\n",
       "    <tr>\n",
       "      <th>1967-11-30</th>\n",
       "      <td>18.203538</td>\n",
       "      <td>0.631121</td>\n",
       "      <td>16.966565</td>\n",
       "      <td>19.440512</td>\n",
       "    </tr>\n",
       "    <tr>\n",
       "      <th>1967-12-31</th>\n",
       "      <td>18.236197</td>\n",
       "      <td>0.641454</td>\n",
       "      <td>16.978970</td>\n",
       "      <td>19.493425</td>\n",
       "    </tr>\n",
       "    <tr>\n",
       "      <th>1968-01-31</th>\n",
       "      <td>18.184942</td>\n",
       "      <td>0.650847</td>\n",
       "      <td>16.909304</td>\n",
       "      <td>19.460579</td>\n",
       "    </tr>\n",
       "    <tr>\n",
       "      <th>1968-02-29</th>\n",
       "      <td>18.292309</td>\n",
       "      <td>0.660335</td>\n",
       "      <td>16.998077</td>\n",
       "      <td>19.586541</td>\n",
       "    </tr>\n",
       "    <tr>\n",
       "      <th>1968-03-31</th>\n",
       "      <td>18.317122</td>\n",
       "      <td>0.669619</td>\n",
       "      <td>17.004693</td>\n",
       "      <td>19.629552</td>\n",
       "    </tr>\n",
       "    <tr>\n",
       "      <th>1968-04-30</th>\n",
       "      <td>18.347320</td>\n",
       "      <td>0.678797</td>\n",
       "      <td>17.016901</td>\n",
       "      <td>19.677738</td>\n",
       "    </tr>\n",
       "    <tr>\n",
       "      <th>1968-05-31</th>\n",
       "      <td>18.471178</td>\n",
       "      <td>0.687847</td>\n",
       "      <td>17.123024</td>\n",
       "      <td>19.819333</td>\n",
       "    </tr>\n",
       "    <tr>\n",
       "      <th>1968-06-30</th>\n",
       "      <td>18.596963</td>\n",
       "      <td>0.696780</td>\n",
       "      <td>17.231299</td>\n",
       "      <td>19.962628</td>\n",
       "    </tr>\n",
       "    <tr>\n",
       "      <th>1968-07-31</th>\n",
       "      <td>18.593017</td>\n",
       "      <td>0.705601</td>\n",
       "      <td>17.210066</td>\n",
       "      <td>19.975969</td>\n",
       "    </tr>\n",
       "    <tr>\n",
       "      <th>1968-08-31</th>\n",
       "      <td>18.431147</td>\n",
       "      <td>0.714312</td>\n",
       "      <td>17.031121</td>\n",
       "      <td>19.831173</td>\n",
       "    </tr>\n",
       "    <tr>\n",
       "      <th>1968-09-30</th>\n",
       "      <td>18.325933</td>\n",
       "      <td>0.722918</td>\n",
       "      <td>16.909039</td>\n",
       "      <td>19.742827</td>\n",
       "    </tr>\n",
       "    <tr>\n",
       "      <th>1968-10-31</th>\n",
       "      <td>18.193756</td>\n",
       "      <td>0.731424</td>\n",
       "      <td>16.760192</td>\n",
       "      <td>19.627319</td>\n",
       "    </tr>\n",
       "    <tr>\n",
       "      <th>1968-11-30</th>\n",
       "      <td>18.288788</td>\n",
       "      <td>0.739831</td>\n",
       "      <td>16.838746</td>\n",
       "      <td>19.738829</td>\n",
       "    </tr>\n",
       "    <tr>\n",
       "      <th>1968-12-31</th>\n",
       "      <td>18.321112</td>\n",
       "      <td>0.750483</td>\n",
       "      <td>16.850192</td>\n",
       "      <td>19.792032</td>\n",
       "    </tr>\n",
       "    <tr>\n",
       "      <th>1969-01-31</th>\n",
       "      <td>18.270382</td>\n",
       "      <td>0.760262</td>\n",
       "      <td>16.780296</td>\n",
       "      <td>19.760467</td>\n",
       "    </tr>\n",
       "    <tr>\n",
       "      <th>1969-02-28</th>\n",
       "      <td>18.376648</td>\n",
       "      <td>0.770129</td>\n",
       "      <td>16.867223</td>\n",
       "      <td>19.886074</td>\n",
       "    </tr>\n",
       "    <tr>\n",
       "      <th>1969-03-31</th>\n",
       "      <td>18.401208</td>\n",
       "      <td>0.779808</td>\n",
       "      <td>16.872812</td>\n",
       "      <td>19.929603</td>\n",
       "    </tr>\n",
       "    <tr>\n",
       "      <th>1969-04-30</th>\n",
       "      <td>18.431096</td>\n",
       "      <td>0.789387</td>\n",
       "      <td>16.883925</td>\n",
       "      <td>19.978266</td>\n",
       "    </tr>\n",
       "    <tr>\n",
       "      <th>1969-05-31</th>\n",
       "      <td>18.553685</td>\n",
       "      <td>0.798846</td>\n",
       "      <td>16.987976</td>\n",
       "      <td>20.119394</td>\n",
       "    </tr>\n",
       "    <tr>\n",
       "      <th>1969-06-30</th>\n",
       "      <td>18.678181</td>\n",
       "      <td>0.808195</td>\n",
       "      <td>17.094148</td>\n",
       "      <td>20.262215</td>\n",
       "    </tr>\n",
       "    <tr>\n",
       "      <th>1969-07-31</th>\n",
       "      <td>18.674276</td>\n",
       "      <td>0.817438</td>\n",
       "      <td>17.072128</td>\n",
       "      <td>20.276424</td>\n",
       "    </tr>\n",
       "    <tr>\n",
       "      <th>1969-08-31</th>\n",
       "      <td>18.514064</td>\n",
       "      <td>0.826577</td>\n",
       "      <td>16.894004</td>\n",
       "      <td>20.134124</td>\n",
       "    </tr>\n",
       "    <tr>\n",
       "      <th>1969-09-30</th>\n",
       "      <td>18.409928</td>\n",
       "      <td>0.835616</td>\n",
       "      <td>16.772151</td>\n",
       "      <td>20.047704</td>\n",
       "    </tr>\n",
       "    <tr>\n",
       "      <th>1969-10-31</th>\n",
       "      <td>18.279105</td>\n",
       "      <td>0.844558</td>\n",
       "      <td>16.623802</td>\n",
       "      <td>19.934408</td>\n",
       "    </tr>\n",
       "    <tr>\n",
       "      <th>1969-11-30</th>\n",
       "      <td>18.373163</td>\n",
       "      <td>0.853406</td>\n",
       "      <td>16.700517</td>\n",
       "      <td>20.045809</td>\n",
       "    </tr>\n",
       "    <tr>\n",
       "      <th>1969-12-31</th>\n",
       "      <td>18.405156</td>\n",
       "      <td>0.864365</td>\n",
       "      <td>16.711032</td>\n",
       "      <td>20.099281</td>\n",
       "    </tr>\n",
       "    <tr>\n",
       "      <th>1970-01-31</th>\n",
       "      <td>18.354946</td>\n",
       "      <td>0.874507</td>\n",
       "      <td>16.640944</td>\n",
       "      <td>20.068947</td>\n",
       "    </tr>\n",
       "    <tr>\n",
       "      <th>1970-02-28</th>\n",
       "      <td>18.460124</td>\n",
       "      <td>0.884732</td>\n",
       "      <td>16.726081</td>\n",
       "      <td>20.194167</td>\n",
       "    </tr>\n",
       "    <tr>\n",
       "      <th>1970-03-31</th>\n",
       "      <td>18.484431</td>\n",
       "      <td>0.894781</td>\n",
       "      <td>16.730693</td>\n",
       "      <td>20.238170</td>\n",
       "    </tr>\n",
       "    <tr>\n",
       "      <th>1970-04-30</th>\n",
       "      <td>18.514013</td>\n",
       "      <td>0.904736</td>\n",
       "      <td>16.740764</td>\n",
       "      <td>20.287263</td>\n",
       "    </tr>\n",
       "    <tr>\n",
       "      <th>1970-05-31</th>\n",
       "      <td>18.635347</td>\n",
       "      <td>0.914577</td>\n",
       "      <td>16.842808</td>\n",
       "      <td>20.427885</td>\n",
       "    </tr>\n",
       "    <tr>\n",
       "      <th>1970-06-30</th>\n",
       "      <td>18.758567</td>\n",
       "      <td>0.924315</td>\n",
       "      <td>16.946943</td>\n",
       "      <td>20.570192</td>\n",
       "    </tr>\n",
       "    <tr>\n",
       "      <th>1970-07-31</th>\n",
       "      <td>18.754702</td>\n",
       "      <td>0.933951</td>\n",
       "      <td>16.924191</td>\n",
       "      <td>20.585213</td>\n",
       "    </tr>\n",
       "    <tr>\n",
       "      <th>1970-08-31</th>\n",
       "      <td>18.596132</td>\n",
       "      <td>0.943489</td>\n",
       "      <td>16.746927</td>\n",
       "      <td>20.445336</td>\n",
       "    </tr>\n",
       "    <tr>\n",
       "      <th>1970-09-30</th>\n",
       "      <td>18.493062</td>\n",
       "      <td>0.952931</td>\n",
       "      <td>16.625351</td>\n",
       "      <td>20.360773</td>\n",
       "    </tr>\n",
       "    <tr>\n",
       "      <th>1970-10-31</th>\n",
       "      <td>18.363580</td>\n",
       "      <td>0.962281</td>\n",
       "      <td>16.477544</td>\n",
       "      <td>20.249617</td>\n",
       "    </tr>\n",
       "    <tr>\n",
       "      <th>1970-11-30</th>\n",
       "      <td>18.456675</td>\n",
       "      <td>0.971541</td>\n",
       "      <td>16.552489</td>\n",
       "      <td>20.360860</td>\n",
       "    </tr>\n",
       "  </tbody>\n",
       "</table>\n",
       "</div>"
      ],
      "text/plain": [
       "y                mean   mean_se  mean_ci_lower  mean_ci_upper\n",
       "1960-12-31  17.616727  0.036901      17.544403      17.689052\n",
       "1961-01-31  17.561557  0.045014      17.473330      17.649784\n",
       "1961-02-28  17.676976  0.053619      17.571885      17.782066\n",
       "1961-03-31  17.703637  0.060546      17.584969      17.822304\n",
       "1961-04-30  17.736094  0.066887      17.604999      17.867189\n",
       "1961-05-31  17.869212  0.072641      17.726839      18.011584\n",
       "1961-06-30  18.004401  0.077981      17.851561      18.157241\n",
       "1961-07-31  18.000160  0.082976      17.837530      18.162789\n",
       "1961-08-31  17.826188  0.087687      17.654324      17.998052\n",
       "1961-09-30  17.713107  0.092158      17.532481      17.893733\n",
       "1961-10-31  17.571049  0.096421      17.382066      17.760031\n",
       "1961-11-30  17.673185  0.100504      17.476201      17.870170\n",
       "1961-12-31  17.707926  0.109811      17.492702      17.923151\n",
       "1962-01-31  17.653403  0.116683      17.424709      17.882098\n",
       "1962-02-28  17.767615  0.123642      17.525281      18.009949\n",
       "1962-03-31  17.794010  0.130094      17.539030      18.048990\n",
       "1962-04-30  17.826132  0.136280      17.559029      18.093236\n",
       "1962-05-31  17.957887  0.142186      17.679208      18.236565\n",
       "1962-06-30  18.091690  0.147859      17.801892      18.381488\n",
       "1962-07-31  18.087493  0.153321      17.786989      18.387997\n",
       "1962-08-31  17.915304  0.158596      17.604461      18.226146\n",
       "1962-09-30  17.803382  0.163701      17.482534      18.124230\n",
       "1962-10-31  17.662779  0.168651      17.332229      17.993329\n",
       "1962-11-30  17.763869  0.173460      17.423893      18.103845\n",
       "1962-12-31  17.798254  0.182363      17.440829      18.155680\n",
       "1963-01-31  17.744290  0.189508      17.372861      18.115719\n",
       "1963-02-28  17.857331  0.196773      17.471663      18.242999\n",
       "1963-03-31  17.883456  0.203667      17.484275      18.282636\n",
       "1963-04-30  17.915249  0.210368      17.502935      18.327563\n",
       "1963-05-31  18.045653  0.216853      17.620629      18.470677\n",
       "1963-06-30  18.178086  0.223152      17.740716      18.615455\n",
       "1963-07-31  18.173931  0.229277      17.724557      18.623306\n",
       "1963-08-31  18.003507  0.235243      17.542439      18.464574\n",
       "1963-09-30  17.892732  0.241061      17.420260      18.365203\n",
       "1963-10-31  17.753570  0.246742      17.269963      18.237176\n",
       "1963-11-30  17.853624  0.252296      17.359133      18.348114\n",
       "1963-12-31  17.887656  0.261352      17.375415      18.399897\n",
       "1964-01-31  17.834245  0.268959      17.307094      18.361395\n",
       "1964-02-29  17.946128  0.276685      17.403835      18.488421\n",
       "1964-03-31  17.971985  0.284104      17.415151      18.528819\n",
       "1964-04-30  18.003452  0.291363      17.432392      18.574513\n",
       "1964-05-31  18.132520  0.298436      17.547596      18.717445\n",
       "1964-06-30  18.263596  0.305349      17.665123      18.862068\n",
       "1964-07-31  18.259484  0.312107      17.647765      18.871203\n",
       "1964-08-31  18.090806  0.318723      17.466120      18.715491\n",
       "1964-09-30  17.981166  0.325204      17.343778      18.618553\n",
       "1964-10-31  17.843430  0.331558      17.193588      18.493271\n",
       "1964-11-30  17.942458  0.337793      17.280397      18.604520\n",
       "1964-12-31  17.976142  0.347137      17.295766      18.656519\n",
       "1965-01-31  17.923278  0.355223      17.227053      18.619503\n",
       "1965-02-28  18.034015  0.363422      17.321721      18.746309\n",
       "1965-03-31  18.059607  0.371353      17.331768      18.787445\n",
       "1965-04-30  18.090752  0.379144      17.347644      18.833860\n",
       "1965-05-31  18.218497  0.386770      17.460442      18.976552\n",
       "1965-06-30  18.348230  0.394251      17.575512      19.120947\n",
       "1965-07-31  18.344160  0.401592      17.557054      19.131265\n",
       "1965-08-31  18.177210  0.408801      17.375974      18.978446\n",
       "1965-09-30  18.068694  0.415886      17.253573      18.883814\n",
       "1965-10-31  17.932369  0.422851      17.103596      18.761142\n",
       "1965-11-30  18.030383  0.429704      17.188179      18.872587\n",
       "1965-12-31  18.063722  0.439375      17.202562      18.924881\n",
       "1966-01-31  18.011399  0.447922      17.133488      18.889311\n",
       "1966-02-28  18.121001  0.456576      17.226129      19.015873\n",
       "1966-03-31  18.146331  0.464989      17.234969      19.057692\n",
       "1966-04-30  18.177157  0.473276      17.249553      19.104760\n",
       "1966-05-31  18.303593  0.481413      17.360041      19.247146\n",
       "1966-06-30  18.431996  0.489417      17.472756      19.391237\n",
       "1966-07-31  18.427968  0.497292      17.453293      19.402643\n",
       "1966-08-31  18.262729  0.505044      17.272860      19.252598\n",
       "1966-09-30  18.155325  0.512679      17.150491      19.160158\n",
       "1966-10-31  18.020397  0.520202      17.000819      19.039974\n",
       "1966-11-30  18.117406  0.527618      17.083294      19.151519\n",
       "1966-12-31  18.150404  0.537623      17.096682      19.204125\n",
       "1967-01-31  18.098617  0.546606      17.027289      19.169946\n",
       "1967-02-28  18.207096  0.555689      17.117966      19.296226\n",
       "1967-03-31  18.232166  0.564553      17.125663      19.338669\n",
       "1967-04-30  18.262676  0.573301      17.139027      19.386326\n",
       "1967-05-31  18.387817  0.581912      17.247292      19.528343\n",
       "1967-06-30  18.514905  0.590398      17.357745      19.672064\n",
       "1967-07-31  18.510918  0.598764      17.337361      19.684474\n",
       "1967-08-31  18.347372  0.607015      17.157644      19.537100\n",
       "1967-09-30  18.241068  0.615155      17.035386      19.446750\n",
       "1967-10-31  18.107523  0.623189      16.886095      19.328951\n",
       "1967-11-30  18.203538  0.631121      16.966565      19.440512\n",
       "1967-12-31  18.236197  0.641454      16.978970      19.493425\n",
       "1968-01-31  18.184942  0.650847      16.909304      19.460579\n",
       "1968-02-29  18.292309  0.660335      16.998077      19.586541\n",
       "1968-03-31  18.317122  0.669619      17.004693      19.629552\n",
       "1968-04-30  18.347320  0.678797      17.016901      19.677738\n",
       "1968-05-31  18.471178  0.687847      17.123024      19.819333\n",
       "1968-06-30  18.596963  0.696780      17.231299      19.962628\n",
       "1968-07-31  18.593017  0.705601      17.210066      19.975969\n",
       "1968-08-31  18.431147  0.714312      17.031121      19.831173\n",
       "1968-09-30  18.325933  0.722918      16.909039      19.742827\n",
       "1968-10-31  18.193756  0.731424      16.760192      19.627319\n",
       "1968-11-30  18.288788  0.739831      16.838746      19.738829\n",
       "1968-12-31  18.321112  0.750483      16.850192      19.792032\n",
       "1969-01-31  18.270382  0.760262      16.780296      19.760467\n",
       "1969-02-28  18.376648  0.770129      16.867223      19.886074\n",
       "1969-03-31  18.401208  0.779808      16.872812      19.929603\n",
       "1969-04-30  18.431096  0.789387      16.883925      19.978266\n",
       "1969-05-31  18.553685  0.798846      16.987976      20.119394\n",
       "1969-06-30  18.678181  0.808195      17.094148      20.262215\n",
       "1969-07-31  18.674276  0.817438      17.072128      20.276424\n",
       "1969-08-31  18.514064  0.826577      16.894004      20.134124\n",
       "1969-09-30  18.409928  0.835616      16.772151      20.047704\n",
       "1969-10-31  18.279105  0.844558      16.623802      19.934408\n",
       "1969-11-30  18.373163  0.853406      16.700517      20.045809\n",
       "1969-12-31  18.405156  0.864365      16.711032      20.099281\n",
       "1970-01-31  18.354946  0.874507      16.640944      20.068947\n",
       "1970-02-28  18.460124  0.884732      16.726081      20.194167\n",
       "1970-03-31  18.484431  0.894781      16.730693      20.238170\n",
       "1970-04-30  18.514013  0.904736      16.740764      20.287263\n",
       "1970-05-31  18.635347  0.914577      16.842808      20.427885\n",
       "1970-06-30  18.758567  0.924315      16.946943      20.570192\n",
       "1970-07-31  18.754702  0.933951      16.924191      20.585213\n",
       "1970-08-31  18.596132  0.943489      16.746927      20.445336\n",
       "1970-09-30  18.493062  0.952931      16.625351      20.360773\n",
       "1970-10-31  18.363580  0.962281      16.477544      20.249617\n",
       "1970-11-30  18.456675  0.971541      16.552489      20.360860"
      ]
     },
     "execution_count": 130,
     "metadata": {},
     "output_type": "execute_result"
    }
   ],
   "source": [
    "pred_out_samp_index=pd.date_range(start=w.index[-1],periods=120,freq='M')\n",
    "df_res2=model_fit2.get_forecast(steps=120).summary_frame()\n",
    "df_res2=df_res2.set_index(pd.date_range(start='1960-12-31',periods=120,freq='M'))\n",
    "df_res2"
   ]
  },
  {
   "cell_type": "code",
   "execution_count": 132,
   "metadata": {},
   "outputs": [
    {
     "data": {
      "image/png": "[encoded data removed]",
      "text/plain": [
       "<Figure size 1080x720 with 1 Axes>"
      ]
     },
     "metadata": {
      "needs_background": "light"
     },
     "output_type": "display_data"
    }
   ],
   "source": [
    "plt.subplots(figsize=(15,10))\n",
    "plt.plot(w,label='Data')\n",
    "plt.plot(pred_in_samp2, color = 'red',label='In-Sample Prediction')\n",
    "#Get the last point from the data \n",
    "r=w.rename(columns={'#CigSales':'mean'}).iloc[[-1]]\n",
    "#Add the last point from the data to the prediction plot for continuity \n",
    "plt.plot(pd.concat([r,df_res2[['mean']]]),color='purple',label=' Forecast')\n",
    "plt.fill_between(df_res2.index,df_res2['mean'], df_res2['mean_ci_lower'],color='blue',alpha=0.2)\n",
    "plt.fill_between(df_res2.index,df_res2['mean'], df_res2['mean_ci_upper'],color='blue',alpha=0.2)\n",
    "plt.title('10 Year Prediction of Cigarette Sales, SARIMAX Model')\n",
    "plt.legend()\n",
    "plt.show()"
   ]
  },
  {
   "cell_type": "markdown",
   "metadata": {},
   "source": [
    "### 3f. Application: Forecasting\n",
    "\n",
    "We've done well: our model fits pretty closely to our existing data. Let's now use it to forecast what's likely to occur in future."
   ]
  },
  {
   "cell_type": "markdown",
   "metadata": {},
   "source": [
    "This is done in the graphs above. "
   ]
  },
  {
   "cell_type": "markdown",
   "metadata": {},
   "source": [
    "## 4. Evaluating and Concluding\n",
    "\n",
    "Our model captures the centre of a line that's increasing at a remarkable rate. Cowboy Cigarettes sell more cigarettes in the summer, perhaps due to the good weather, disposable income and time off that people enjoy, and the least in the winter, when people might be spending less and enjoying less free time outdoors. \n",
    "\n",
    "Remarkably, our ARIMA model made predictions using just one variable. We can only speculate, however, on the causes of the behaviour predicted by our model. We should also take heed that spikes in data, due to sudden unusual circumstances like wars, are not handled well by ARIMA; and the outbreak of the Vietnam War in the 1960s would likely cause our model some distress.  \n",
    "\n",
    "We could suggest to our employers that, if they are interested in discovering the causes of the cigarette sales trajectory, they execute a regression analysis in addition to the time series one. "
   ]
  }
 ],
 "metadata": {
  "kernelspec": {
   "display_name": "Python 3",
   "language": "python",
   "name": "python3"
  },
  "language_info": {
   "codemirror_mode": {
    "name": "ipython",
    "version": 3
   },
   "file_extension": ".py",
   "mimetype": "text/x-python",
   "name": "python",
   "nbconvert_exporter": "python",
   "pygments_lexer": "ipython3",
   "version": "3.8.5"
  }
 },
 "nbformat": 4,
 "nbformat_minor": 2
}
